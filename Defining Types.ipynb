{
 "metadata": {
  "language": "Julia",
  "name": "",
  "signature": "sha256:c360c1ab1aeb8846a88796f642f1c0e9f24dfa64ad36c58d801b44d8b46cd904"
 },
 "nbformat": 3,
 "nbformat_minor": 0,
 "worksheets": [
  {
   "cells": [
    {
     "cell_type": "heading",
     "level": 2,
     "metadata": {},
     "source": [
      "User-defined types"
     ]
    },
    {
     "cell_type": "markdown",
     "metadata": {},
     "source": [
      "A user-defined \"composite type\" is a collection of data.\n",
      "Unlike in Python, types do not \"own\" methods (functions internal to the type).\n",
      "\n",
      "Rather, methods are defined separately, and are characterised by the types of *all* of their arguments; this is known as *multiple dispatch*. (*Dispatch* is the process of choosing which \"version\" or \"method\" of a given function to execute.)"
     ]
    },
    {
     "cell_type": "markdown",
     "metadata": {},
     "source": [
      "A simple, but useful, example, is that of defining a 2D vector type. (See also the `ImmutableArrays.jl` package; fixed-size arrays will later be incorporated into base Julia.)"
     ]
    },
    {
     "cell_type": "code",
     "collapsed": false,
     "input": [
      "@which 3//4"
     ],
     "language": "python",
     "metadata": {},
     "outputs": [
      {
       "html": [
        "//(n::<b>Integer</b>,d::<b>Integer</b>) at <a href=\"https://github.com/JuliaLang/julia/tree/7e7462150f72721caf0e6bd6e7e7e500d1efb187/base/rational.jl#L17\" target=\"_blank\">rational.jl:17</a>"
       ],
       "metadata": {},
       "output_type": "pyout",
       "prompt_number": 26,
       "text": [
        "//(n::Integer,d::Integer) at rational.jl:17"
       ]
      }
     ],
     "prompt_number": 26
    },
    {
     "cell_type": "code",
     "collapsed": false,
     "input": [
      "Rational(3)"
     ],
     "language": "python",
     "metadata": {},
     "outputs": [
      {
       "metadata": {},
       "output_type": "pyout",
       "prompt_number": 28,
       "text": [
        "3//1"
       ]
      }
     ],
     "prompt_number": 28
    },
    {
     "cell_type": "code",
     "collapsed": false,
     "input": [
      "6//4"
     ],
     "language": "python",
     "metadata": {},
     "outputs": [
      {
       "metadata": {},
       "output_type": "pyout",
       "prompt_number": 27,
       "text": [
        "3//2"
       ]
      }
     ],
     "prompt_number": 27
    },
    {
     "cell_type": "code",
     "collapsed": false,
     "input": [
      "im*im"
     ],
     "language": "python",
     "metadata": {},
     "outputs": [
      {
       "metadata": {},
       "output_type": "pyout",
       "prompt_number": 25,
       "text": [
        "-1 + 0im"
       ]
      }
     ],
     "prompt_number": 25
    },
    {
     "cell_type": "code",
     "collapsed": false,
     "input": [
      "immutable Vector2D   # type\n",
      "    x::Float64\n",
      "    y::Float64\n",
      "end "
     ],
     "language": "python",
     "metadata": {},
     "outputs": [],
     "prompt_number": 40
    },
    {
     "cell_type": "code",
     "collapsed": false,
     "input": [
      "v = Vector2D(3, 4)\n",
      "w = Vector2D(5, 6)"
     ],
     "language": "python",
     "metadata": {},
     "outputs": [
      {
       "metadata": {},
       "output_type": "pyout",
       "prompt_number": 32,
       "text": [
        "Vector2D(5.0,6.0)"
       ]
      }
     ],
     "prompt_number": 32
    },
    {
     "cell_type": "code",
     "collapsed": false,
     "input": [
      "v + w"
     ],
     "language": "python",
     "metadata": {},
     "outputs": [
      {
       "ename": "LoadError",
       "evalue": "no method +(Vector2D, Vector2D)\nwhile loading In[33], in expression starting on line 1",
       "output_type": "pyerr",
       "traceback": [
        "no method +(Vector2D, Vector2D)\nwhile loading In[33], in expression starting on line 1"
       ]
      }
     ],
     "prompt_number": 33
    },
    {
     "cell_type": "code",
     "collapsed": false,
     "input": [
      "+(v::Vector2D, w::Vector2D) = Vector2D(v.x+w.x, v.y+w.y)"
     ],
     "language": "python",
     "metadata": {},
     "outputs": [
      {
       "metadata": {},
       "output_type": "pyout",
       "prompt_number": 34,
       "text": [
        "+ (generic function with 127 methods)"
       ]
      }
     ],
     "prompt_number": 34
    },
    {
     "cell_type": "code",
     "collapsed": false,
     "input": [
      "v + w"
     ],
     "language": "python",
     "metadata": {},
     "outputs": [
      {
       "metadata": {},
       "output_type": "pyout",
       "prompt_number": 35,
       "text": [
        "Vector2D(8.0,10.0)"
       ]
      }
     ],
     "prompt_number": 35
    },
    {
     "cell_type": "code",
     "collapsed": false,
     "input": [
      "*(v::Vector2D, \u03b1::Number) = Vector2D(v.x*\u03b1, v.y*\u03b1)\n",
      "*(\u03b1::Number, v::Vector2D) = Vector2D(v.x*\u03b1, v.y*\u03b1)"
     ],
     "language": "python",
     "metadata": {},
     "outputs": [
      {
       "metadata": {},
       "output_type": "pyout",
       "prompt_number": 36,
       "text": [
        "* (generic function with 127 methods)"
       ]
      }
     ],
     "prompt_number": 36
    },
    {
     "cell_type": "code",
     "collapsed": false,
     "input": [
      "v * 3.5"
     ],
     "language": "python",
     "metadata": {},
     "outputs": [
      {
       "metadata": {},
       "output_type": "pyout",
       "prompt_number": 37,
       "text": [
        "Vector2D(10.5,14.0)"
       ]
      }
     ],
     "prompt_number": 37
    },
    {
     "cell_type": "code",
     "collapsed": false,
     "input": [
      "3.5 * v"
     ],
     "language": "python",
     "metadata": {},
     "outputs": [
      {
       "ename": "LoadError",
       "evalue": "no method *(Float64, Vector2D)\nwhile loading In[38], in expression starting on line 1",
       "output_type": "pyerr",
       "traceback": [
        "no method *(Float64, Vector2D)\nwhile loading In[38], in expression starting on line 1"
       ]
      }
     ],
     "prompt_number": 38
    },
    {
     "cell_type": "markdown",
     "metadata": {},
     "source": [
      "**Exercise**: \n",
      "Define mathematical operations on `Vector2D`. Define a particle with position and velocity in 2D. Define function `move` that acts on a particle to move it over a time $\\delta t$."
     ]
    },
    {
     "cell_type": "markdown",
     "metadata": {},
     "source": [
      "Here, we have used `immutable` instead of `type` for efficiency: the object is stored in an efficient packed form."
     ]
    },
    {
     "cell_type": "markdown",
     "metadata": {},
     "source": [
      "Implementing a `show` method customizes display:"
     ]
    },
    {
     "cell_type": "code",
     "collapsed": false,
     "input": [
      "show"
     ],
     "language": "python",
     "metadata": {},
     "outputs": [
      {
       "metadata": {},
       "output_type": "pyout",
       "prompt_number": 41,
       "text": [
        "show (generic function with 89 methods)"
       ]
      }
     ],
     "prompt_number": 41
    },
    {
     "cell_type": "code",
     "collapsed": false,
     "input": [
      "import Base.show\n",
      "\n",
      "show(io::IO, v::Vector2D) = print(io, \"[$(v.x), $(v.y)]\")"
     ],
     "language": "python",
     "metadata": {},
     "outputs": [
      {
       "metadata": {},
       "output_type": "pyout",
       "prompt_number": 5,
       "text": [
        "show (generic function with 90 methods)"
       ]
      }
     ],
     "prompt_number": 5
    },
    {
     "cell_type": "code",
     "collapsed": false,
     "input": [
      "v"
     ],
     "language": "python",
     "metadata": {},
     "outputs": [
      {
       "metadata": {},
       "output_type": "pyout",
       "prompt_number": 44,
       "text": [
        "[3.0, 4.0]"
       ]
      }
     ],
     "prompt_number": 44
    },
    {
     "cell_type": "code",
     "collapsed": false,
     "input": [
      "+(v1::Vector2D, v2::Vector2D) = Vector2D(v1.x+v2.x, v1.y+v2.y)\n",
      "\n",
      "*(v::Vector2D, lamb::Number)  = Vector2D(lamb*v.x, lamb*v.y)"
     ],
     "language": "python",
     "metadata": {},
     "outputs": [
      {
       "metadata": {},
       "output_type": "pyout",
       "prompt_number": 4,
       "text": [
        "* (generic function with 125 methods)"
       ]
      }
     ],
     "prompt_number": 4
    },
    {
     "cell_type": "markdown",
     "metadata": {},
     "source": [
      "We can confirm that the new method for the function `+` has indeed been defined:"
     ]
    },
    {
     "cell_type": "code",
     "collapsed": false,
     "input": [
      "methods(+)"
     ],
     "language": "python",
     "metadata": {},
     "outputs": [
      {
       "html": [
        "128 methods for generic function <b>+</b>:<ul><li> +(x::<b>Bool</b>) at <a href=\"https://github.com/JuliaLang/julia/tree/182f791fab02ddbbeccc26876b7e86af165482a6/base/bool.jl#L36\" target=\"_blank\">bool.jl:36</a><li> +(x::<b>Bool</b>,y::<b>Bool</b>) at <a href=\"https://github.com/JuliaLang/julia/tree/182f791fab02ddbbeccc26876b7e86af165482a6/base/bool.jl#L39\" target=\"_blank\">bool.jl:39</a><li> +(y::<b>FloatingPoint</b>,x::<b>Bool</b>) at <a href=\"https://github.com/JuliaLang/julia/tree/182f791fab02ddbbeccc26876b7e86af165482a6/base/bool.jl#L49\" target=\"_blank\">bool.jl:49</a><li> +(A::<b>BitArray{N}</b>,B::<b>BitArray{N}</b>) at <a href=\"https://github.com/JuliaLang/julia/tree/182f791fab02ddbbeccc26876b7e86af165482a6/base/bitarray.jl#L852\" target=\"_blank\">bitarray.jl:852</a><li> +(A::<b>Union(SubArray{Bool,N,A<:DenseArray{T,N},I<:(Union(Int64,Range{Int64})...,)},DenseArray{Bool,N})</b>,B::<b>Union(SubArray{Bool,N,A<:DenseArray{T,N},I<:(Union(Int64,Range{Int64})...,)},DenseArray{Bool,N})</b>) at <a href=\"https://github.com/JuliaLang/julia/tree/182f791fab02ddbbeccc26876b7e86af165482a6/base/array.jl#L792\" target=\"_blank\">array.jl:792</a><li> +<i>{S,T}</i>(A::<b>Union(DenseArray{S,N},SubArray{S,N,A<:DenseArray{T,N},I<:(Union(Int64,Range{Int64})...,)})</b>,B::<b>Union(SubArray{T,N,A<:DenseArray{T,N},I<:(Union(Int64,Range{Int64})...,)},DenseArray{T,N})</b>) at <a href=\"https://github.com/JuliaLang/julia/tree/182f791fab02ddbbeccc26876b7e86af165482a6/base/array.jl#L724\" target=\"_blank\">array.jl:724</a><li> +<i>{T<:Union(Int16,Int8,Int32)}</i>(x::<b>T<:Union(Int16,Int8,Int32)</b>,y::<b>T<:Union(Int16,Int8,Int32)</b>) at <a href=\"https://github.com/JuliaLang/julia/tree/182f791fab02ddbbeccc26876b7e86af165482a6/base/int.jl#L16\" target=\"_blank\">int.jl:16</a><li> +<i>{T<:Union(Uint8,Uint32,Uint16)}</i>(x::<b>T<:Union(Uint8,Uint32,Uint16)</b>,y::<b>T<:Union(Uint8,Uint32,Uint16)</b>) at <a href=\"https://github.com/JuliaLang/julia/tree/182f791fab02ddbbeccc26876b7e86af165482a6/base/int.jl#L20\" target=\"_blank\">int.jl:20</a><li> +(x::<b>Int64</b>,y::<b>Int64</b>) at <a href=\"https://github.com/JuliaLang/julia/tree/182f791fab02ddbbeccc26876b7e86af165482a6/base/int.jl#L33\" target=\"_blank\">int.jl:33</a><li> +(x::<b>Uint64</b>,y::<b>Uint64</b>) at <a href=\"https://github.com/JuliaLang/julia/tree/182f791fab02ddbbeccc26876b7e86af165482a6/base/int.jl#L34\" target=\"_blank\">int.jl:34</a><li> +(x::<b>Int128</b>,y::<b>Int128</b>) at <a href=\"https://github.com/JuliaLang/julia/tree/182f791fab02ddbbeccc26876b7e86af165482a6/base/int.jl#L35\" target=\"_blank\">int.jl:35</a><li> +(x::<b>Uint128</b>,y::<b>Uint128</b>) at <a href=\"https://github.com/JuliaLang/julia/tree/182f791fab02ddbbeccc26876b7e86af165482a6/base/int.jl#L36\" target=\"_blank\">int.jl:36</a><li> +(x::<b>Float32</b>,y::<b>Float32</b>) at <a href=\"https://github.com/JuliaLang/julia/tree/182f791fab02ddbbeccc26876b7e86af165482a6/base/float.jl#L124\" target=\"_blank\">float.jl:124</a><li> +(x::<b>Float64</b>,y::<b>Float64</b>) at <a href=\"https://github.com/JuliaLang/julia/tree/182f791fab02ddbbeccc26876b7e86af165482a6/base/float.jl#L125\" target=\"_blank\">float.jl:125</a><li> +(z::<b>Complex{T<:Real}</b>,w::<b>Complex{T<:Real}</b>) at <a href=\"https://github.com/JuliaLang/julia/tree/182f791fab02ddbbeccc26876b7e86af165482a6/base/complex.jl#L110\" target=\"_blank\">complex.jl:110</a><li> +(x::<b>Real</b>,z::<b>Complex{T<:Real}</b>) at <a href=\"https://github.com/JuliaLang/julia/tree/182f791fab02ddbbeccc26876b7e86af165482a6/base/complex.jl#L120\" target=\"_blank\">complex.jl:120</a><li> +(z::<b>Complex{T<:Real}</b>,x::<b>Real</b>) at <a href=\"https://github.com/JuliaLang/julia/tree/182f791fab02ddbbeccc26876b7e86af165482a6/base/complex.jl#L121\" target=\"_blank\">complex.jl:121</a><li> +(x::<b>Rational{T<:Integer}</b>,y::<b>Rational{T<:Integer}</b>) at <a href=\"https://github.com/JuliaLang/julia/tree/182f791fab02ddbbeccc26876b7e86af165482a6/base/rational.jl#L117\" target=\"_blank\">rational.jl:117</a><li> +(x::<b>Char</b>,y::<b>Char</b>) at <a href=\"https://github.com/JuliaLang/julia/tree/182f791fab02ddbbeccc26876b7e86af165482a6/base/char.jl#L23\" target=\"_blank\">char.jl:23</a><li> +(x::<b>Char</b>,y::<b>Integer</b>) at <a href=\"https://github.com/JuliaLang/julia/tree/182f791fab02ddbbeccc26876b7e86af165482a6/base/char.jl#L26\" target=\"_blank\">char.jl:26</a><li> +(x::<b>Integer</b>,y::<b>Char</b>) at <a href=\"https://github.com/JuliaLang/julia/tree/182f791fab02ddbbeccc26876b7e86af165482a6/base/char.jl#L27\" target=\"_blank\">char.jl:27</a><li> +(a::<b>Float16</b>,b::<b>Float16</b>) at <a href=\"https://github.com/JuliaLang/julia/tree/182f791fab02ddbbeccc26876b7e86af165482a6/base/float16.jl#L125\" target=\"_blank\">float16.jl:125</a><li> +(x::<b>BigInt</b>,y::<b>BigInt</b>) at <a href=\"https://github.com/JuliaLang/julia/tree/182f791fab02ddbbeccc26876b7e86af165482a6/base/gmp.jl#L193\" target=\"_blank\">gmp.jl:193</a><li> +(a::<b>BigInt</b>,b::<b>BigInt</b>,c::<b>BigInt</b>) at <a href=\"https://github.com/JuliaLang/julia/tree/182f791fab02ddbbeccc26876b7e86af165482a6/base/gmp.jl#L216\" target=\"_blank\">gmp.jl:216</a><li> +(a::<b>BigInt</b>,b::<b>BigInt</b>,c::<b>BigInt</b>,d::<b>BigInt</b>) at <a href=\"https://github.com/JuliaLang/julia/tree/182f791fab02ddbbeccc26876b7e86af165482a6/base/gmp.jl#L222\" target=\"_blank\">gmp.jl:222</a><li> +(a::<b>BigInt</b>,b::<b>BigInt</b>,c::<b>BigInt</b>,d::<b>BigInt</b>,e::<b>BigInt</b>) at <a href=\"https://github.com/JuliaLang/julia/tree/182f791fab02ddbbeccc26876b7e86af165482a6/base/gmp.jl#L229\" target=\"_blank\">gmp.jl:229</a><li> +(x::<b>BigInt</b>,c::<b>Uint64</b>) at <a href=\"https://github.com/JuliaLang/julia/tree/182f791fab02ddbbeccc26876b7e86af165482a6/base/gmp.jl#L241\" target=\"_blank\">gmp.jl:241</a><li> +(c::<b>Uint64</b>,x::<b>BigInt</b>) at <a href=\"https://github.com/JuliaLang/julia/tree/182f791fab02ddbbeccc26876b7e86af165482a6/base/gmp.jl#L245\" target=\"_blank\">gmp.jl:245</a><li> +(c::<b>Union(Uint8,Uint64,Uint32,Uint16)</b>,x::<b>BigInt</b>) at <a href=\"https://github.com/JuliaLang/julia/tree/182f791fab02ddbbeccc26876b7e86af165482a6/base/gmp.jl#L246\" target=\"_blank\">gmp.jl:246</a><li> +(x::<b>BigInt</b>,c::<b>Union(Uint8,Uint64,Uint32,Uint16)</b>) at <a href=\"https://github.com/JuliaLang/julia/tree/182f791fab02ddbbeccc26876b7e86af165482a6/base/gmp.jl#L247\" target=\"_blank\">gmp.jl:247</a><li> +(x::<b>BigInt</b>,c::<b>Union(Int16,Int8,Int32,Int64)</b>) at <a href=\"https://github.com/JuliaLang/julia/tree/182f791fab02ddbbeccc26876b7e86af165482a6/base/gmp.jl#L248\" target=\"_blank\">gmp.jl:248</a><li> +(c::<b>Union(Int16,Int8,Int32,Int64)</b>,x::<b>BigInt</b>) at <a href=\"https://github.com/JuliaLang/julia/tree/182f791fab02ddbbeccc26876b7e86af165482a6/base/gmp.jl#L249\" target=\"_blank\">gmp.jl:249</a><li> +(x::<b>BigFloat</b>,c::<b>Uint64</b>) at <a href=\"https://github.com/JuliaLang/julia/tree/182f791fab02ddbbeccc26876b7e86af165482a6/base/mpfr.jl#L140\" target=\"_blank\">mpfr.jl:140</a><li> +(c::<b>Uint64</b>,x::<b>BigFloat</b>) at <a href=\"https://github.com/JuliaLang/julia/tree/182f791fab02ddbbeccc26876b7e86af165482a6/base/mpfr.jl#L144\" target=\"_blank\">mpfr.jl:144</a><li> +(c::<b>Union(Uint8,Uint64,Uint32,Uint16)</b>,x::<b>BigFloat</b>) at <a href=\"https://github.com/JuliaLang/julia/tree/182f791fab02ddbbeccc26876b7e86af165482a6/base/mpfr.jl#L145\" target=\"_blank\">mpfr.jl:145</a><li> +(x::<b>BigFloat</b>,c::<b>Union(Uint8,Uint64,Uint32,Uint16)</b>) at <a href=\"https://github.com/JuliaLang/julia/tree/182f791fab02ddbbeccc26876b7e86af165482a6/base/mpfr.jl#L146\" target=\"_blank\">mpfr.jl:146</a><li> +(x::<b>BigFloat</b>,c::<b>Int64</b>) at <a href=\"https://github.com/JuliaLang/julia/tree/182f791fab02ddbbeccc26876b7e86af165482a6/base/mpfr.jl#L150\" target=\"_blank\">mpfr.jl:150</a><li> +(c::<b>Int64</b>,x::<b>BigFloat</b>) at <a href=\"https://github.com/JuliaLang/julia/tree/182f791fab02ddbbeccc26876b7e86af165482a6/base/mpfr.jl#L154\" target=\"_blank\">mpfr.jl:154</a><li> +(x::<b>BigFloat</b>,c::<b>Union(Int16,Int8,Int32,Int64)</b>) at <a href=\"https://github.com/JuliaLang/julia/tree/182f791fab02ddbbeccc26876b7e86af165482a6/base/mpfr.jl#L155\" target=\"_blank\">mpfr.jl:155</a><li> +(c::<b>Union(Int16,Int8,Int32,Int64)</b>,x::<b>BigFloat</b>) at <a href=\"https://github.com/JuliaLang/julia/tree/182f791fab02ddbbeccc26876b7e86af165482a6/base/mpfr.jl#L156\" target=\"_blank\">mpfr.jl:156</a><li> +(x::<b>BigFloat</b>,c::<b>Float64</b>) at <a href=\"https://github.com/JuliaLang/julia/tree/182f791fab02ddbbeccc26876b7e86af165482a6/base/mpfr.jl#L160\" target=\"_blank\">mpfr.jl:160</a><li> +(c::<b>Float64</b>,x::<b>BigFloat</b>) at <a href=\"https://github.com/JuliaLang/julia/tree/182f791fab02ddbbeccc26876b7e86af165482a6/base/mpfr.jl#L164\" target=\"_blank\">mpfr.jl:164</a><li> +(c::<b>Float32</b>,x::<b>BigFloat</b>) at <a href=\"https://github.com/JuliaLang/julia/tree/182f791fab02ddbbeccc26876b7e86af165482a6/base/mpfr.jl#L165\" target=\"_blank\">mpfr.jl:165</a><li> +(x::<b>BigFloat</b>,c::<b>Float32</b>) at <a href=\"https://github.com/JuliaLang/julia/tree/182f791fab02ddbbeccc26876b7e86af165482a6/base/mpfr.jl#L166\" target=\"_blank\">mpfr.jl:166</a><li> +(x::<b>BigFloat</b>,c::<b>BigInt</b>) at <a href=\"https://github.com/JuliaLang/julia/tree/182f791fab02ddbbeccc26876b7e86af165482a6/base/mpfr.jl#L170\" target=\"_blank\">mpfr.jl:170</a><li> +(c::<b>BigInt</b>,x::<b>BigFloat</b>) at <a href=\"https://github.com/JuliaLang/julia/tree/182f791fab02ddbbeccc26876b7e86af165482a6/base/mpfr.jl#L174\" target=\"_blank\">mpfr.jl:174</a><li> +(x::<b>BigFloat</b>,y::<b>BigFloat</b>) at <a href=\"https://github.com/JuliaLang/julia/tree/182f791fab02ddbbeccc26876b7e86af165482a6/base/mpfr.jl#L321\" target=\"_blank\">mpfr.jl:321</a><li> +(a::<b>BigFloat</b>,b::<b>BigFloat</b>,c::<b>BigFloat</b>) at <a href=\"https://github.com/JuliaLang/julia/tree/182f791fab02ddbbeccc26876b7e86af165482a6/base/mpfr.jl#L332\" target=\"_blank\">mpfr.jl:332</a><li> +(a::<b>BigFloat</b>,b::<b>BigFloat</b>,c::<b>BigFloat</b>,d::<b>BigFloat</b>) at <a href=\"https://github.com/JuliaLang/julia/tree/182f791fab02ddbbeccc26876b7e86af165482a6/base/mpfr.jl#L338\" target=\"_blank\">mpfr.jl:338</a><li> +(a::<b>BigFloat</b>,b::<b>BigFloat</b>,c::<b>BigFloat</b>,d::<b>BigFloat</b>,e::<b>BigFloat</b>) at <a href=\"https://github.com/JuliaLang/julia/tree/182f791fab02ddbbeccc26876b7e86af165482a6/base/mpfr.jl#L345\" target=\"_blank\">mpfr.jl:345</a><li> +(x::<b>MathConst{sym}</b>,y::<b>MathConst{sym}</b>) at <a href=\"https://github.com/JuliaLang/julia/tree/182f791fab02ddbbeccc26876b7e86af165482a6/base/constants.jl#L23\" target=\"_blank\">constants.jl:23</a><li> +<i>{T<:Number}</i>(x::<b>T<:Number</b>,y::<b>T<:Number</b>) at <a href=\"https://github.com/JuliaLang/julia/tree/182f791fab02ddbbeccc26876b7e86af165482a6/base/promotion.jl#L188\" target=\"_blank\">promotion.jl:188</a><li> +<i>{T<:FloatingPoint}</i>(x::<b>Bool</b>,y::<b>T<:FloatingPoint</b>) at <a href=\"https://github.com/JuliaLang/julia/tree/182f791fab02ddbbeccc26876b7e86af165482a6/base/bool.jl#L46\" target=\"_blank\">bool.jl:46</a><li> +(x::<b>Number</b>,y::<b>Number</b>) at <a href=\"https://github.com/JuliaLang/julia/tree/182f791fab02ddbbeccc26876b7e86af165482a6/base/promotion.jl#L158\" target=\"_blank\">promotion.jl:158</a><li> +(x::<b>Real</b>,r::<b>UnitRange{T<:Real}</b>) at <a href=\"https://github.com/JuliaLang/julia/tree/182f791fab02ddbbeccc26876b7e86af165482a6/base/range.jl#L424\" target=\"_blank\">range.jl:424</a><li> +(x::<b>Real</b>,r::<b>FloatRange{T<:FloatingPoint}</b>) at <a href=\"https://github.com/JuliaLang/julia/tree/182f791fab02ddbbeccc26876b7e86af165482a6/base/range.jl#L427\" target=\"_blank\">range.jl:427</a><li> +(x::<b>Real</b>,r::<b>Range{T}</b>) at <a href=\"https://github.com/JuliaLang/julia/tree/182f791fab02ddbbeccc26876b7e86af165482a6/base/range.jl#L425\" target=\"_blank\">range.jl:425</a><li> +(r::<b>Range{T}</b>,x::<b>Real</b>) at <a href=\"https://github.com/JuliaLang/julia/tree/182f791fab02ddbbeccc26876b7e86af165482a6/base/range.jl#L428\" target=\"_blank\">range.jl:428</a><li> +(x::<b>Integer</b>,y::<b>Ptr{T}</b>) at <a href=\"https://github.com/JuliaLang/julia/tree/182f791fab02ddbbeccc26876b7e86af165482a6/base/pointer.jl#L70\" target=\"_blank\">pointer.jl:70</a><li> +(x::<b>Bool</b>,A::<b>Array{Bool,N}</b>) at <a href=\"https://github.com/JuliaLang/julia/tree/182f791fab02ddbbeccc26876b7e86af165482a6/base/deprecated.jl#L26\" target=\"_blank\">deprecated.jl:26</a><li> +(x::<b>Number</b>) at <a href=\"https://github.com/JuliaLang/julia/tree/182f791fab02ddbbeccc26876b7e86af165482a6/base/operators.jl#L71\" target=\"_blank\">operators.jl:71</a><li> +(r1::<b>OrdinalRange{T,S}</b>,r2::<b>OrdinalRange{T,S}</b>) at <a href=\"https://github.com/JuliaLang/julia/tree/182f791fab02ddbbeccc26876b7e86af165482a6/base/operators.jl#L320\" target=\"_blank\">operators.jl:320</a><li> +<i>{T<:FloatingPoint}</i>(r1::<b>FloatRange{T<:FloatingPoint}</b>,r2::<b>FloatRange{T<:FloatingPoint}</b>) at <a href=\"https://github.com/JuliaLang/julia/tree/182f791fab02ddbbeccc26876b7e86af165482a6/base/operators.jl#L326\" target=\"_blank\">operators.jl:326</a><li> +(r1::<b>FloatRange{T<:FloatingPoint}</b>,r2::<b>FloatRange{T<:FloatingPoint}</b>) at <a href=\"https://github.com/JuliaLang/julia/tree/182f791fab02ddbbeccc26876b7e86af165482a6/base/operators.jl#L343\" target=\"_blank\">operators.jl:343</a><li> +(r1::<b>FloatRange{T<:FloatingPoint}</b>,r2::<b>OrdinalRange{T,S}</b>) at <a href=\"https://github.com/JuliaLang/julia/tree/182f791fab02ddbbeccc26876b7e86af165482a6/base/operators.jl#L344\" target=\"_blank\">operators.jl:344</a><li> +(r1::<b>OrdinalRange{T,S}</b>,r2::<b>FloatRange{T<:FloatingPoint}</b>) at <a href=\"https://github.com/JuliaLang/julia/tree/182f791fab02ddbbeccc26876b7e86af165482a6/base/operators.jl#L345\" target=\"_blank\">operators.jl:345</a><li> +(x::<b>Ptr{T}</b>,y::<b>Integer</b>) at <a href=\"https://github.com/JuliaLang/julia/tree/182f791fab02ddbbeccc26876b7e86af165482a6/base/pointer.jl#L68\" target=\"_blank\">pointer.jl:68</a><li> +<i>{S,T<:Real}</i>(A::<b>Union(DenseArray{S,N},SubArray{S,N,A<:DenseArray{T,N},I<:(Union(Int64,Range{Int64})...,)})</b>,B::<b>Range{T<:Real}</b>) at <a href=\"https://github.com/JuliaLang/julia/tree/182f791fab02ddbbeccc26876b7e86af165482a6/base/array.jl#L732\" target=\"_blank\">array.jl:732</a><li> +<i>{S<:Real,T}</i>(A::<b>Range{S<:Real}</b>,B::<b>Union(SubArray{T,N,A<:DenseArray{T,N},I<:(Union(Int64,Range{Int64})...,)},DenseArray{T,N})</b>) at <a href=\"https://github.com/JuliaLang/julia/tree/182f791fab02ddbbeccc26876b7e86af165482a6/base/array.jl#L741\" target=\"_blank\">array.jl:741</a><li> +<i>{Tv,Ti}</i>(A::<b>SparseMatrixCSC{Tv,Ti}</b>,B::<b>SparseMatrixCSC{Tv,Ti}</b>) at <a href=\"https://github.com/JuliaLang/julia/tree/182f791fab02ddbbeccc26876b7e86af165482a6/base/sparse/sparsematrix.jl#L514\" target=\"_blank\">sparse/sparsematrix.jl:514</a><li> +<i>{TvA,TiA,TvB,TiB}</i>(A::<b>SparseMatrixCSC{TvA,TiA}</b>,B::<b>SparseMatrixCSC{TvB,TiB}</b>) at <a href=\"https://github.com/JuliaLang/julia/tree/182f791fab02ddbbeccc26876b7e86af165482a6/base/sparse/sparsematrix.jl#L506\" target=\"_blank\">sparse/sparsematrix.jl:506</a><li> +(A::<b>SparseMatrixCSC{Tv,Ti<:Integer}</b>,B::<b>Union(Number,Array{T,N})</b>) at <a href=\"https://github.com/JuliaLang/julia/tree/182f791fab02ddbbeccc26876b7e86af165482a6/base/sparse/sparsematrix.jl#L604\" target=\"_blank\">sparse/sparsematrix.jl:604</a><li> +(A::<b>Union(Number,Array{T,N})</b>,B::<b>SparseMatrixCSC{Tv,Ti<:Integer}</b>) at <a href=\"https://github.com/JuliaLang/julia/tree/182f791fab02ddbbeccc26876b7e86af165482a6/base/sparse/sparsematrix.jl#L605\" target=\"_blank\">sparse/sparsematrix.jl:605</a><li> +(A::<b>SymTridiagonal{T}</b>,B::<b>SymTridiagonal{T}</b>) at <a href=\"https://github.com/JuliaLang/julia/tree/182f791fab02ddbbeccc26876b7e86af165482a6/base/linalg/tridiag.jl#L45\" target=\"_blank\">linalg/tridiag.jl:45</a><li> +(A::<b>Tridiagonal{T}</b>,B::<b>Tridiagonal{T}</b>) at <a href=\"https://github.com/JuliaLang/julia/tree/182f791fab02ddbbeccc26876b7e86af165482a6/base/linalg/tridiag.jl#L207\" target=\"_blank\">linalg/tridiag.jl:207</a><li> +(A::<b>Tridiagonal{T}</b>,B::<b>SymTridiagonal{T}</b>) at <a href=\"https://github.com/JuliaLang/julia/tree/182f791fab02ddbbeccc26876b7e86af165482a6/base/linalg/special.jl#L98\" target=\"_blank\">linalg/special.jl:98</a><li> +(A::<b>SymTridiagonal{T}</b>,B::<b>Tridiagonal{T}</b>) at <a href=\"https://github.com/JuliaLang/julia/tree/182f791fab02ddbbeccc26876b7e86af165482a6/base/linalg/special.jl#L97\" target=\"_blank\">linalg/special.jl:97</a><li> +(Da::<b>Diagonal{T}</b>,Db::<b>Diagonal{T}</b>) at <a href=\"https://github.com/JuliaLang/julia/tree/182f791fab02ddbbeccc26876b7e86af165482a6/base/linalg/diagonal.jl#L38\" target=\"_blank\">linalg/diagonal.jl:38</a><li> +(A::<b>Bidiagonal{T}</b>,B::<b>Bidiagonal{T}</b>) at <a href=\"https://github.com/JuliaLang/julia/tree/182f791fab02ddbbeccc26876b7e86af165482a6/base/linalg/bidiag.jl#L92\" target=\"_blank\">linalg/bidiag.jl:92</a><li> +<i>{T}</i>(B::<b>BitArray{2}</b>,J::<b>UniformScaling{T}</b>) at <a href=\"https://github.com/JuliaLang/julia/tree/182f791fab02ddbbeccc26876b7e86af165482a6/base/linalg/uniformscaling.jl#L26\" target=\"_blank\">linalg/uniformscaling.jl:26</a><li> +(A::<b>Diagonal{T}</b>,B::<b>Bidiagonal{T}</b>) at <a href=\"https://github.com/JuliaLang/julia/tree/182f791fab02ddbbeccc26876b7e86af165482a6/base/linalg/special.jl#L88\" target=\"_blank\">linalg/special.jl:88</a><li> +(A::<b>Bidiagonal{T}</b>,B::<b>Diagonal{T}</b>) at <a href=\"https://github.com/JuliaLang/julia/tree/182f791fab02ddbbeccc26876b7e86af165482a6/base/linalg/special.jl#L89\" target=\"_blank\">linalg/special.jl:89</a><li> +(A::<b>Diagonal{T}</b>,B::<b>Tridiagonal{T}</b>) at <a href=\"https://github.com/JuliaLang/julia/tree/182f791fab02ddbbeccc26876b7e86af165482a6/base/linalg/special.jl#L88\" target=\"_blank\">linalg/special.jl:88</a><li> +(A::<b>Tridiagonal{T}</b>,B::<b>Diagonal{T}</b>) at <a href=\"https://github.com/JuliaLang/julia/tree/182f791fab02ddbbeccc26876b7e86af165482a6/base/linalg/special.jl#L89\" target=\"_blank\">linalg/special.jl:89</a><li> +(A::<b>Diagonal{T}</b>,B::<b>Triangular{T<:Number}</b>) at <a href=\"https://github.com/JuliaLang/julia/tree/182f791fab02ddbbeccc26876b7e86af165482a6/base/linalg/special.jl#L88\" target=\"_blank\">linalg/special.jl:88</a><li> +(A::<b>Triangular{T<:Number}</b>,B::<b>Diagonal{T}</b>) at <a href=\"https://github.com/JuliaLang/julia/tree/182f791fab02ddbbeccc26876b7e86af165482a6/base/linalg/special.jl#L89\" target=\"_blank\">linalg/special.jl:89</a><li> +(A::<b>Diagonal{T}</b>,B::<b>Array{T,2}</b>) at <a href=\"https://github.com/JuliaLang/julia/tree/182f791fab02ddbbeccc26876b7e86af165482a6/base/linalg/special.jl#L88\" target=\"_blank\">linalg/special.jl:88</a><li> +(A::<b>Array{T,2}</b>,B::<b>Diagonal{T}</b>) at <a href=\"https://github.com/JuliaLang/julia/tree/182f791fab02ddbbeccc26876b7e86af165482a6/base/linalg/special.jl#L89\" target=\"_blank\">linalg/special.jl:89</a><li> +(A::<b>Bidiagonal{T}</b>,B::<b>Tridiagonal{T}</b>) at <a href=\"https://github.com/JuliaLang/julia/tree/182f791fab02ddbbeccc26876b7e86af165482a6/base/linalg/special.jl#L88\" target=\"_blank\">linalg/special.jl:88</a><li> +(A::<b>Tridiagonal{T}</b>,B::<b>Bidiagonal{T}</b>) at <a href=\"https://github.com/JuliaLang/julia/tree/182f791fab02ddbbeccc26876b7e86af165482a6/base/linalg/special.jl#L89\" target=\"_blank\">linalg/special.jl:89</a><li> +(A::<b>Bidiagonal{T}</b>,B::<b>Triangular{T<:Number}</b>) at <a href=\"https://github.com/JuliaLang/julia/tree/182f791fab02ddbbeccc26876b7e86af165482a6/base/linalg/special.jl#L88\" target=\"_blank\">linalg/special.jl:88</a><li> +(A::<b>Triangular{T<:Number}</b>,B::<b>Bidiagonal{T}</b>) at <a href=\"https://github.com/JuliaLang/julia/tree/182f791fab02ddbbeccc26876b7e86af165482a6/base/linalg/special.jl#L89\" target=\"_blank\">linalg/special.jl:89</a><li> +(A::<b>Bidiagonal{T}</b>,B::<b>Array{T,2}</b>) at <a href=\"https://github.com/JuliaLang/julia/tree/182f791fab02ddbbeccc26876b7e86af165482a6/base/linalg/special.jl#L88\" target=\"_blank\">linalg/special.jl:88</a><li> +(A::<b>Array{T,2}</b>,B::<b>Bidiagonal{T}</b>) at <a href=\"https://github.com/JuliaLang/julia/tree/182f791fab02ddbbeccc26876b7e86af165482a6/base/linalg/special.jl#L89\" target=\"_blank\">linalg/special.jl:89</a><li> +(A::<b>Tridiagonal{T}</b>,B::<b>Triangular{T<:Number}</b>) at <a href=\"https://github.com/JuliaLang/julia/tree/182f791fab02ddbbeccc26876b7e86af165482a6/base/linalg/special.jl#L88\" target=\"_blank\">linalg/special.jl:88</a><li> +(A::<b>Triangular{T<:Number}</b>,B::<b>Tridiagonal{T}</b>) at <a href=\"https://github.com/JuliaLang/julia/tree/182f791fab02ddbbeccc26876b7e86af165482a6/base/linalg/special.jl#L89\" target=\"_blank\">linalg/special.jl:89</a><li> +(A::<b>Tridiagonal{T}</b>,B::<b>Array{T,2}</b>) at <a href=\"https://github.com/JuliaLang/julia/tree/182f791fab02ddbbeccc26876b7e86af165482a6/base/linalg/special.jl#L88\" target=\"_blank\">linalg/special.jl:88</a><li> +(A::<b>Array{T,2}</b>,B::<b>Tridiagonal{T}</b>) at <a href=\"https://github.com/JuliaLang/julia/tree/182f791fab02ddbbeccc26876b7e86af165482a6/base/linalg/special.jl#L89\" target=\"_blank\">linalg/special.jl:89</a><li> +(A::<b>Triangular{T<:Number}</b>,B::<b>Array{T,2}</b>) at <a href=\"https://github.com/JuliaLang/julia/tree/182f791fab02ddbbeccc26876b7e86af165482a6/base/linalg/special.jl#L88\" target=\"_blank\">linalg/special.jl:88</a><li> +(A::<b>Array{T,2}</b>,B::<b>Triangular{T<:Number}</b>) at <a href=\"https://github.com/JuliaLang/julia/tree/182f791fab02ddbbeccc26876b7e86af165482a6/base/linalg/special.jl#L89\" target=\"_blank\">linalg/special.jl:89</a><li> +(A::<b>SymTridiagonal{T}</b>,B::<b>Triangular{T<:Number}</b>) at <a href=\"https://github.com/JuliaLang/julia/tree/182f791fab02ddbbeccc26876b7e86af165482a6/base/linalg/special.jl#L97\" target=\"_blank\">linalg/special.jl:97</a><li> +(A::<b>Triangular{T<:Number}</b>,B::<b>SymTridiagonal{T}</b>) at <a href=\"https://github.com/JuliaLang/julia/tree/182f791fab02ddbbeccc26876b7e86af165482a6/base/linalg/special.jl#L98\" target=\"_blank\">linalg/special.jl:98</a><li> +(A::<b>SymTridiagonal{T}</b>,B::<b>Array{T,2}</b>) at <a href=\"https://github.com/JuliaLang/julia/tree/182f791fab02ddbbeccc26876b7e86af165482a6/base/linalg/special.jl#L97\" target=\"_blank\">linalg/special.jl:97</a><li> +(A::<b>Array{T,2}</b>,B::<b>SymTridiagonal{T}</b>) at <a href=\"https://github.com/JuliaLang/julia/tree/182f791fab02ddbbeccc26876b7e86af165482a6/base/linalg/special.jl#L98\" target=\"_blank\">linalg/special.jl:98</a><li> +(A::<b>Diagonal{T}</b>,B::<b>SymTridiagonal{T}</b>) at <a href=\"https://github.com/JuliaLang/julia/tree/182f791fab02ddbbeccc26876b7e86af165482a6/base/linalg/special.jl#L106\" target=\"_blank\">linalg/special.jl:106</a><li> +(A::<b>SymTridiagonal{T}</b>,B::<b>Diagonal{T}</b>) at <a href=\"https://github.com/JuliaLang/julia/tree/182f791fab02ddbbeccc26876b7e86af165482a6/base/linalg/special.jl#L107\" target=\"_blank\">linalg/special.jl:107</a><li> +(A::<b>Bidiagonal{T}</b>,B::<b>SymTridiagonal{T}</b>) at <a href=\"https://github.com/JuliaLang/julia/tree/182f791fab02ddbbeccc26876b7e86af165482a6/base/linalg/special.jl#L106\" target=\"_blank\">linalg/special.jl:106</a><li> +(A::<b>SymTridiagonal{T}</b>,B::<b>Bidiagonal{T}</b>) at <a href=\"https://github.com/JuliaLang/julia/tree/182f791fab02ddbbeccc26876b7e86af165482a6/base/linalg/special.jl#L107\" target=\"_blank\">linalg/special.jl:107</a><li> +(A::<b>Array{Bool,N}</b>,x::<b>Bool</b>) at <a href=\"https://github.com/JuliaLang/julia/tree/182f791fab02ddbbeccc26876b7e86af165482a6/base/deprecated.jl#L26\" target=\"_blank\">deprecated.jl:26</a><li> +(A::<b>Array{T,N}</b>,x::<b>Number</b>) at <a href=\"https://github.com/JuliaLang/julia/tree/182f791fab02ddbbeccc26876b7e86af165482a6/base/deprecated.jl#L26\" target=\"_blank\">deprecated.jl:26</a><li> +<i>{T<:Number}</i>(x::<b>AbstractArray{T<:Number,N}</b>) at <a href=\"https://github.com/JuliaLang/julia/tree/182f791fab02ddbbeccc26876b7e86af165482a6/base/abstractarray.jl#L346\" target=\"_blank\">abstractarray.jl:346</a><li> +(J1::<b>UniformScaling{T<:Number}</b>,J2::<b>UniformScaling{T<:Number}</b>) at <a href=\"https://github.com/JuliaLang/julia/tree/182f791fab02ddbbeccc26876b7e86af165482a6/base/linalg/uniformscaling.jl#L25\" target=\"_blank\">linalg/uniformscaling.jl:25</a><li> +(J::<b>UniformScaling{T<:Number}</b>,B::<b>BitArray{2}</b>) at <a href=\"https://github.com/JuliaLang/julia/tree/182f791fab02ddbbeccc26876b7e86af165482a6/base/linalg/uniformscaling.jl#L27\" target=\"_blank\">linalg/uniformscaling.jl:27</a><li> +(J::<b>UniformScaling{T<:Number}</b>,A::<b>AbstractArray{T,2}</b>) at <a href=\"https://github.com/JuliaLang/julia/tree/182f791fab02ddbbeccc26876b7e86af165482a6/base/linalg/uniformscaling.jl#L28\" target=\"_blank\">linalg/uniformscaling.jl:28</a><li> +(J::<b>UniformScaling{T<:Number}</b>,x::<b>Number</b>) at <a href=\"https://github.com/JuliaLang/julia/tree/182f791fab02ddbbeccc26876b7e86af165482a6/base/linalg/uniformscaling.jl#L29\" target=\"_blank\">linalg/uniformscaling.jl:29</a><li> +(x::<b>Number</b>,J::<b>UniformScaling{T<:Number}</b>) at <a href=\"https://github.com/JuliaLang/julia/tree/182f791fab02ddbbeccc26876b7e86af165482a6/base/linalg/uniformscaling.jl#L30\" target=\"_blank\">linalg/uniformscaling.jl:30</a><li> +<i>{TA,TJ}</i>(A::<b>AbstractArray{TA,2}</b>,J::<b>UniformScaling{TJ}</b>) at <a href=\"https://github.com/JuliaLang/julia/tree/182f791fab02ddbbeccc26876b7e86af165482a6/base/linalg/uniformscaling.jl#L33\" target=\"_blank\">linalg/uniformscaling.jl:33</a><li> +(x::<b>Number</b>,A::<b>Array{T,N}</b>) at <a href=\"https://github.com/JuliaLang/julia/tree/182f791fab02ddbbeccc26876b7e86af165482a6/base/deprecated.jl#L26\" target=\"_blank\">deprecated.jl:26</a><li> +<i>{T}</i>(a::<b>HierarchicalValue{T}</b>,b::<b>HierarchicalValue{T}</b>) at <a href=\"https://github.com/JuliaLang/julia/tree/182f791fab02ddbbeccc26876b7e86af165482a6/base/pkg/resolve/versionweight.jl#L19\" target=\"_blank\">pkg/resolve/versionweight.jl:19</a><li> +(a::<b>VWPreBuildItem</b>,b::<b>VWPreBuildItem</b>) at <a href=\"https://github.com/JuliaLang/julia/tree/182f791fab02ddbbeccc26876b7e86af165482a6/base/pkg/resolve/versionweight.jl#L82\" target=\"_blank\">pkg/resolve/versionweight.jl:82</a><li> +(a::<b>VWPreBuild</b>,b::<b>VWPreBuild</b>) at <a href=\"https://github.com/JuliaLang/julia/tree/182f791fab02ddbbeccc26876b7e86af165482a6/base/pkg/resolve/versionweight.jl#L120\" target=\"_blank\">pkg/resolve/versionweight.jl:120</a><li> +(a::<b>VersionWeight</b>,b::<b>VersionWeight</b>) at <a href=\"https://github.com/JuliaLang/julia/tree/182f791fab02ddbbeccc26876b7e86af165482a6/base/pkg/resolve/versionweight.jl#L164\" target=\"_blank\">pkg/resolve/versionweight.jl:164</a><li> +(a::<b>FieldValue</b>,b::<b>FieldValue</b>) at <a href=\"https://github.com/JuliaLang/julia/tree/182f791fab02ddbbeccc26876b7e86af165482a6/base/pkg/resolve/fieldvalue.jl#L41\" target=\"_blank\">pkg/resolve/fieldvalue.jl:41</a><li> +(a::<b>Vec2</b>,b::<b>Vec2</b>) at <a href=\"https://github.com/JuliaLang/julia/tree/182f791fab02ddbbeccc26876b7e86af165482a6/base/graphics.jl#L60\" target=\"_blank\">graphics.jl:60</a><li> +(bb1::<b>BoundingBox</b>,bb2::<b>BoundingBox</b>) at <a href=\"https://github.com/JuliaLang/julia/tree/182f791fab02ddbbeccc26876b7e86af165482a6/base/graphics.jl#L123\" target=\"_blank\">graphics.jl:123</a><li> +(v1::<b>Vector2D</b>,v2::<b>Vector2D</b>) at In[4]:1<li> +(a,b,c) at <a href=\"https://github.com/JuliaLang/julia/tree/182f791fab02ddbbeccc26876b7e86af165482a6/base/operators.jl#L82\" target=\"_blank\">operators.jl:82</a><li> +(a,b,c,xs...) at <a href=\"https://github.com/JuliaLang/julia/tree/182f791fab02ddbbeccc26876b7e86af165482a6/base/operators.jl#L83\" target=\"_blank\">operators.jl:83</a></ul>"
       ],
       "metadata": {},
       "output_type": "pyout",
       "prompt_number": 5,
       "text": [
        "# 128 methods for generic function \"+\":\n",
        "+(x::Bool) at bool.jl:36\n",
        "+(x::Bool,y::Bool) at bool.jl:39\n",
        "+(y::FloatingPoint,x::Bool) at bool.jl:49\n",
        "+(A::BitArray{N},B::BitArray{N}) at bitarray.jl:852\n",
        "+(A::Union(SubArray{Bool,N,A<:DenseArray{T,N},I<:(Union(Int64,Range{Int64})...,)},DenseArray{Bool,N}),B::Union(SubArray{Bool,N,A<:DenseArray{T,N},I<:(Union(Int64,Range{Int64})...,)},DenseArray{Bool,N})) at array.jl:792\n",
        "+{S,T}(A::Union(DenseArray{S,N},SubArray{S,N,A<:DenseArray{T,N},I<:(Union(Int64,Range{Int64})...,)}),B::Union(SubArray{T,N,A<:DenseArray{T,N},I<:(Union(Int64,Range{Int64})...,)},DenseArray{T,N})) at array.jl:724\n",
        "+{T<:Union(Int16,Int8,Int32)}(x::T<:Union(Int16,Int8,Int32),y::T<:Union(Int16,Int8,Int32)) at int.jl:16\n",
        "+{T<:Union(Uint8,Uint32,Uint16)}(x::T<:Union(Uint8,Uint32,Uint16),y::T<:Union(Uint8,Uint32,Uint16)) at int.jl:20\n",
        "+(x::Int64,y::Int64) at int.jl:33\n",
        "+(x::Uint64,y::Uint64) at int.jl:34\n",
        "+(x::Int128,y::Int128) at int.jl:35\n",
        "+(x::Uint128,y::Uint128) at int.jl:36\n",
        "+(x::Float32,y::Float32) at float.jl:124\n",
        "+(x::Float64,y::Float64) at float.jl:125\n",
        "+(z::Complex{T<:Real},w::Complex{T<:Real}) at complex.jl:110\n",
        "+(x::Real,z::Complex{T<:Real}) at complex.jl:120\n",
        "+(z::Complex{T<:Real},x::Real) at complex.jl:121\n",
        "+(x::Rational{T<:Integer},y::Rational{T<:Integer}) at rational.jl:117\n",
        "+(x::Char,y::Char) at char.jl:23\n",
        "+(x::Char,y::Integer) at char.jl:26\n",
        "+(x::Integer,y::Char) at char.jl:27\n",
        "+(a::Float16,b::Float16) at float16.jl:125\n",
        "+(x::BigInt,y::BigInt) at gmp.jl:193\n",
        "+(a::BigInt,b::BigInt,c::BigInt) at gmp.jl:216\n",
        "+(a::BigInt,b::BigInt,c::BigInt,d::BigInt) at gmp.jl:222\n",
        "+(a::BigInt,b::BigInt,c::BigInt,d::BigInt,e::BigInt) at gmp.jl:229\n",
        "+(x::BigInt,c::Uint64) at gmp.jl:241\n",
        "+(c::Uint64,x::BigInt) at gmp.jl:245\n",
        "+(c::Union(Uint8,Uint64,Uint32,Uint16),x::BigInt) at gmp.jl:246\n",
        "+(x::BigInt,c::Union(Uint8,Uint64,Uint32,Uint16)) at gmp.jl:247\n",
        "+(x::BigInt,c::Union(Int16,Int8,Int32,Int64)) at gmp.jl:248\n",
        "+(c::Union(Int16,Int8,Int32,Int64),x::BigInt) at gmp.jl:249\n",
        "+(x::BigFloat,c::Uint64) at mpfr.jl:140\n",
        "+(c::Uint64,x::BigFloat) at mpfr.jl:144\n",
        "+(c::Union(Uint8,Uint64,Uint32,Uint16),x::BigFloat) at mpfr.jl:145\n",
        "+(x::BigFloat,c::Union(Uint8,Uint64,Uint32,Uint16)) at mpfr.jl:146\n",
        "+(x::BigFloat,c::Int64) at mpfr.jl:150\n",
        "+(c::Int64,x::BigFloat) at mpfr.jl:154\n",
        "+(x::BigFloat,c::Union(Int16,Int8,Int32,Int64)) at mpfr.jl:155\n",
        "+(c::Union(Int16,Int8,Int32,Int64),x::BigFloat) at mpfr.jl:156\n",
        "+(x::BigFloat,c::Float64) at mpfr.jl:160\n",
        "+(c::Float64,x::BigFloat) at mpfr.jl:164\n",
        "+(c::Float32,x::BigFloat) at mpfr.jl:165\n",
        "+(x::BigFloat,c::Float32) at mpfr.jl:166\n",
        "+(x::BigFloat,c::BigInt) at mpfr.jl:170\n",
        "+(c::BigInt,x::BigFloat) at mpfr.jl:174\n",
        "+(x::BigFloat,y::BigFloat) at mpfr.jl:321\n",
        "+(a::BigFloat,b::BigFloat,c::BigFloat) at mpfr.jl:332\n",
        "+(a::BigFloat,b::BigFloat,c::BigFloat,d::BigFloat) at mpfr.jl:338\n",
        "+(a::BigFloat,b::BigFloat,c::BigFloat,d::BigFloat,e::BigFloat) at mpfr.jl:345\n",
        "+(x::MathConst{sym},y::MathConst{sym}) at constants.jl:23\n",
        "+{T<:Number}(x::T<:Number,y::T<:Number) at promotion.jl:188\n",
        "+{T<:FloatingPoint}(x::Bool,y::T<:FloatingPoint) at bool.jl:46\n",
        "+(x::Number,y::Number) at promotion.jl:158\n",
        "+(x::Real,r::UnitRange{T<:Real}) at range.jl:424\n",
        "+(x::Real,r::FloatRange{T<:FloatingPoint}) at range.jl:427\n",
        "+(x::Real,r::Range{T}) at range.jl:425\n",
        "+(r::Range{T},x::Real) at range.jl:428\n",
        "+(x::Integer,y::Ptr{T}) at pointer.jl:70\n",
        "+(x::Bool,A::Array{Bool,N}) at deprecated.jl:26\n",
        "+(x::Number) at operators.jl:71\n",
        "+(r1::OrdinalRange{T,S},r2::OrdinalRange{T,S}) at operators.jl:320\n",
        "+{T<:FloatingPoint}(r1::FloatRange{T<:FloatingPoint},r2::FloatRange{T<:FloatingPoint}) at operators.jl:326\n",
        "+(r1::FloatRange{T<:FloatingPoint},r2::FloatRange{T<:FloatingPoint}) at operators.jl:343\n",
        "+(r1::FloatRange{T<:FloatingPoint},r2::OrdinalRange{T,S}) at operators.jl:344\n",
        "+(r1::OrdinalRange{T,S},r2::FloatRange{T<:FloatingPoint}) at operators.jl:345\n",
        "+(x::Ptr{T},y::Integer) at pointer.jl:68\n",
        "+{S,T<:Real}(A::Union(DenseArray{S,N},SubArray{S,N,A<:DenseArray{T,N},I<:(Union(Int64,Range{Int64})...,)}),B::Range{T<:Real}) at array.jl:732\n",
        "+{S<:Real,T}(A::Range{S<:Real},B::Union(SubArray{T,N,A<:DenseArray{T,N},I<:(Union(Int64,Range{Int64})...,)},DenseArray{T,N})) at array.jl:741\n",
        "+{Tv,Ti}(A::SparseMatrixCSC{Tv,Ti},B::SparseMatrixCSC{Tv,Ti}) at sparse/sparsematrix.jl:514\n",
        "+{TvA,TiA,TvB,TiB}(A::SparseMatrixCSC{TvA,TiA},B::SparseMatrixCSC{TvB,TiB}) at sparse/sparsematrix.jl:506\n",
        "+(A::SparseMatrixCSC{Tv,Ti<:Integer},B::Union(Number,Array{T,N})) at sparse/sparsematrix.jl:604\n",
        "+(A::Union(Number,Array{T,N}),B::SparseMatrixCSC{Tv,Ti<:Integer}) at sparse/sparsematrix.jl:605\n",
        "+(A::SymTridiagonal{T},B::SymTridiagonal{T}) at linalg/tridiag.jl:45\n",
        "+(A::Tridiagonal{T},B::Tridiagonal{T}) at linalg/tridiag.jl:207\n",
        "+(A::Tridiagonal{T},B::SymTridiagonal{T}) at linalg/special.jl:98\n",
        "+(A::SymTridiagonal{T},B::Tridiagonal{T}) at linalg/special.jl:97\n",
        "+(Da::Diagonal{T},Db::Diagonal{T}) at linalg/diagonal.jl:38\n",
        "+(A::Bidiagonal{T},B::Bidiagonal{T}) at linalg/bidiag.jl:92\n",
        "+{T}(B::BitArray{2},J::UniformScaling{T}) at linalg/uniformscaling.jl:26\n",
        "+(A::Diagonal{T},B::Bidiagonal{T}) at linalg/special.jl:88\n",
        "+(A::Bidiagonal{T},B::Diagonal{T}) at linalg/special.jl:89\n",
        "+(A::Diagonal{T},B::Tridiagonal{T}) at linalg/special.jl:88\n",
        "+(A::Tridiagonal{T},B::Diagonal{T}) at linalg/special.jl:89\n",
        "+(A::Diagonal{T},B::Triangular{T<:Number}) at linalg/special.jl:88\n",
        "+(A::Triangular{T<:Number},B::Diagonal{T}) at linalg/special.jl:89\n",
        "+(A::Diagonal{T},B::Array{T,2}) at linalg/special.jl:88\n",
        "+(A::Array{T,2},B::Diagonal{T}) at linalg/special.jl:89\n",
        "+(A::Bidiagonal{T},B::Tridiagonal{T}) at linalg/special.jl:88\n",
        "+(A::Tridiagonal{T},B::Bidiagonal{T}) at linalg/special.jl:89\n",
        "+(A::Bidiagonal{T},B::Triangular{T<:Number}) at linalg/special.jl:88\n",
        "+(A::Triangular{T<:Number},B::Bidiagonal{T}) at linalg/special.jl:89\n",
        "+(A::Bidiagonal{T},B::Array{T,2}) at linalg/special.jl:88\n",
        "+(A::Array{T,2},B::Bidiagonal{T}) at linalg/special.jl:89\n",
        "+(A::Tridiagonal{T},B::Triangular{T<:Number}) at linalg/special.jl:88\n",
        "+(A::Triangular{T<:Number},B::Tridiagonal{T}) at linalg/special.jl:89\n",
        "+(A::Tridiagonal{T},B::Array{T,2}) at linalg/special.jl:88\n",
        "+(A::Array{T,2},B::Tridiagonal{T}) at linalg/special.jl:89\n",
        "+(A::Triangular{T<:Number},B::Array{T,2}) at linalg/special.jl:88\n",
        "+(A::Array{T,2},B::Triangular{T<:Number}) at linalg/special.jl:89\n",
        "+(A::SymTridiagonal{T},B::Triangular{T<:Number}) at linalg/special.jl:97\n",
        "+(A::Triangular{T<:Number},B::SymTridiagonal{T}) at linalg/special.jl:98\n",
        "+(A::SymTridiagonal{T},B::Array{T,2}) at linalg/special.jl:97\n",
        "+(A::Array{T,2},B::SymTridiagonal{T}) at linalg/special.jl:98\n",
        "+(A::Diagonal{T},B::SymTridiagonal{T}) at linalg/special.jl:106\n",
        "+(A::SymTridiagonal{T},B::Diagonal{T}) at linalg/special.jl:107\n",
        "+(A::Bidiagonal{T},B::SymTridiagonal{T}) at linalg/special.jl:106\n",
        "+(A::SymTridiagonal{T},B::Bidiagonal{T}) at linalg/special.jl:107\n",
        "+(A::Array{Bool,N},x::Bool) at deprecated.jl:26\n",
        "+(A::Array{T,N},x::Number) at deprecated.jl:26\n",
        "+{T<:Number}(x::AbstractArray{T<:Number,N}) at abstractarray.jl:346\n",
        "+(J1::UniformScaling{T<:Number},J2::UniformScaling{T<:Number}) at linalg/uniformscaling.jl:25\n",
        "+(J::UniformScaling{T<:Number},B::BitArray{2}) at linalg/uniformscaling.jl:27\n",
        "+(J::UniformScaling{T<:Number},A::AbstractArray{T,2}) at linalg/uniformscaling.jl:28\n",
        "+(J::UniformScaling{T<:Number},x::Number) at linalg/uniformscaling.jl:29\n",
        "+(x::Number,J::UniformScaling{T<:Number}) at linalg/uniformscaling.jl:30\n",
        "+{TA,TJ}(A::AbstractArray{TA,2},J::UniformScaling{TJ}) at linalg/uniformscaling.jl:33\n",
        "+(x::Number,A::Array{T,N}) at deprecated.jl:26\n",
        "+{T}(a::HierarchicalValue{T},b::HierarchicalValue{T}) at pkg/resolve/versionweight.jl:19\n",
        "+(a::VWPreBuildItem,b::VWPreBuildItem) at pkg/resolve/versionweight.jl:82\n",
        "+(a::VWPreBuild,b::VWPreBuild) at pkg/resolve/versionweight.jl:120\n",
        "+(a::VersionWeight,b::VersionWeight) at pkg/resolve/versionweight.jl:164\n",
        "+(a::FieldValue,b::FieldValue) at pkg/resolve/fieldvalue.jl:41\n",
        "+(a::Vec2,b::Vec2) at graphics.jl:60\n",
        "+(bb1::BoundingBox,bb2::BoundingBox) at graphics.jl:123\n",
        "+(v1::Vector2D,v2::Vector2D) at In[4]:1\n",
        "+(a,b,c) at operators.jl:82\n",
        "+(a,b,c,xs...) at operators.jl:83"
       ]
      }
     ],
     "prompt_number": 5
    },
    {
     "cell_type": "code",
     "collapsed": false,
     "input": [
      "x = Vector2D(3, 4)\n",
      "y = Vector2D(5, 6)\n",
      "\n",
      "x + y"
     ],
     "language": "python",
     "metadata": {},
     "outputs": [
      {
       "metadata": {},
       "output_type": "pyout",
       "prompt_number": 7,
       "text": [
        "[8.0, 10.0]"
       ]
      }
     ],
     "prompt_number": 7
    },
    {
     "cell_type": "heading",
     "level": 2,
     "metadata": {},
     "source": [
      "Parametrised types"
     ]
    },
    {
     "cell_type": "markdown",
     "metadata": {},
     "source": [
      "Types may have a parameter, for example:"
     ]
    },
    {
     "cell_type": "code",
     "collapsed": false,
     "input": [
      "immutable Vector2D{T <: Real}\n",
      "    x::T\n",
      "    y::T\n",
      "end "
     ],
     "language": "python",
     "metadata": {},
     "outputs": [],
     "prompt_number": 1
    },
    {
     "cell_type": "markdown",
     "metadata": {},
     "source": [
      "`T` is a type parameter.\n",
      "The expression `T <: Real` means that `T` must be a subtype of the abstract type `Real`.\n",
      "We can investigate the type hierarchy with the `super` function:"
     ]
    },
    {
     "cell_type": "code",
     "collapsed": false,
     "input": [
      "Integer"
     ],
     "language": "python",
     "metadata": {},
     "outputs": [
      {
       "metadata": {},
       "output_type": "pyout",
       "prompt_number": 4,
       "text": [
        "Integer"
       ]
      }
     ],
     "prompt_number": 4
    },
    {
     "cell_type": "code",
     "collapsed": false,
     "input": [
      "super(Integer)"
     ],
     "language": "python",
     "metadata": {},
     "outputs": [
      {
       "metadata": {},
       "output_type": "pyout",
       "prompt_number": 5,
       "text": [
        "Real"
       ]
      }
     ],
     "prompt_number": 5
    },
    {
     "cell_type": "code",
     "collapsed": false,
     "input": [
      "super(Real)"
     ],
     "language": "python",
     "metadata": {},
     "outputs": [
      {
       "metadata": {},
       "output_type": "pyout",
       "prompt_number": 6,
       "text": [
        "Number"
       ]
      }
     ],
     "prompt_number": 6
    },
    {
     "cell_type": "code",
     "collapsed": false,
     "input": [
      "super(Number)"
     ],
     "language": "python",
     "metadata": {},
     "outputs": [
      {
       "metadata": {},
       "output_type": "pyout",
       "prompt_number": 7,
       "text": [
        "Any"
       ]
      }
     ],
     "prompt_number": 7
    },
    {
     "cell_type": "code",
     "collapsed": false,
     "input": [
      "v = Vector2D(3., 4.)"
     ],
     "language": "python",
     "metadata": {},
     "outputs": [
      {
       "metadata": {},
       "output_type": "pyout",
       "prompt_number": 2,
       "text": [
        "Vector2D{Float64}(3.0,4.0)"
       ]
      }
     ],
     "prompt_number": 2
    },
    {
     "cell_type": "code",
     "collapsed": false,
     "input": [
      "v = Vector2D(3, 4.)"
     ],
     "language": "python",
     "metadata": {},
     "outputs": [
      {
       "ename": "LoadError",
       "evalue": "no method Vector2D{T<:Real}(Int64, Float64)\nwhile loading In[3], in expression starting on line 1",
       "output_type": "pyerr",
       "traceback": [
        "no method Vector2D{T<:Real}(Int64, Float64)\nwhile loading In[3], in expression starting on line 1"
       ]
      }
     ],
     "prompt_number": 3
    },
    {
     "cell_type": "code",
     "collapsed": false,
     "input": [
      "v = Vector2D(3//4, 5//6)"
     ],
     "language": "python",
     "metadata": {},
     "outputs": [
      {
       "metadata": {},
       "output_type": "pyout",
       "prompt_number": 4,
       "text": [
        "Vector2D{Rational{Int64}}(3//4,5//6)"
       ]
      }
     ],
     "prompt_number": 4
    },
    {
     "cell_type": "code",
     "collapsed": false,
     "input": [
      "show{T}(io::IO, v::Vector2D{T}) = print(io, \"[$(v.x), $(v.y)]\")"
     ],
     "language": "python",
     "metadata": {},
     "outputs": [
      {
       "metadata": {},
       "output_type": "pyout",
       "prompt_number": 6,
       "text": [
        "show (generic function with 91 methods)"
       ]
      }
     ],
     "prompt_number": 6
    },
    {
     "cell_type": "code",
     "collapsed": false,
     "input": [
      "v"
     ],
     "language": "python",
     "metadata": {},
     "outputs": [
      {
       "metadata": {},
       "output_type": "pyout",
       "prompt_number": 7,
       "text": [
        "[3//4, 5//6]"
       ]
      }
     ],
     "prompt_number": 7
    },
    {
     "cell_type": "markdown",
     "metadata": {},
     "source": [
      "Here, the types of the two arguments were different, so there is no match for the type signature.\n"
     ]
    },
    {
     "cell_type": "markdown",
     "metadata": {},
     "source": [
      "We can define *outer constructors*, defined outside the type definition itself, which allow other ways of constructing the object:"
     ]
    },
    {
     "cell_type": "code",
     "collapsed": false,
     "input": [
      "Vector2D{T}(x::T) = Vector2D(x, x)"
     ],
     "language": "python",
     "metadata": {},
     "outputs": [
      {
       "metadata": {},
       "output_type": "pyout",
       "prompt_number": 8,
       "text": [
        "Vector2D{T<:Real} (constructor with 2 methods)"
       ]
      }
     ],
     "prompt_number": 8
    },
    {
     "cell_type": "code",
     "collapsed": false,
     "input": [
      "Vector2D(3)"
     ],
     "language": "python",
     "metadata": {},
     "outputs": [
      {
       "metadata": {},
       "output_type": "pyout",
       "prompt_number": 9,
       "text": [
        "Vector2D{Int64}(3,3)"
       ]
      }
     ],
     "prompt_number": 9
    },
    {
     "cell_type": "heading",
     "level": 2,
     "metadata": {},
     "source": [
      "Example: a simple type for a collection of particles"
     ]
    },
    {
     "cell_type": "markdown",
     "metadata": {},
     "source": [
      "Let's define a particle:"
     ]
    },
    {
     "cell_type": "code",
     "collapsed": false,
     "input": [
      "type Particle\n",
      "    position::Vector2D{Float64}\n",
      "    velocity::Vector2D{Float64}\n",
      "end\n",
      "\n",
      "move(p::Particle, dt::Real) = p.position += p.velocity * dt"
     ],
     "language": "python",
     "metadata": {},
     "outputs": [
      {
       "metadata": {},
       "output_type": "pyout",
       "prompt_number": 8,
       "text": [
        "move (generic function with 1 method)"
       ]
      }
     ],
     "prompt_number": 8
    },
    {
     "cell_type": "code",
     "collapsed": false,
     "input": [
      "show(io::IO, p::Particle) = print(io, \"pos: $(p.position); vel: $(p.velocity)\")"
     ],
     "language": "python",
     "metadata": {},
     "outputs": [
      {
       "metadata": {},
       "output_type": "pyout",
       "prompt_number": 9,
       "text": [
        "show (generic function with 92 methods)"
       ]
      }
     ],
     "prompt_number": 9
    },
    {
     "cell_type": "code",
     "collapsed": false,
     "input": [
      "p = Particle(Vector2D(0.,0.), Vector2D(1.,1.))"
     ],
     "language": "python",
     "metadata": {},
     "outputs": [
      {
       "metadata": {},
       "output_type": "pyout",
       "prompt_number": 11,
       "text": [
        "pos: [0.0, 0.0]; vel: [1.0, 1.0]"
       ]
      }
     ],
     "prompt_number": 11
    },
    {
     "cell_type": "code",
     "collapsed": false,
     "input": [
      "+{T}(v1::Vector2D{T}, v2::Vector2D{T}) = Vector2D{T}(v1.x+v2.x, v1.y+v2.y)\n",
      "\n",
      "*{T}(v::Vector2D{T}, lamb::Number)  = Vector2D{T}(lamb*v.x, lamb*v.y)"
     ],
     "language": "python",
     "metadata": {},
     "outputs": [
      {
       "metadata": {},
       "output_type": "pyout",
       "prompt_number": 13,
       "text": [
        "* (generic function with 127 methods)"
       ]
      }
     ],
     "prompt_number": 13
    },
    {
     "cell_type": "code",
     "collapsed": false,
     "input": [
      "move(p, 0.1)"
     ],
     "language": "python",
     "metadata": {},
     "outputs": [
      {
       "metadata": {},
       "output_type": "pyout",
       "prompt_number": 14,
       "text": [
        "[0.1, 0.1]"
       ]
      }
     ],
     "prompt_number": 14
    },
    {
     "cell_type": "code",
     "collapsed": false,
     "input": [
      "p"
     ],
     "language": "python",
     "metadata": {},
     "outputs": [
      {
       "metadata": {},
       "output_type": "pyout",
       "prompt_number": 8,
       "text": [
        "Particle(Vector2D(0.1,0.1),Vector2D(1.0,1.0))"
       ]
      }
     ],
     "prompt_number": 8
    },
    {
     "cell_type": "markdown",
     "metadata": {},
     "source": [
      "Now we can define a gas as a collection of particle:"
     ]
    },
    {
     "cell_type": "code",
     "collapsed": false,
     "input": [
      "Int"
     ],
     "language": "python",
     "metadata": {},
     "outputs": [
      {
       "metadata": {},
       "output_type": "pyout",
       "prompt_number": 15,
       "text": [
        "Int64"
       ]
      }
     ],
     "prompt_number": 15
    },
    {
     "cell_type": "code",
     "collapsed": false,
     "input": [
      "type Gas\n",
      "    particles::Vector{Particle}  # Array{Particle, 1}\n",
      "    \n",
      "    function Gas(N::Integer)\n",
      "        parts = [Particle(Vector2D(rand(2)...), Vector2D(rand(2)...)) for i in 1:N]\n",
      "        new(parts)\n",
      "    end\n",
      "end"
     ],
     "language": "python",
     "metadata": {},
     "outputs": [],
     "prompt_number": 16
    },
    {
     "cell_type": "code",
     "collapsed": false,
     "input": [
      "show(io::IO, g::Gas) = for i in 1:length(g.particles); \\\n",
      "    println(io, \"Particle $i: $(g.particles[i])\"); end"
     ],
     "language": "python",
     "metadata": {},
     "outputs": [
      {
       "metadata": {},
       "output_type": "pyout",
       "prompt_number": 17,
       "text": [
        "show (generic function with 93 methods)"
       ]
      }
     ],
     "prompt_number": 17
    },
    {
     "cell_type": "code",
     "collapsed": false,
     "input": [
      "g = Gas(10)"
     ],
     "language": "python",
     "metadata": {},
     "outputs": [
      {
       "metadata": {},
       "output_type": "pyout",
       "prompt_number": 18,
       "text": [
        "Particle 1: pos: [0.8401571871406985, 0.18856970525763184]; vel: [0.4596812641022978, 0.5784262750724491]\n",
        "Particle 2: pos: [0.31451484655671647, 0.10567720577699169]; vel: [0.6793346556536703, 0.7043142026390625]\n",
        "Particle 3: pos: [0.2837859636931628, 0.5789334209946704]; vel: [0.6970907948612055, 0.9252322283977674]\n",
        "Particle 4: pos: [0.4880527858855739, 0.6011994939455119]; vel: [0.27086791922118336, 0.7983654060058591]\n",
        "Particle 5: pos: [0.40422329467131, 0.4167640334568994]; vel: [0.17875915401147457, 0.8245688498769441]\n",
        "Particle 6: pos: [0.11205564713828187, 0.31206386913314965]; vel: [0.9344556687726897, 0.10661012636906952]\n",
        "Particle 7: pos: [0.758378072195554, 0.296551074205055]; vel: [0.24019765986222263, 0.19659517334941445]\n",
        "Particle 8: pos: [0.19922196169683493, 0.5900826738906546]; vel: [0.2936470240291018, 0.6600190957249954]\n",
        "Particle 9: pos: [0.13252747366692819, 0.7307090616735368]; vel: [0.9020558731460289, 0.8512875803383082]\n",
        "Particle 10: pos: [0.3379179889713879, 0.06402477243763549]; vel: [0.6014263963042701, 0.22639908858998958]\n"
       ]
      }
     ],
     "prompt_number": 18
    },
    {
     "cell_type": "code",
     "collapsed": false,
     "input": [
      "move(g, 1)\n",
      "g"
     ],
     "language": "python",
     "metadata": {},
     "outputs": [
      {
       "metadata": {},
       "output_type": "pyout",
       "prompt_number": 41,
       "text": [
        "Particle 1: pos: [0.730880319692343, 0.2796501535129359]; vel: [0.011193267298662768, 0.1896808129627281]\n",
        "Particle 2: pos: [1.16039593789992, 0.9441692275849607]; vel: [0.263429151377901, 0.8468877504970715]\n",
        "Particle 3: pos: [1.6666067582365627, 0.3961299078605012]; vel: [0.7700748108540991, 0.2196494577690271]\n",
        "Particle 4: pos: [0.9701729190049899, 0.7843895045657923]; vel: [0.25339292712850914, 0.35521212198092544]\n",
        "Particle 5: pos: [0.6973622153663408, 1.0810152148402645]; vel: [0.4550143749133051, 0.6443745244169132]\n",
        "Particle 6: pos: [0.7266153528207528, 0.22939062897384166]; vel: [0.23270614878986695, 0.2170317822421448]\n",
        "Particle 7: pos: [0.3522289676319774, 1.8952100652781094]; vel: [0.2328368405667145, 0.9154546952395797]\n",
        "Particle 8: pos: [0.6517052073532643, 0.7954128199341437]; vel: [0.6212587027599834, 0.40434264420206345]\n",
        "Particle 9: pos: [1.461020849277742, 1.0270123116841756]; vel: [0.7485545114358987, 0.23357706552863133]\n",
        "Particle 10: pos: [1.3454456302874394, 0.9754278188746057]; vel: [0.7429592498565307, 0.12339036567006523]\n"
       ]
      }
     ],
     "prompt_number": 41
    },
    {
     "cell_type": "code",
     "collapsed": false,
     "input": [
      "function move(g::Gas, dt::Number)\n",
      "    for particle in g.particles\n",
      "        move(particle, dt)\n",
      "    end\n",
      "end"
     ],
     "language": "python",
     "metadata": {},
     "outputs": [
      {
       "metadata": {},
       "output_type": "pyout",
       "prompt_number": 36,
       "text": [
        "move (generic function with 2 methods)"
       ]
      }
     ],
     "prompt_number": 36
    },
    {
     "cell_type": "code",
     "collapsed": false,
     "input": [
      "move(g, 1)"
     ],
     "language": "python",
     "metadata": {},
     "outputs": [
      {
       "output_type": "stream",
       "stream": "stdout",
       "text": [
        "[Particle"
       ]
      },
      {
       "output_type": "stream",
       "stream": "stdout",
       "text": [
        "(Vector2D(0.4100545643085276,0.7676363902728662),Vector2D(0.24938626268837427,0.9825967553493955)),Particle(Vector2D(0.2102452108859496,0.889693333563705),Vector2D(0.21287583861363224,0.8068570118314959)),Particle(Vector2D(0.19724340554018993,0.7904963971058772),Vector2D(0.536265203822587,0.9037289864895577)),Particle(Vector2D(0.25780964395756567,0.36770118129693063),Vector2D(0.8062880526148144,0.26950033650622607)),Particle(Vector2D(0.674431498602819,0.6854905990848916),Vector2D(0.7982268753553292,0.9381682737272479)),Particle(Vector2D(0.3107654997497411,0.00916652369829607),Vector2D(0.6903239459974226,0.3335712930840613)),Particle(Vector2D(0.8337757015793896,0.4019794592055861),Vector2D(0.8398063168102692,0.409628854228981)),Particle(Vector2D(0.8886642578985902,0.2662466340462406),Vector2D(0.36997149382773076,0.012723333186220875)),Particle(Vector2D(0.2980807091871105,0.4647730476022649),Vector2D(0.4908256919109293,0.1966075391583828)),Particle(Vector2D(0.9310095003592627,0.7354528651044734),Vector2D(0.9694676029513127,0.7690493773372564))]\n"
       ]
      }
     ],
     "prompt_number": 99
    },
    {
     "cell_type": "code",
     "collapsed": false,
     "input": [
      "g"
     ],
     "language": "python",
     "metadata": {},
     "outputs": [
      {
       "output_type": "stream",
       "stream": "stdout",
       "text": [
        "Particle("
       ]
      },
      {
       "metadata": {},
       "output_type": "pyout",
       "prompt_number": 100,
       "text": []
      },
      {
       "output_type": "stream",
       "stream": "stdout",
       "text": [
        "Vector2D(0.6594408269969019,1.7502331456222617),Vector2D(0.24938626268837427,0.9825967553493955))\n",
        "Particle(Vector2D(0.42312104949958185,1.6965503453952009),Vector2D(0.21287583861363224,0.8068570118314959))\n",
        "Particle(Vector2D(0.733508609362777,1.6942253835954348),Vector2D(0.536265203822587,0.9037289864895577))\n",
        "Particle(Vector2D(1.06409769657238,0.6372015178031567),Vector2D(0.8062880526148144,0.26950033650622607))\n",
        "Particle(Vector2D(1.4726583739581482,1.6236588728121395),Vector2D(0.7982268753553292,0.9381682737272479))\n",
        "Particle(Vector2D(1.0010894457471637,0.3427378167823574),Vector2D(0.6903239459974226,0.3335712930840613))\n",
        "Particle(Vector2D(1.6735820183896588,0.8116083134345671),Vector2D(0.8398063168102692,0.409628854228981))\n",
        "Particle(Vector2D(1.258635751726321,0.2789699672324615),Vector2D(0.36997149382773076,0.012723333186220875))\n",
        "Particle(Vector2D(0.7889064010980398,0.6613805867606477),Vector2D(0.4908256919109293,0.1966075391583828))\n",
        "Particle(Vector2D(1.9004771033105754,1.5045022424417298),Vector2D(0.9694676029513127,0.7690493773372564))\n"
       ]
      }
     ],
     "prompt_number": 100
    }
   ],
   "metadata": {}
  }
 ]
}