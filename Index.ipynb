{
 "metadata": {
  "language": "Julia",
  "name": "",
  "signature": "sha256:798f4153e713a7b61d2111fe4777d04fc07c09345ea9808370a3de3b9695e2e7"
 },
 "nbformat": 3,
 "nbformat_minor": 0,
 "worksheets": [
  {
   "cells": [
    {
     "cell_type": "markdown",
     "metadata": {},
     "source": [
      "We will cover the following topics:"
     ]
    },
    {
     "cell_type": "markdown",
     "metadata": {},
     "source": [
      "- [Installing](Installing.ipynb)\n",
      "- [Introduction - basic syntax](Introduction.ipynb)\n",
      "- [Packages and ecosysetm](Packages.ipynb)\n",
      "- [Plotting](Plotting.ipynb)\n",
      "- [Defining types](Defining_Types.ipynb)\n",
      "- [Performance and Profiling](Performance.ipynb)\n",
      "- [Calling Python and C](Calling_Out.ipynb)"
     ]
    }
   ],
   "metadata": {}
  }
 ]
}