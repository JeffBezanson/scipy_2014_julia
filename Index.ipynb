{
 "metadata": {
  "language": "Julia",
  "name": "",
  "signature": "sha256:798f4153e713a7b61d2111fe4777d04fc07c09345ea9808370a3de3b9695e2e7"
 },
 "nbformat": 3,
 "nbformat_minor": 0,
 "worksheets": [
  {
   "cells": [
    {
     "cell_type": "markdown",
     "metadata": {},
     "source": [
      "We will cover the following topics:"
     ]
    },
    {
     "cell_type": "markdown",
     "metadata": {},
     "source": [
      "- [Installing](Installing.ipynb)\n",
      "- [Introduction - Basic Julia syntax](Introduction.ipynb)\n",
      "- [Packages and Ecosysetm](Packages.ipynb)\n",
      "- [Plotting](Plotting.ipynb)\n",
      "- [Defining a new type](Defining Types.ipynb)\n",
      "- [Performance and Profiling](Performance.ipynb)\n",
      "- [Calling Python and C](Calling Python and C.ipynb)"
     ]
    }
   ],
   "metadata": {}
  }
 ]
}