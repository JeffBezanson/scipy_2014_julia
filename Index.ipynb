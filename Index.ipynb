{
 "metadata": {
  "language": "Julia",
  "name": "",
  "signature": "sha256:798f4153e713a7b61d2111fe4777d04fc07c09345ea9808370a3de3b9695e2e7"
 },
 "nbformat": 3,
 "nbformat_minor": 0,
 "worksheets": [
  {
   "cells": [
    {
     "cell_type": "markdown",
     "metadata": {},
     "source": [
      "We will cover the following topics:"
     ]
    },
    {
     "cell_type": "markdown",
     "metadata": {},
     "source": [
      "- [Introduction - Basic Julia syntax](Introduction.ipynb)\n",
      "- [Packages and Ecosysetm](Packages.ipynb)\n",
      "- [Plotting](Plotting.ipynb)\n",
      "- [Defining a new type](Defining Types.ipynb)\n",
      "- [Performance in Julia](Performance in Julia.ipynb)\n",
      "- [Metaprogramming](Metaprogramming.ipynb)\n",
      "- [Interoperability with Python and C](Interoperability with Python and C.ipynb)\n",
      "- [Where to go next](What's next.ipynb)"
     ]
    },
    {
     "cell_type": "code",
     "collapsed": false,
     "input": [],
     "language": "python",
     "metadata": {},
     "outputs": []
    }
   ],
   "metadata": {}
  }
 ]
}