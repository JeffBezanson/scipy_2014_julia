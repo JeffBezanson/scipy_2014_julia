{
 "metadata": {
  "language": "Julia",
  "name": "",
  "signature": "sha256:c360c1ab1aeb8846a88796f642f1c0e9f24dfa64ad36c58d801b44d8b46cd904"
 },
 "nbformat": 3,
 "nbformat_minor": 0,
 "worksheets": [
  {
   "cells": [
    {
     "cell_type": "heading",
     "level": 1,
     "metadata": {},
     "source": [
      "Introduction to Julia"
     ]
    },
    {
     "cell_type": "markdown",
     "metadata": {},
     "source": [
      "Let's start with a quick overview of the basic syntax."
     ]
    },
    {
     "cell_type": "heading",
     "level": 1,
     "metadata": {},
     "source": [
      "Variables and arithmetic"
     ]
    },
    {
     "cell_type": "markdown",
     "metadata": {},
     "source": [
      "Variables in Julia are usually introduced with a simple assignment operation; variable names can include appropriate unicode characters. Many may be entered in LaTeX notation, using tab substitution: type `\\alpha<TAB>`. There is also tab completion on partial names: `\\alp<TAB>`"
     ]
    },
    {
     "cell_type": "code",
     "collapsed": false,
     "input": [
      "x = 3"
     ],
     "language": "python",
     "metadata": {},
     "outputs": [
      {
       "metadata": {},
       "output_type": "pyout",
       "prompt_number": 2,
       "text": [
        "3"
       ]
      }
     ],
     "prompt_number": 2
    },
    {
     "cell_type": "code",
     "collapsed": false,
     "input": [
      "\u03b1 = 3; \u2135 = 10"
     ],
     "language": "python",
     "metadata": {},
     "outputs": [
      {
       "metadata": {},
       "output_type": "pyout",
       "prompt_number": 5,
       "text": [
        "10"
       ]
      }
     ],
     "prompt_number": 5
    },
    {
     "cell_type": "markdown",
     "metadata": {},
     "source": [
      "Functions use parentheses (round brackets, `()`) around the arguments being passed. `println` prints its arguments, followed by a new line. [`print` omits the new line.] "
     ]
    },
    {
     "cell_type": "code",
     "collapsed": false,
     "input": [
      "println(\"\u03b1 = \", \u03b1)"
     ],
     "language": "python",
     "metadata": {},
     "outputs": [
      {
       "output_type": "stream",
       "stream": "stdout",
       "text": [
        "\u03b1 = 3"
       ]
      },
      {
       "output_type": "stream",
       "stream": "stdout",
       "text": [
        "\n"
       ]
      }
     ],
     "prompt_number": 6
    },
    {
     "cell_type": "markdown",
     "metadata": {},
     "source": [
      "Simple functions may be defined with a nice mathematical syntax; `*` is not needed to multiply by a constant:"
     ]
    },
    {
     "cell_type": "code",
     "collapsed": false,
     "input": [
      "f(x) = 2x^2 + 3x + 1\n",
      "g(x) = f(x) - (2x+1)*(x+1)"
     ],
     "language": "python",
     "metadata": {},
     "outputs": [
      {
       "metadata": {},
       "output_type": "pyout",
       "prompt_number": 1,
       "text": [
        "g (generic function with 1 method)"
       ]
      }
     ],
     "prompt_number": 1
    },
    {
     "cell_type": "code",
     "collapsed": false,
     "input": [
      "f(3)"
     ],
     "language": "python",
     "metadata": {},
     "outputs": [
      {
       "metadata": {},
       "output_type": "pyout",
       "prompt_number": 2,
       "text": [
        "28"
       ]
      }
     ],
     "prompt_number": 2
    },
    {
     "cell_type": "code",
     "collapsed": false,
     "input": [
      "g(3.5)"
     ],
     "language": "python",
     "metadata": {},
     "outputs": [
      {
       "metadata": {},
       "output_type": "pyout",
       "prompt_number": 3,
       "text": [
        "0.0"
       ]
      }
     ],
     "prompt_number": 3
    },
    {
     "cell_type": "heading",
     "level": 2,
     "metadata": {},
     "source": [
      "String interpolation"
     ]
    },
    {
     "cell_type": "markdown",
     "metadata": {},
     "source": [
      "The values of variables may be substituted into strings using `$`:"
     ]
    },
    {
     "cell_type": "code",
     "collapsed": false,
     "input": [
      "# Variable substitution with $:\n",
      "name = \"David\"\n",
      "greeting = \"Hello, $name\"\n",
      "println(greeting)"
     ],
     "language": "python",
     "metadata": {},
     "outputs": [
      {
       "output_type": "stream",
       "stream": "stdout",
       "text": [
        "Hello, David\n"
       ]
      }
     ],
     "prompt_number": 4
    },
    {
     "cell_type": "markdown",
     "metadata": {},
     "source": [
      "More complicated expressions are wrapped in parentheses:"
     ]
    },
    {
     "cell_type": "code",
     "collapsed": false,
     "input": [
      "\u03bc = 3\n",
      "println(\"The sine of $\u03bc is $(sin(\u03bc))\")"
     ],
     "language": "python",
     "metadata": {},
     "outputs": [
      {
       "output_type": "stream",
       "stream": "stdout",
       "text": [
        "The sine of 3 is 0.1411200080598672\n"
       ]
      }
     ],
     "prompt_number": 5
    },
    {
     "cell_type": "heading",
     "level": 2,
     "metadata": {},
     "source": [
      "Numeric types"
     ]
    },
    {
     "cell_type": "markdown",
     "metadata": {},
     "source": [
      "There are numeric types with different precisions: typing `Float<TAB>` or `Int<TAB>` will provide a list. Currently, in arithmetic small integer types are promoted to the machine type. (This is likely to change soon.)"
     ]
    },
    {
     "cell_type": "markdown",
     "metadata": {},
     "source": [
      "Machine integers!"
     ]
    },
    {
     "cell_type": "code",
     "collapsed": false,
     "input": [
      "a = int(1e16)\n",
      "a * 10"
     ],
     "language": "python",
     "metadata": {},
     "outputs": [
      {
       "metadata": {},
       "output_type": "pyout",
       "prompt_number": 15,
       "text": [
        "100000000000000000"
       ]
      }
     ],
     "prompt_number": 15
    },
    {
     "cell_type": "code",
     "collapsed": false,
     "input": [
      "a = int8(1)\n",
      "b = int8(2)\n",
      "a + b"
     ],
     "language": "python",
     "metadata": {},
     "outputs": [
      {
       "metadata": {},
       "output_type": "pyout",
       "prompt_number": 5,
       "text": [
        "3"
       ]
      }
     ],
     "prompt_number": 5
    },
    {
     "cell_type": "code",
     "collapsed": false,
     "input": [
      "typeof(ans)"
     ],
     "language": "python",
     "metadata": {},
     "outputs": [
      {
       "metadata": {},
       "output_type": "pyout",
       "prompt_number": 6,
       "text": [
        "Int64"
       ]
      }
     ],
     "prompt_number": 6
    },
    {
     "cell_type": "markdown",
     "metadata": {},
     "source": [
      "These promotion rules are defined in `int.jl`."
     ]
    },
    {
     "cell_type": "heading",
     "level": 2,
     "metadata": {},
     "source": [
      "Arbitrary-precision arithmetic"
     ]
    },
    {
     "cell_type": "markdown",
     "metadata": {},
     "source": [
      "Arbitrary-precision integers and floating points are available through the types `BigInt` and `BigFloat`. The function `big` converts a number into the corresponding `Big` type:"
     ]
    },
    {
     "cell_type": "code",
     "collapsed": false,
     "input": [
      "big(10)"
     ],
     "language": "python",
     "metadata": {},
     "outputs": [
      {
       "metadata": {},
       "output_type": "pyout",
       "prompt_number": 16,
       "text": [
        "10"
       ]
      }
     ],
     "prompt_number": 16
    },
    {
     "cell_type": "code",
     "collapsed": false,
     "input": [
      "typeof(ans)"
     ],
     "language": "python",
     "metadata": {},
     "outputs": [
      {
       "metadata": {},
       "output_type": "pyout",
       "prompt_number": 17,
       "text": [
        "BigInt (constructor with 10 methods)"
       ]
      }
     ],
     "prompt_number": 17
    },
    {
     "cell_type": "markdown",
     "metadata": {},
     "source": [
      "Note that, unlike in Python, integers *are not* automatically promoted to arbitrary-precision integers."
     ]
    },
    {
     "cell_type": "markdown",
     "metadata": {},
     "source": [
      "----\n",
      "**Exercise**: Calculate powers of 10 using standard integers and `BigInt`s\n",
      "\n",
      "----"
     ]
    },
    {
     "cell_type": "code",
     "collapsed": false,
     "input": [
      "10^5"
     ],
     "language": "python",
     "metadata": {},
     "outputs": [
      {
       "metadata": {},
       "output_type": "pyout",
       "prompt_number": 18,
       "text": [
        "100000"
       ]
      }
     ],
     "prompt_number": 18
    },
    {
     "cell_type": "code",
     "collapsed": false,
     "input": [
      "10**5"
     ],
     "language": "python",
     "metadata": {},
     "outputs": [
      {
       "ename": "LoadError",
       "evalue": "syntax: use \"^\" instead of \"**\"\nwhile loading In[19], in expression starting on line 1",
       "output_type": "pyerr",
       "traceback": [
        "syntax: use \"^\" instead of \"**\"\nwhile loading In[19], in expression starting on line 1"
       ]
      }
     ],
     "prompt_number": 19
    },
    {
     "cell_type": "code",
     "collapsed": false,
     "input": [
      "10^19"
     ],
     "language": "python",
     "metadata": {},
     "outputs": [
      {
       "metadata": {},
       "output_type": "pyout",
       "prompt_number": 24,
       "text": [
        "-8446744073709551616"
       ]
      }
     ],
     "prompt_number": 24
    },
    {
     "cell_type": "code",
     "collapsed": false,
     "input": [
      "ten = big(10)"
     ],
     "language": "python",
     "metadata": {},
     "outputs": [
      {
       "metadata": {},
       "output_type": "pyout",
       "prompt_number": 25,
       "text": [
        "10"
       ]
      }
     ],
     "prompt_number": 25
    },
    {
     "cell_type": "code",
     "collapsed": false,
     "input": [
      "ten^19"
     ],
     "language": "python",
     "metadata": {},
     "outputs": [
      {
       "metadata": {},
       "output_type": "pyout",
       "prompt_number": 27,
       "text": [
        "10000000000000000000"
       ]
      }
     ],
     "prompt_number": 27
    },
    {
     "cell_type": "code",
     "collapsed": false,
     "input": [
      "i = int8(10)"
     ],
     "language": "python",
     "metadata": {},
     "outputs": [
      {
       "metadata": {},
       "output_type": "pyout",
       "prompt_number": 30,
       "text": [
        "10"
       ]
      }
     ],
     "prompt_number": 30
    },
    {
     "cell_type": "code",
     "collapsed": false,
     "input": [
      "i * int8(1)"
     ],
     "language": "python",
     "metadata": {},
     "outputs": [
      {
       "metadata": {},
       "output_type": "pyout",
       "prompt_number": 38,
       "text": [
        "10"
       ]
      }
     ],
     "prompt_number": 38
    },
    {
     "cell_type": "code",
     "collapsed": false,
     "input": [
      "typeof(ans)"
     ],
     "language": "python",
     "metadata": {},
     "outputs": [
      {
       "metadata": {},
       "output_type": "pyout",
       "prompt_number": 39,
       "text": [
        "Int64"
       ]
      }
     ],
     "prompt_number": 39
    },
    {
     "cell_type": "code",
     "collapsed": false,
     "input": [
      "typemax(Int64)"
     ],
     "language": "python",
     "metadata": {},
     "outputs": [
      {
       "metadata": {},
       "output_type": "pyout",
       "prompt_number": 35,
       "text": [
        "9223372036854775807"
       ]
      }
     ],
     "prompt_number": 35
    },
    {
     "cell_type": "code",
     "collapsed": false,
     "input": [
      "typemin(Int64)"
     ],
     "language": "python",
     "metadata": {},
     "outputs": [
      {
       "metadata": {},
       "output_type": "pyout",
       "prompt_number": 36,
       "text": [
        "-9223372036854775808"
       ]
      }
     ],
     "prompt_number": 36
    },
    {
     "cell_type": "heading",
     "level": 2,
     "metadata": {},
     "source": [
      "Complex numbers"
     ]
    },
    {
     "cell_type": "markdown",
     "metadata": {},
     "source": [
      "Complex numbers are written using `im` for the imaginary part (note this is just multiplication):"
     ]
    },
    {
     "cell_type": "code",
     "collapsed": false,
     "input": [
      "a = 7\n",
      "c = (1+3.5im) * a"
     ],
     "language": "python",
     "metadata": {},
     "outputs": [
      {
       "metadata": {},
       "output_type": "pyout",
       "prompt_number": 6,
       "text": [
        "7.0 + 24.5im"
       ]
      }
     ],
     "prompt_number": 6
    },
    {
     "cell_type": "code",
     "collapsed": false,
     "input": [
      "imag(c)"
     ],
     "language": "python",
     "metadata": {},
     "outputs": [
      {
       "metadata": {},
       "output_type": "pyout",
       "prompt_number": 7,
       "text": [
        "24.5"
       ]
      }
     ],
     "prompt_number": 7
    },
    {
     "cell_type": "code",
     "collapsed": false,
     "input": [
      "real(c), imag(c)"
     ],
     "language": "python",
     "metadata": {},
     "outputs": [
      {
       "metadata": {},
       "output_type": "pyout",
       "prompt_number": 8,
       "text": [
        "(7.0,24.5)"
       ]
      }
     ],
     "prompt_number": 8
    },
    {
     "cell_type": "code",
     "collapsed": false,
     "input": [
      "c * conj(c)  # conj is a function that returns the conjugate of a complex number"
     ],
     "language": "python",
     "metadata": {},
     "outputs": [
      {
       "metadata": {},
       "output_type": "pyout",
       "prompt_number": 9,
       "text": [
        "649.25 + 0.0im"
       ]
      }
     ],
     "prompt_number": 9
    },
    {
     "cell_type": "markdown",
     "metadata": {},
     "source": [
      "(Tuples behave similarly to Python.)"
     ]
    },
    {
     "cell_type": "heading",
     "level": 2,
     "metadata": {},
     "source": [
      "Rational numbers"
     ]
    },
    {
     "cell_type": "markdown",
     "metadata": {},
     "source": [
      "Rational numbers are also in the standard library; they are created using the `//` operator:"
     ]
    },
    {
     "cell_type": "code",
     "collapsed": false,
     "input": [
      "3//4"
     ],
     "language": "python",
     "metadata": {},
     "outputs": [
      {
       "metadata": {},
       "output_type": "pyout",
       "prompt_number": 42,
       "text": [
        "3//4"
       ]
      }
     ],
     "prompt_number": 42
    },
    {
     "cell_type": "code",
     "collapsed": false,
     "input": [
      "typeof(ans)"
     ],
     "language": "python",
     "metadata": {},
     "outputs": [
      {
       "metadata": {},
       "output_type": "pyout",
       "prompt_number": 43,
       "text": [
        "Rational{Int64} (constructor with 1 method)"
       ]
      }
     ],
     "prompt_number": 43
    },
    {
     "cell_type": "code",
     "collapsed": false,
     "input": [
      "(big(3)//4)^50"
     ],
     "language": "python",
     "metadata": {},
     "outputs": [
      {
       "metadata": {},
       "output_type": "pyout",
       "prompt_number": 49,
       "text": [
        "717897987691852588770249//1267650600228229401496703205376"
       ]
      }
     ],
     "prompt_number": 49
    },
    {
     "cell_type": "code",
     "collapsed": false,
     "input": [
      "typeof(ans)"
     ],
     "language": "python",
     "metadata": {},
     "outputs": [
      {
       "metadata": {},
       "output_type": "pyout",
       "prompt_number": 50,
       "text": [
        "Rational{BigInt} (constructor with 1 method)"
       ]
      }
     ],
     "prompt_number": 50
    },
    {
     "cell_type": "code",
     "collapsed": false,
     "input": [
      "3//4 + 5//6"
     ],
     "language": "python",
     "metadata": {},
     "outputs": [
      {
       "metadata": {},
       "output_type": "pyout",
       "prompt_number": 58,
       "text": [
        "19//12"
       ]
      }
     ],
     "prompt_number": 58
    },
    {
     "cell_type": "markdown",
     "metadata": {},
     "source": [
      "Operators and functions are identical; they just permit different syntax:"
     ]
    },
    {
     "cell_type": "code",
     "collapsed": false,
     "input": [
      "+(3, 4)"
     ],
     "language": "python",
     "metadata": {},
     "outputs": [
      {
       "metadata": {},
       "output_type": "pyout",
       "prompt_number": 51,
       "text": [
        "7"
       ]
      }
     ],
     "prompt_number": 51
    },
    {
     "cell_type": "code",
     "collapsed": false,
     "input": [
      "//(3, 4)"
     ],
     "language": "python",
     "metadata": {},
     "outputs": [
      {
       "metadata": {},
       "output_type": "pyout",
       "prompt_number": 8,
       "text": [
        "3//4"
       ]
      }
     ],
     "prompt_number": 8
    },
    {
     "cell_type": "code",
     "collapsed": false,
     "input": [
      "//"
     ],
     "language": "python",
     "metadata": {},
     "outputs": [
      {
       "metadata": {},
       "output_type": "pyout",
       "prompt_number": 52,
       "text": [
        "// (generic function with 8 methods)"
       ]
      }
     ],
     "prompt_number": 52
    },
    {
     "cell_type": "markdown",
     "metadata": {},
     "source": [
      "We see that `//` is a *function*, implemented as a series of *methods*. We can see what these methods are:"
     ]
    },
    {
     "cell_type": "code",
     "collapsed": false,
     "input": [
      "methods(//)"
     ],
     "language": "python",
     "metadata": {},
     "outputs": [
      {
       "html": [
        "8 methods for generic function <b>//</b>:<ul><li> //(n::<b>Integer</b>,d::<b>Integer</b>) at <a href=\"https://github.com/JuliaLang/julia/tree/7e7462150f72721caf0e6bd6e7e7e500d1efb187/base/rational.jl#L17\" target=\"_blank\">rational.jl:17</a><li> //(x::<b>Rational{T<:Integer}</b>,y::<b>Integer</b>) at <a href=\"https://github.com/JuliaLang/julia/tree/7e7462150f72721caf0e6bd6e7e7e500d1efb187/base/rational.jl#L18\" target=\"_blank\">rational.jl:18</a><li> //(x::<b>Integer</b>,y::<b>Rational{T<:Integer}</b>) at <a href=\"https://github.com/JuliaLang/julia/tree/7e7462150f72721caf0e6bd6e7e7e500d1efb187/base/rational.jl#L19\" target=\"_blank\">rational.jl:19</a><li> //(x::<b>Rational{T<:Integer}</b>,y::<b>Rational{T<:Integer}</b>) at <a href=\"https://github.com/JuliaLang/julia/tree/7e7462150f72721caf0e6bd6e7e7e500d1efb187/base/rational.jl#L20\" target=\"_blank\">rational.jl:20</a><li> //(x::<b>Complex{T<:Real}</b>,y::<b>Real</b>) at <a href=\"https://github.com/JuliaLang/julia/tree/7e7462150f72721caf0e6bd6e7e7e500d1efb187/base/rational.jl#L21\" target=\"_blank\">rational.jl:21</a><li> //(x::<b>Real</b>,y::<b>Complex{T<:Real}</b>) at <a href=\"https://github.com/JuliaLang/julia/tree/7e7462150f72721caf0e6bd6e7e7e500d1efb187/base/rational.jl#L22\" target=\"_blank\">rational.jl:22</a><li> //(x::<b>Complex{T<:Real}</b>,y::<b>Complex{T<:Real}</b>) at <a href=\"https://github.com/JuliaLang/julia/tree/7e7462150f72721caf0e6bd6e7e7e500d1efb187/base/rational.jl#L25\" target=\"_blank\">rational.jl:25</a><li> //(X::<b>AbstractArray{T,N}</b>,y::<b>Number</b>) at <a href=\"https://github.com/JuliaLang/julia/tree/7e7462150f72721caf0e6bd6e7e7e500d1efb187/base/rational.jl#L30\" target=\"_blank\">rational.jl:30</a></ul>"
       ],
       "metadata": {},
       "output_type": "pyout",
       "prompt_number": 53,
       "text": [
        "# 8 methods for generic function \"//\":\n",
        "//(n::Integer,d::Integer) at rational.jl:17\n",
        "//(x::Rational{T<:Integer},y::Integer) at rational.jl:18\n",
        "//(x::Integer,y::Rational{T<:Integer}) at rational.jl:19\n",
        "//(x::Rational{T<:Integer},y::Rational{T<:Integer}) at rational.jl:20\n",
        "//(x::Complex{T<:Real},y::Real) at rational.jl:21\n",
        "//(x::Real,y::Complex{T<:Real}) at rational.jl:22\n",
        "//(x::Complex{T<:Real},y::Complex{T<:Real}) at rational.jl:25\n",
        "//(X::AbstractArray{T,N},y::Number) at rational.jl:30"
       ]
      }
     ],
     "prompt_number": 53
    },
    {
     "cell_type": "markdown",
     "metadata": {},
     "source": [
      "The expression `n::Integer` is a *type annotation* that specifies that the method applies when its first argument is of type `Integer`."
     ]
    },
    {
     "cell_type": "markdown",
     "metadata": {},
     "source": [
      "Clicking on the file name takes us directly to the Julia standard library source code on GitHub where these functions are defined!"
     ]
    },
    {
     "cell_type": "code",
     "collapsed": false,
     "input": [
      "rationalize(1pi, tol=.01)"
     ],
     "language": "python",
     "metadata": {},
     "outputs": [
      {
       "metadata": {},
       "output_type": "pyout",
       "prompt_number": 60,
       "text": [
        "22//7"
       ]
      }
     ],
     "prompt_number": 60
    },
    {
     "cell_type": "code",
     "collapsed": false,
     "input": [
      "rationalize(1pi, tol=.001)"
     ],
     "language": "python",
     "metadata": {},
     "outputs": [
      {
       "metadata": {},
       "output_type": "pyout",
       "prompt_number": 61,
       "text": [
        "333//106"
       ]
      }
     ],
     "prompt_number": 61
    },
    {
     "cell_type": "heading",
     "level": 1,
     "metadata": {},
     "source": [
      "Arrays"
     ]
    },
    {
     "cell_type": "markdown",
     "metadata": {},
     "source": [
      "Square brackets construct \"tightly-typed\" arrays:"
     ]
    },
    {
     "cell_type": "code",
     "collapsed": false,
     "input": [
      "l = [3, 4, 5]"
     ],
     "language": "python",
     "metadata": {},
     "outputs": [
      {
       "metadata": {},
       "output_type": "pyout",
       "prompt_number": 61,
       "text": [
        "3-element Array{Int64,1}:\n",
        " 3\n",
        " 4\n",
        " 5"
       ]
      }
     ],
     "prompt_number": 61
    },
    {
     "cell_type": "code",
     "collapsed": false,
     "input": [
      "typeof(l)"
     ],
     "language": "python",
     "metadata": {},
     "outputs": [
      {
       "metadata": {},
       "output_type": "pyout",
       "prompt_number": 59,
       "text": [
        "Array{Int64,1}"
       ]
      }
     ],
     "prompt_number": 59
    },
    {
     "cell_type": "markdown",
     "metadata": {},
     "source": [
      "In Julia these objects are called `Array`s. The curly braces indicate type parameters of the `Array` type. The first is the type of element contained in the `Array` (all must be of the same type) and the second the number of dimensions."
     ]
    },
    {
     "cell_type": "markdown",
     "metadata": {},
     "source": [
      "----\n",
      "**Exercise**: Try to create an array in this way with elements of different types. What happens?\n",
      "\n",
      "----"
     ]
    },
    {
     "cell_type": "code",
     "collapsed": false,
     "input": [
      "l = [3., 4, 5]"
     ],
     "language": "python",
     "metadata": {},
     "outputs": [
      {
       "metadata": {},
       "output_type": "pyout",
       "prompt_number": 62,
       "text": [
        "3-element Array{Float64,1}:\n",
        " 3.0\n",
        " 4.0\n",
        " 5.0"
       ]
      }
     ],
     "prompt_number": 62
    },
    {
     "cell_type": "code",
     "collapsed": false,
     "input": [
      "l = [3., \"a\"]"
     ],
     "language": "python",
     "metadata": {},
     "outputs": [
      {
       "metadata": {},
       "output_type": "pyout",
       "prompt_number": 64,
       "text": [
        "2-element Array{Any,1}:\n",
        " 3.0 \n",
        "  \"a\""
       ]
      }
     ],
     "prompt_number": 64
    },
    {
     "cell_type": "code",
     "collapsed": false,
     "input": [
      "l = [3., 'a']"
     ],
     "language": "python",
     "metadata": {},
     "outputs": [
      {
       "metadata": {},
       "output_type": "pyout",
       "prompt_number": 65,
       "text": [
        "2-element Array{Float64,1}:\n",
        "  3.0\n",
        " 97.0"
       ]
      }
     ],
     "prompt_number": 65
    },
    {
     "cell_type": "markdown",
     "metadata": {},
     "source": [
      "Curly brackets create heterogeneous, \"Any\" Arrays:"
     ]
    },
    {
     "cell_type": "code",
     "collapsed": false,
     "input": [
      "l = {3., 4, \"hello\", [3, 4]}"
     ],
     "language": "python",
     "metadata": {},
     "outputs": [
      {
       "metadata": {},
       "output_type": "pyout",
       "prompt_number": 66,
       "text": [
        "4-element Array{Any,1}:\n",
        " 3.0     \n",
        " 4       \n",
        "  \"hello\"\n",
        "  [3,4]  "
       ]
      }
     ],
     "prompt_number": 66
    },
    {
     "cell_type": "heading",
     "level": 2,
     "metadata": {},
     "source": [
      "Indexing"
     ]
    },
    {
     "cell_type": "markdown",
     "metadata": {},
     "source": [
      "The indices of Julia arrays are numbered starting at 1."
     ]
    },
    {
     "cell_type": "code",
     "collapsed": false,
     "input": [
      "l[1]  "
     ],
     "language": "python",
     "metadata": {},
     "outputs": [
      {
       "metadata": {},
       "output_type": "pyout",
       "prompt_number": 67,
       "text": [
        "3.0"
       ]
      }
     ],
     "prompt_number": 67
    },
    {
     "cell_type": "markdown",
     "metadata": {},
     "source": [
      "The syntax for ranges is fairly standard (note inclusive):"
     ]
    },
    {
     "cell_type": "code",
     "collapsed": false,
     "input": [
      "l[1:2]"
     ],
     "language": "python",
     "metadata": {},
     "outputs": [
      {
       "metadata": {},
       "output_type": "pyout",
       "prompt_number": 68,
       "text": [
        "2-element Array{Any,1}:\n",
        " 3.0\n",
        " 4  "
       ]
      }
     ],
     "prompt_number": 68
    },
    {
     "cell_type": "markdown",
     "metadata": {},
     "source": [
      "However, the limits must be explicitly specified:"
     ]
    },
    {
     "cell_type": "code",
     "collapsed": false,
     "input": [
      "l[2:end]   # Use `end` explicitly"
     ],
     "language": "python",
     "metadata": {},
     "outputs": [
      {
       "metadata": {},
       "output_type": "pyout",
       "prompt_number": 69,
       "text": [
        "3-element Array{Any,1}:\n",
        " 4       \n",
        "  \"hello\"\n",
        "  [3,4]  "
       ]
      }
     ],
     "prompt_number": 69
    },
    {
     "cell_type": "code",
     "collapsed": false,
     "input": [
      "l[1:end-1]"
     ],
     "language": "python",
     "metadata": {},
     "outputs": [
      {
       "metadata": {},
       "output_type": "pyout",
       "prompt_number": 70,
       "text": [
        "3-element Array{Any,1}:\n",
        " 3.0     \n",
        " 4       \n",
        "  \"hello\""
       ]
      }
     ],
     "prompt_number": 70
    },
    {
     "cell_type": "code",
     "collapsed": false,
     "input": [
      "l[-1]"
     ],
     "language": "python",
     "metadata": {},
     "outputs": [
      {
       "ename": "LoadError",
       "evalue": "BoundsError()\nwhile loading In[71], in expression starting on line 1",
       "output_type": "pyerr",
       "traceback": [
        "BoundsError()\nwhile loading In[71], in expression starting on line 1"
       ]
      }
     ],
     "prompt_number": 71
    },
    {
     "cell_type": "markdown",
     "metadata": {},
     "source": [
      "1-d Arrays (Vectors) can be resized:"
     ]
    },
    {
     "cell_type": "code",
     "collapsed": false,
     "input": [
      "l = [3, 4, 5]\n",
      "\n",
      "push!(l, 7)"
     ],
     "language": "python",
     "metadata": {},
     "outputs": [
      {
       "metadata": {},
       "output_type": "pyout",
       "prompt_number": 75,
       "text": [
        "4-element Array{Int64,1}:\n",
        " 3\n",
        " 4\n",
        " 5\n",
        " 7"
       ]
      }
     ],
     "prompt_number": 75
    },
    {
     "cell_type": "code",
     "collapsed": false,
     "input": [
      "help(push!)"
     ],
     "language": "python",
     "metadata": {},
     "outputs": [
      {
       "output_type": "stream",
       "stream": "stdout",
       "text": [
        "Base.push!(collection, items...) -> collection\n",
        "\n",
        "   Insert items at the end of a collection.\n"
       ]
      }
     ],
     "prompt_number": 67
    },
    {
     "cell_type": "code",
     "collapsed": false,
     "input": [
      "help(sizehint)"
     ],
     "language": "python",
     "metadata": {},
     "outputs": [
      {
       "output_type": "stream",
       "stream": "stderr",
       "text": [
        "INFO: Loading help data...\n"
       ]
      },
      {
       "output_type": "stream",
       "stream": "stdout",
       "text": [
        "Base.sizehint(s, n)\n",
        "\n",
        "   Suggest that collection \"s\" reserve capacity for at least \"n\"\n",
        "   elements. This can improve performance.\n"
       ]
      }
     ],
     "prompt_number": 10
    },
    {
     "cell_type": "code",
     "collapsed": false,
     "input": [
      "l = [3, 4, 5]\n",
      "push!(l, 12.0)"
     ],
     "language": "python",
     "metadata": {},
     "outputs": [
      {
       "metadata": {},
       "output_type": "pyout",
       "prompt_number": 79,
       "text": [
        "4-element Array{Int64,1}:\n",
        "  3\n",
        "  4\n",
        "  5\n",
        " 12"
       ]
      }
     ],
     "prompt_number": 79
    },
    {
     "cell_type": "code",
     "collapsed": false,
     "input": [
      "12.0 == 12"
     ],
     "language": "python",
     "metadata": {},
     "outputs": [
      {
       "metadata": {},
       "output_type": "pyout",
       "prompt_number": 80,
       "text": [
        "true"
       ]
      }
     ],
     "prompt_number": 80
    },
    {
     "cell_type": "code",
     "collapsed": false,
     "input": [
      "push!(l, 12.1)"
     ],
     "language": "python",
     "metadata": {},
     "outputs": [
      {
       "ename": "LoadError",
       "evalue": "InexactError()\nwhile loading In[81], in expression starting on line 1",
       "output_type": "pyerr",
       "traceback": [
        "InexactError()\nwhile loading In[81], in expression starting on line 1",
        " in push! at array.jl:457"
       ]
      }
     ],
     "prompt_number": 81
    },
    {
     "cell_type": "code",
     "collapsed": false,
     "input": [
      "append!(l, [10, 11, 12])"
     ],
     "language": "python",
     "metadata": {},
     "outputs": []
    },
    {
     "cell_type": "markdown",
     "metadata": {},
     "source": [
      "The exclamation mark, or *bang*, (`!`) indicates that the function modifies its argument; this is a standard convention in Julia."
     ]
    },
    {
     "cell_type": "markdown",
     "metadata": {},
     "source": [
      "Arrays which have been defined with a certain type *cannot* acquire elements of a different type. The contents can change, but types do not:"
     ]
    },
    {
     "cell_type": "code",
     "collapsed": false,
     "input": [
      "l = [3, 4, 5]\n",
      "push!(l, \"hello\")"
     ],
     "language": "python",
     "metadata": {},
     "outputs": [
      {
       "ename": "LoadError",
       "evalue": "no method convert(Type{Int64}, ASCIIString)\nwhile loading In[10], in expression starting on line 2",
       "output_type": "pyerr",
       "traceback": [
        "no method convert(Type{Int64}, ASCIIString)\nwhile loading In[10], in expression starting on line 2",
        " in push! at array.jl:457"
       ]
      }
     ],
     "prompt_number": 10
    },
    {
     "cell_type": "markdown",
     "metadata": {},
     "source": [
      "`Array`s work as mathematical vectors, with the sum of two vectors and scalar multiplication being defined:"
     ]
    },
    {
     "cell_type": "code",
     "collapsed": false,
     "input": [
      "a = [1.1, 2.2, 3.3]\n",
      "b = [4.4, 5.5, 6.6]"
     ],
     "language": "python",
     "metadata": {},
     "outputs": [
      {
       "metadata": {},
       "output_type": "pyout",
       "prompt_number": 82,
       "text": [
        "3-element Array{Float64,1}:\n",
        " 4.4\n",
        " 5.5\n",
        " 6.6"
       ]
      }
     ],
     "prompt_number": 82
    },
    {
     "cell_type": "code",
     "collapsed": false,
     "input": [
      "a + b"
     ],
     "language": "python",
     "metadata": {},
     "outputs": [
      {
       "metadata": {},
       "output_type": "pyout",
       "prompt_number": 83,
       "text": [
        "3-element Array{Float64,1}:\n",
        " 5.5\n",
        " 7.7\n",
        " 9.9"
       ]
      }
     ],
     "prompt_number": 83
    },
    {
     "cell_type": "code",
     "collapsed": false,
     "input": [
      "3.5 * a"
     ],
     "language": "python",
     "metadata": {},
     "outputs": [
      {
       "metadata": {},
       "output_type": "pyout",
       "prompt_number": 84,
       "text": [
        "3-element Array{Float64,1}:\n",
        "  3.85\n",
        "  7.7 \n",
        " 11.55"
       ]
      }
     ],
     "prompt_number": 84
    },
    {
     "cell_type": "markdown",
     "metadata": {},
     "source": [
      "However, operators are, in general, *not* treated in an elementwise fashion (as they would be e.g. in `numpy`):"
     ]
    },
    {
     "cell_type": "code",
     "collapsed": false,
     "input": [
      "a * b"
     ],
     "language": "python",
     "metadata": {},
     "outputs": [
      {
       "ename": "LoadError",
       "evalue": "no method *(Array{Float64,1}, Array{Float64,1})\nwhile loading In[85], in expression starting on line 1",
       "output_type": "pyerr",
       "traceback": [
        "no method *(Array{Float64,1}, Array{Float64,1})\nwhile loading In[85], in expression starting on line 1"
       ]
      }
     ],
     "prompt_number": 85
    },
    {
     "cell_type": "markdown",
     "metadata": {},
     "source": [
      "Rather, elementwise operations use a Matlab-like syntax, with an extra `.` before the symbol for the operator:"
     ]
    },
    {
     "cell_type": "code",
     "collapsed": false,
     "input": [
      "a .* b"
     ],
     "language": "python",
     "metadata": {},
     "outputs": [
      {
       "metadata": {},
       "output_type": "pyout",
       "prompt_number": 86,
       "text": [
        "3-element Array{Float64,1}:\n",
        "  4.84\n",
        " 12.1 \n",
        " 21.78"
       ]
      }
     ],
     "prompt_number": 86
    },
    {
     "cell_type": "markdown",
     "metadata": {},
     "source": [
      "There are many useful operations on vectors predefined, without needing to explicitly import them."
     ]
    },
    {
     "cell_type": "code",
     "collapsed": false,
     "input": [
      "dot(a,b)  # ans is the last result"
     ],
     "language": "python",
     "metadata": {},
     "outputs": [
      {
       "metadata": {},
       "output_type": "pyout",
       "prompt_number": 87,
       "text": [
        "38.72"
       ]
      }
     ],
     "prompt_number": 87
    },
    {
     "cell_type": "code",
     "collapsed": false,
     "input": [
      "cross(a, b)"
     ],
     "language": "python",
     "metadata": {},
     "outputs": [
      {
       "metadata": {},
       "output_type": "pyout",
       "prompt_number": 88,
       "text": [
        "3-element Array{Float64,1}:\n",
        " -3.63\n",
        "  7.26\n",
        " -3.63"
       ]
      }
     ],
     "prompt_number": 88
    },
    {
     "cell_type": "code",
     "collapsed": false,
     "input": [
      "norm(a)"
     ],
     "language": "python",
     "metadata": {},
     "outputs": [
      {
       "metadata": {},
       "output_type": "pyout",
       "prompt_number": 89,
       "text": [
        "4.115823125451335"
       ]
      }
     ],
     "prompt_number": 89
    },
    {
     "cell_type": "markdown",
     "metadata": {},
     "source": [
      "Use `help` or `?` (before the command) to obtain help:"
     ]
    },
    {
     "cell_type": "code",
     "collapsed": false,
     "input": [
      "help(dot)"
     ],
     "language": "python",
     "metadata": {},
     "outputs": []
    },
    {
     "cell_type": "code",
     "collapsed": false,
     "input": [
      "?dot"
     ],
     "language": "python",
     "metadata": {},
     "outputs": []
    },
    {
     "cell_type": "code",
     "collapsed": false,
     "input": [
      "transpose(a)"
     ],
     "language": "python",
     "metadata": {},
     "outputs": [
      {
       "metadata": {},
       "output_type": "pyout",
       "prompt_number": 91,
       "text": [
        "1x3 Array{Float64,2}:\n",
        " 1.1  2.2  3.3"
       ]
      }
     ],
     "prompt_number": 91
    },
    {
     "cell_type": "code",
     "collapsed": false,
     "input": [
      "a'"
     ],
     "language": "python",
     "metadata": {},
     "outputs": [
      {
       "metadata": {},
       "output_type": "pyout",
       "prompt_number": 93,
       "text": [
        "1x3 Array{Float64,2}:\n",
        " 1.1  2.2  3.3"
       ]
      }
     ],
     "prompt_number": 93
    },
    {
     "cell_type": "code",
     "collapsed": false,
     "input": [
      "M = [2 1; 1 1]"
     ],
     "language": "python",
     "metadata": {},
     "outputs": [
      {
       "metadata": {},
       "output_type": "pyout",
       "prompt_number": 97,
       "text": [
        "2x2 Array{Int64,2}:\n",
        " 2  1\n",
        " 1  1"
       ]
      }
     ],
     "prompt_number": 97
    },
    {
     "cell_type": "code",
     "collapsed": false,
     "input": [
      "M = reshape([1:8], (2,2,2))"
     ],
     "language": "python",
     "metadata": {},
     "outputs": [
      {
       "metadata": {},
       "output_type": "pyout",
       "prompt_number": 99,
       "text": [
        "2x2x2 Array{Int64,3}:\n",
        "[:, :, 1] =\n",
        " 1  3\n",
        " 2  4\n",
        "\n",
        "[:, :, 2] =\n",
        " 5  7\n",
        " 6  8"
       ]
      }
     ],
     "prompt_number": 99
    },
    {
     "cell_type": "code",
     "collapsed": false,
     "input": [
      "a \u22c5 b\n",
      "a \u00d7 b"
     ],
     "language": "python",
     "metadata": {},
     "outputs": [
      {
       "metadata": {},
       "output_type": "pyout",
       "prompt_number": 102,
       "text": [
        "3-element Array{Float64,1}:\n",
        " -3.63\n",
        "  7.26\n",
        " -3.63"
       ]
      }
     ],
     "prompt_number": 102
    },
    {
     "cell_type": "markdown",
     "metadata": {},
     "source": [
      "I used `\\cdot`"
     ]
    },
    {
     "cell_type": "code",
     "collapsed": false,
     "input": [
      "\u22c5"
     ],
     "language": "python",
     "metadata": {},
     "outputs": [
      {
       "metadata": {},
       "output_type": "pyout",
       "prompt_number": 103,
       "text": [
        "dot (generic function with 7 methods)"
       ]
      }
     ],
     "prompt_number": 103
    },
    {
     "cell_type": "markdown",
     "metadata": {},
     "source": [
      "[Note that in the Julia command-line REPL, typing `?` puts it immediately into a special help mode. Similarly, `;` puts it into shell mode, in which commands are sent straight to the shell.]"
     ]
    },
    {
     "cell_type": "heading",
     "level": 1,
     "metadata": {},
     "source": [
      "Conversion"
     ]
    },
    {
     "cell_type": "markdown",
     "metadata": {},
     "source": [
      "Julia has a highly generic `convert` function."
     ]
    },
    {
     "cell_type": "code",
     "collapsed": false,
     "input": [
      "convert(Float32, 6)"
     ],
     "language": "python",
     "metadata": {},
     "outputs": [
      {
       "metadata": {},
       "output_type": "pyout",
       "prompt_number": 62,
       "text": [
        "6.0f0"
       ]
      }
     ],
     "prompt_number": 62
    },
    {
     "cell_type": "code",
     "collapsed": false,
     "input": [
      "convert(Array{Int}, [1.0,2.0])  # or Array{Int,1}"
     ],
     "language": "python",
     "metadata": {},
     "outputs": [
      {
       "metadata": {},
       "output_type": "pyout",
       "prompt_number": 65,
       "text": [
        "2-element Array{Int64,1}:\n",
        " 1\n",
        " 2"
       ]
      }
     ],
     "prompt_number": 65
    },
    {
     "cell_type": "code",
     "collapsed": false,
     "input": [
      "convert(Int, 1.5)"
     ],
     "language": "python",
     "metadata": {},
     "outputs": [
      {
       "ename": "LoadError",
       "evalue": "InexactError()\nwhile loading In[64], in expression starting on line 1",
       "output_type": "pyerr",
       "traceback": [
        "InexactError()\nwhile loading In[64], in expression starting on line 1",
        "",
        " in convert at int.jl:299"
       ]
      }
     ],
     "prompt_number": 64
    },
    {
     "cell_type": "markdown",
     "metadata": {},
     "source": [
      "This is one of the most popular functions to define:"
     ]
    },
    {
     "cell_type": "code",
     "collapsed": false,
     "input": [
      "length(methods(convert))"
     ],
     "language": "python",
     "metadata": {},
     "outputs": [
      {
       "metadata": {},
       "output_type": "pyout",
       "prompt_number": 66,
       "text": [
        "642"
       ]
      }
     ],
     "prompt_number": 66
    },
    {
     "cell_type": "heading",
     "level": 1,
     "metadata": {},
     "source": [
      "Equality"
     ]
    },
    {
     "cell_type": "markdown",
     "metadata": {},
     "source": [
      "Julia has three kinds, very carefully designed:\n",
      "\n",
      "<table>\n",
      "<tr>\n",
      "<td> === <td> Exact equality, indistinguishable values.\n",
      "<tr>\n",
      "<td> ==  <td> Equal except for implementation details (e.g. precision, encoding). IEEE float.\n",
      "<tr>\n",
      "<td> isequal <td> Like == except for NaN and -0.0. Used by hash tables.\n",
      "</tr>\n",
      "</table>\n",
      "\n",
      "* Not vectorized"
     ]
    },
    {
     "cell_type": "code",
     "collapsed": false,
     "input": [
      "2 === 2.0"
     ],
     "language": "python",
     "metadata": {},
     "outputs": [
      {
       "metadata": {},
       "output_type": "pyout",
       "prompt_number": 70,
       "text": [
        "false"
       ]
      }
     ],
     "prompt_number": 70
    },
    {
     "cell_type": "code",
     "collapsed": false,
     "input": [
      "1e4 * 1e5 === 1000000000.0"
     ],
     "language": "python",
     "metadata": {},
     "outputs": [
      {
       "metadata": {},
       "output_type": "pyout",
       "prompt_number": 76,
       "text": [
        "true"
       ]
      }
     ],
     "prompt_number": 76
    },
    {
     "cell_type": "code",
     "collapsed": false,
     "input": [
      "2 == 2.0"
     ],
     "language": "python",
     "metadata": {},
     "outputs": [
      {
       "metadata": {},
       "output_type": "pyout",
       "prompt_number": 71,
       "text": [
        "true"
       ]
      }
     ],
     "prompt_number": 71
    },
    {
     "cell_type": "code",
     "collapsed": false,
     "input": [
      "isequal(NaN, NaN)"
     ],
     "language": "python",
     "metadata": {},
     "outputs": [
      {
       "metadata": {},
       "output_type": "pyout",
       "prompt_number": 72,
       "text": [
        "true"
       ]
      }
     ],
     "prompt_number": 72
    },
    {
     "cell_type": "code",
     "collapsed": false,
     "input": [
      "0.0 == -0.0"
     ],
     "language": "python",
     "metadata": {},
     "outputs": [
      {
       "metadata": {},
       "output_type": "pyout",
       "prompt_number": 73,
       "text": [
        "true"
       ]
      }
     ],
     "prompt_number": 73
    },
    {
     "cell_type": "code",
     "collapsed": false,
     "input": [
      "isequal(0.0, -0.0)"
     ],
     "language": "python",
     "metadata": {},
     "outputs": [
      {
       "metadata": {},
       "output_type": "pyout",
       "prompt_number": 74,
       "text": [
        "false"
       ]
      }
     ],
     "prompt_number": 74
    },
    {
     "cell_type": "heading",
     "level": 1,
     "metadata": {},
     "source": [
      "Control flow"
     ]
    },
    {
     "cell_type": "markdown",
     "metadata": {},
     "source": [
      "White space in Julia is *not* significant. Commands on one line can be separated by `;`. Blocks *must* finish with `end`"
     ]
    },
    {
     "cell_type": "code",
     "collapsed": false,
     "input": [
      "i = 0\n",
      "while i < 5 \n",
      "    print(\"$i\\t\")\n",
      "    i += 1\n",
      "end"
     ],
     "language": "python",
     "metadata": {},
     "outputs": [
      {
       "output_type": "stream",
       "stream": "stdout",
       "text": [
        "0\t1\t"
       ]
      },
      {
       "output_type": "stream",
       "stream": "stdout",
       "text": [
        "2\t3\t4\t"
       ]
      }
     ],
     "prompt_number": 105
    },
    {
     "cell_type": "code",
     "collapsed": false,
     "input": [
      "total = 0\n",
      "for i = 1:10\n",
      "    total += i\n",
      "end\n",
      "println(\"Sum is $total\")"
     ],
     "language": "python",
     "metadata": {},
     "outputs": [
      {
       "output_type": "stream",
       "stream": "stdout",
       "text": [
        "Sum is 55\n"
       ]
      }
     ],
     "prompt_number": 107
    },
    {
     "cell_type": "markdown",
     "metadata": {},
     "source": [
      "Here, `1:10` is a *range object* which may be iterated over."
     ]
    },
    {
     "cell_type": "code",
     "collapsed": false,
     "input": [
      "typeof(1:10)"
     ],
     "language": "python",
     "metadata": {},
     "outputs": [
      {
       "metadata": {},
       "output_type": "pyout",
       "prompt_number": 108,
       "text": [
        "UnitRange{Int64} (constructor with 1 method)"
       ]
      }
     ],
     "prompt_number": 108
    },
    {
     "cell_type": "markdown",
     "metadata": {},
     "source": [
      "We can construct an array from this by enclosing it in square brackets:"
     ]
    },
    {
     "cell_type": "code",
     "collapsed": false,
     "input": [
      "collect(1:10)"
     ],
     "language": "python",
     "metadata": {},
     "outputs": [
      {
       "metadata": {},
       "output_type": "pyout",
       "prompt_number": 110,
       "text": [
        "10-element Array{Int64,1}:\n",
        "  1\n",
        "  2\n",
        "  3\n",
        "  4\n",
        "  5\n",
        "  6\n",
        "  7\n",
        "  8\n",
        "  9\n",
        " 10"
       ]
      }
     ],
     "prompt_number": 110
    },
    {
     "cell_type": "code",
     "collapsed": false,
     "input": [
      "[1:2:10, 17]"
     ],
     "language": "python",
     "metadata": {},
     "outputs": [
      {
       "metadata": {},
       "output_type": "pyout",
       "prompt_number": 111,
       "text": [
        "6-element Array{Int64,1}:\n",
        "  1\n",
        "  3\n",
        "  5\n",
        "  7\n",
        "  9\n",
        " 17"
       ]
      }
     ],
     "prompt_number": 111
    },
    {
     "cell_type": "markdown",
     "metadata": {},
     "source": [
      "Use `help` or `?` to get help:"
     ]
    },
    {
     "cell_type": "code",
     "collapsed": false,
     "input": [
      "?dot"
     ],
     "language": "python",
     "metadata": {},
     "outputs": [
      {
       "output_type": "stream",
       "stream": "stdout",
       "text": [
        "Base.dot(x, y)\n",
        "\n",
        "   Compute the dot product. For complex vectors, the first vector is\n",
        "   conjugated.\n"
       ]
      }
     ],
     "prompt_number": 113
    },
    {
     "cell_type": "code",
     "collapsed": false,
     "input": [
      "help(dot)"
     ],
     "language": "python",
     "metadata": {},
     "outputs": [
      {
       "output_type": "stream",
       "stream": "stdout",
       "text": [
        "Base.dot(x, y)\n",
        "\n",
        "   Compute the dot product. For complex vectors, the first vector is\n",
        "   conjugated.\n"
       ]
      }
     ],
     "prompt_number": 114
    },
    {
     "cell_type": "code",
     "collapsed": false,
     "input": [
      "help(\"dot\")"
     ],
     "language": "python",
     "metadata": {},
     "outputs": [
      {
       "output_type": "stream",
       "stream": "stdout",
       "text": [
        "Base.dot(x, y)\n",
        "\n",
        "   Compute the dot product. For complex vectors, the first vector is\n",
        "   conjugated.\n"
       ]
      },
      {
       "output_type": "stream",
       "stream": "stdout",
       "text": [
        "\n",
        "Base.LinAlg.BLAS.dot(n, X, incx, Y, incy)\n",
        "\n",
        "   Dot product of two vectors consisting of \"n\" elements of array\n",
        "   \"X\" with stride \"incx\" and \"n\" elements of array \"Y\" with\n",
        "   stride \"incy\".\n"
       ]
      }
     ],
     "prompt_number": 115
    },
    {
     "cell_type": "markdown",
     "metadata": {},
     "source": [
      "**Exercise**: Implement the Babylonian method for calculating the square root of a positive number $y$, via the iteration \n",
      "$$x_{n+1} = \\textstyle \\frac{1}{2} (x_n + \\frac{y}{x_n})$$"
     ]
    },
    {
     "cell_type": "code",
     "collapsed": false,
     "input": [
      "\u2646 = norm"
     ],
     "language": "python",
     "metadata": {},
     "outputs": [
      {
       "metadata": {},
       "output_type": "pyout",
       "prompt_number": 121,
       "text": [
        "norm (generic function with 15 methods)"
       ]
      }
     ],
     "prompt_number": 121
    },
    {
     "cell_type": "code",
     "collapsed": false,
     "input": [
      "\u2646(a)"
     ],
     "language": "python",
     "metadata": {},
     "outputs": [
      {
       "metadata": {},
       "output_type": "pyout",
       "prompt_number": 123,
       "text": [
        "4.115823125451335"
       ]
      }
     ],
     "prompt_number": 123
    },
    {
     "cell_type": "code",
     "collapsed": false,
     "input": [
      "snowman(x) = x^2"
     ],
     "language": "python",
     "metadata": {},
     "outputs": [
      {
       "metadata": {},
       "output_type": "pyout",
       "prompt_number": 124,
       "text": [
        "snowman (generic function with 1 method)"
       ]
      }
     ],
     "prompt_number": 124
    },
    {
     "cell_type": "code",
     "collapsed": false,
     "input": [
      "\u2603 = snowman\n",
      "\u2603(3)"
     ],
     "language": "python",
     "metadata": {},
     "outputs": [
      {
       "metadata": {},
       "output_type": "pyout",
       "prompt_number": 126,
       "text": [
        "9"
       ]
      }
     ],
     "prompt_number": 126
    },
    {
     "cell_type": "markdown",
     "metadata": {},
     "source": [
      "## Short-circuit evaluation\n",
      "* Note: conditions are boolean (`Bool`) only!"
     ]
    },
    {
     "cell_type": "code",
     "collapsed": false,
     "input": [
      "a = 3\n",
      "a < 5 && println(\"Small\")   # evaluate the second statement only if the first is true;  semantics of if-then\n",
      "\n",
      "a > 10 || println(\"Small\")  # semantics of if not-then"
     ],
     "language": "python",
     "metadata": {},
     "outputs": [
      {
       "output_type": "stream",
       "stream": "stdout",
       "text": [
        "Small\n"
       ]
      },
      {
       "output_type": "stream",
       "stream": "stdout",
       "text": [
        "Small\n"
       ]
      }
     ],
     "prompt_number": 128
    },
    {
     "cell_type": "code",
     "collapsed": false,
     "input": [
      "a == 3 ? println(\"Hello\") : println(\"Not true\")"
     ],
     "language": "python",
     "metadata": {},
     "outputs": [
      {
       "output_type": "stream",
       "stream": "stdout",
       "text": [
        "Hello\n"
       ]
      }
     ],
     "prompt_number": 129
    },
    {
     "cell_type": "heading",
     "level": 2,
     "metadata": {},
     "source": [
      "Array comprehensions"
     ]
    },
    {
     "cell_type": "code",
     "collapsed": false,
     "input": [
      "squares = [i^2 for i in [1:2:10, 7]]"
     ],
     "language": "python",
     "metadata": {},
     "outputs": [
      {
       "metadata": {},
       "output_type": "pyout",
       "prompt_number": 132,
       "text": [
        "6-element Array{Any,1}:\n",
        "  1\n",
        "  9\n",
        " 25\n",
        " 49\n",
        " 81\n",
        " 49"
       ]
      }
     ],
     "prompt_number": 132
    },
    {
     "cell_type": "code",
     "collapsed": false,
     "input": [
      "sums = [i+j for i=1:5, j=1:5]"
     ],
     "language": "python",
     "metadata": {},
     "outputs": [
      {
       "metadata": {},
       "output_type": "pyout",
       "prompt_number": 133,
       "text": [
        "5x5 Array{Int64,2}:\n",
        " 2  3  4  5   6\n",
        " 3  4  5  6   7\n",
        " 4  5  6  7   8\n",
        " 5  6  7  8   9\n",
        " 6  7  8  9  10"
       ]
      }
     ],
     "prompt_number": 133
    },
    {
     "cell_type": "code",
     "collapsed": false,
     "input": [
      "sums = [i+j+k for i=1:5, j=1:5, k=1:5]"
     ],
     "language": "python",
     "metadata": {},
     "outputs": [
      {
       "metadata": {},
       "output_type": "pyout",
       "prompt_number": 134,
       "text": [
        "5x5x5 Array{Int64,3}:\n",
        "[:, :, 1] =\n",
        " 3  4  5   6   7\n",
        " 4  5  6   7   8\n",
        " 5  6  7   8   9\n",
        " 6  7  8   9  10\n",
        " 7  8  9  10  11\n",
        "\n",
        "[:, :, 2] =\n",
        " 4  5   6   7   8\n",
        " 5  6   7   8   9\n",
        " 6  7   8   9  10\n",
        " 7  8   9  10  11\n",
        " 8  9  10  11  12\n",
        "\n",
        "[:, :, 3] =\n",
        " 5   6   7   8   9\n",
        " 6   7   8   9  10\n",
        " 7   8   9  10  11\n",
        " 8   9  10  11  12\n",
        " 9  10  11  12  13\n",
        "\n",
        "[:, :, 4] =\n",
        "  6   7   8   9  10\n",
        "  7   8   9  10  11\n",
        "  8   9  10  11  12\n",
        "  9  10  11  12  13\n",
        " 10  11  12  13  14\n",
        "\n",
        "[:, :, 5] =\n",
        "  7   8   9  10  11\n",
        "  8   9  10  11  12\n",
        "  9  10  11  12  13\n",
        " 10  11  12  13  14\n",
        " 11  12  13  14  15"
       ]
      }
     ],
     "prompt_number": 134
    },
    {
     "cell_type": "heading",
     "level": 1,
     "metadata": {},
     "source": [
      "Matrices"
     ]
    },
    {
     "cell_type": "markdown",
     "metadata": {},
     "source": [
      "Square brackets with commas gives a one-dimensional vector. This is printed in a way that treats it as if it were a column vector (although there is in fact no difference between a *one-dimensional* row vector and column vector)."
     ]
    },
    {
     "cell_type": "code",
     "collapsed": false,
     "input": [
      "v = [3, 4, 5]"
     ],
     "language": "python",
     "metadata": {},
     "outputs": []
    },
    {
     "cell_type": "markdown",
     "metadata": {},
     "source": [
      "To create explicit matrices, Matlab-style notation is used. If we omit the commas, something different happens: we now obtain a *two-dimensional* `Array`, i.e. a matrix, of size $1 \\times n$. [Recall that in the standard notation for matrices, an $m \\times n$ matrix has $m$ *rows* and $n$ *columns*.]"
     ]
    },
    {
     "cell_type": "code",
     "collapsed": false,
     "input": [
      "row_vec = [3 4 5]"
     ],
     "language": "python",
     "metadata": {},
     "outputs": []
    },
    {
     "cell_type": "markdown",
     "metadata": {},
     "source": [
      "We can also use the transpose operator, `'`. [This is actually the *conjugate*-transpose operator, which also takes the complex conjugate of complex numbers. Transpose without conjugate is denoted `.'`]"
     ]
    },
    {
     "cell_type": "code",
     "collapsed": false,
     "input": [
      "row_vec = [1im, 2]'"
     ],
     "language": "python",
     "metadata": {},
     "outputs": []
    },
    {
     "cell_type": "code",
     "collapsed": false,
     "input": [
      "row_vec = [1im, 2].'"
     ],
     "language": "python",
     "metadata": {},
     "outputs": []
    },
    {
     "cell_type": "markdown",
     "metadata": {},
     "source": [
      "A complete matrix may be constructed using a semicolon (`;`) to separate rows:"
     ]
    },
    {
     "cell_type": "code",
     "collapsed": false,
     "input": [
      "M = [1 2; 3 4]"
     ],
     "language": "python",
     "metadata": {},
     "outputs": [
      {
       "metadata": {},
       "output_type": "pyout",
       "prompt_number": 135,
       "text": [
        "2x2 Array{Int64,2}:\n",
        " 1  2\n",
        " 3  4"
       ]
      }
     ],
     "prompt_number": 135
    },
    {
     "cell_type": "markdown",
     "metadata": {},
     "source": [
      "As in `numpy`, it may also be created using a `reshape`:"
     ]
    },
    {
     "cell_type": "code",
     "collapsed": false,
     "input": [
      "M = reshape([1, 2, 3, 4], (2,2))"
     ],
     "language": "python",
     "metadata": {},
     "outputs": []
    },
    {
     "cell_type": "markdown",
     "metadata": {},
     "source": [
      "Here, as in Python, `(2,2)` denotes an (immutable) tuple:"
     ]
    },
    {
     "cell_type": "code",
     "collapsed": false,
     "input": [
      "t = (2, 2)\n",
      "typeof(t)"
     ],
     "language": "python",
     "metadata": {},
     "outputs": []
    },
    {
     "cell_type": "markdown",
     "metadata": {},
     "source": [
      "There is an important difference in the way that Python and Julia treat slices of matrices. While in Python a one-dimensional slice in either direction returns a 1-dimensional vector, in Julia there is a difference. A vertical one-dimensional slice gives a 1-dimensional vector (a \"column vector\"):"
     ]
    },
    {
     "cell_type": "code",
     "collapsed": false,
     "input": [
      "M[:,1]"
     ],
     "language": "python",
     "metadata": {},
     "outputs": [
      {
       "metadata": {},
       "output_type": "pyout",
       "prompt_number": 3,
       "text": [
        "2-element Array{Int64,1}:\n",
        " 1\n",
        " 3"
       ]
      }
     ],
     "prompt_number": 3
    },
    {
     "cell_type": "markdown",
     "metadata": {},
     "source": [
      "However, a horizontal one-dimensional slice produces a $1 \\times n$ matrix:"
     ]
    },
    {
     "cell_type": "code",
     "collapsed": false,
     "input": [
      "M[1,:]"
     ],
     "language": "python",
     "metadata": {},
     "outputs": [
      {
       "metadata": {},
       "output_type": "pyout",
       "prompt_number": 5,
       "text": [
        "1x2 Array{Int64,2}:\n",
        " 1  2"
       ]
      }
     ],
     "prompt_number": 5
    },
    {
     "cell_type": "markdown",
     "metadata": {},
     "source": [
      "This is the same result that is produced using the following Matlab-like syntax:"
     ]
    },
    {
     "cell_type": "code",
     "collapsed": false,
     "input": [
      "[1 2]"
     ],
     "language": "python",
     "metadata": {},
     "outputs": [
      {
       "metadata": {},
       "output_type": "pyout",
       "prompt_number": 6,
       "text": [
        "1x2 Array{Int64,2}:\n",
        " 1  2"
       ]
      }
     ],
     "prompt_number": 6
    },
    {
     "cell_type": "heading",
     "level": 2,
     "metadata": {},
     "source": [
      "Random numbers"
     ]
    },
    {
     "cell_type": "markdown",
     "metadata": {},
     "source": [
      "The Mersenne Twister (pseudo-)random number generator is built-in to Julia:"
     ]
    },
    {
     "cell_type": "code",
     "collapsed": false,
     "input": [
      "rand()"
     ],
     "language": "python",
     "metadata": {},
     "outputs": [
      {
       "metadata": {},
       "output_type": "pyout",
       "prompt_number": 136,
       "text": [
        "0.30176459533546285"
       ]
      }
     ],
     "prompt_number": 136
    },
    {
     "cell_type": "code",
     "collapsed": false,
     "input": [
      "rand(5)"
     ],
     "language": "python",
     "metadata": {},
     "outputs": [
      {
       "metadata": {},
       "output_type": "pyout",
       "prompt_number": 137,
       "text": [
        "5-element Array{Float64,1}:\n",
        " 0.322047\n",
        " 0.858765\n",
        " 0.744449\n",
        " 0.932944\n",
        " 0.735366"
       ]
      }
     ],
     "prompt_number": 137
    },
    {
     "cell_type": "code",
     "collapsed": false,
     "input": [
      "x = rand(5, 5)"
     ],
     "language": "python",
     "metadata": {},
     "outputs": [
      {
       "metadata": {},
       "output_type": "pyout",
       "prompt_number": 138,
       "text": [
        "5x5 Array{Float64,2}:\n",
        " 0.718125    0.514504  0.485157  0.118623   0.954479\n",
        " 0.665983    0.223968  0.571665  0.337021   0.418121\n",
        " 0.388917    0.989328  0.588583  0.0660616  0.636201\n",
        " 0.00130766  0.277592  0.476613  0.21       0.171883\n",
        " 0.0978661   0.499811  0.816341  0.772805   0.207609"
       ]
      }
     ],
     "prompt_number": 138
    },
    {
     "cell_type": "heading",
     "level": 2,
     "metadata": {},
     "source": [
      "Matrix multiplication"
     ]
    },
    {
     "cell_type": "code",
     "collapsed": false,
     "input": [
      "v = [1, 2]"
     ],
     "language": "python",
     "metadata": {},
     "outputs": [
      {
       "metadata": {},
       "output_type": "pyout",
       "prompt_number": 139,
       "text": [
        "2-element Array{Int64,1}:\n",
        " 1\n",
        " 2"
       ]
      }
     ],
     "prompt_number": 139
    },
    {
     "cell_type": "code",
     "collapsed": false,
     "input": [
      "v*v"
     ],
     "language": "python",
     "metadata": {},
     "outputs": [
      {
       "ename": "LoadError",
       "evalue": "no method *(Array{Int64,1}, Array{Int64,1})\nwhile loading In[140], in expression starting on line 1",
       "output_type": "pyerr",
       "traceback": [
        "no method *(Array{Int64,1}, Array{Int64,1})\nwhile loading In[140], in expression starting on line 1"
       ]
      }
     ],
     "prompt_number": 140
    },
    {
     "cell_type": "code",
     "collapsed": false,
     "input": [
      "dot(v, v)"
     ],
     "language": "python",
     "metadata": {},
     "outputs": [
      {
       "metadata": {},
       "output_type": "pyout",
       "prompt_number": 17,
       "text": [
        "5"
       ]
      }
     ],
     "prompt_number": 17
    },
    {
     "cell_type": "code",
     "collapsed": false,
     "input": [
      "M = [2 1; 1 1]"
     ],
     "language": "python",
     "metadata": {},
     "outputs": [
      {
       "metadata": {},
       "output_type": "pyout",
       "prompt_number": 141,
       "text": [
        "2x2 Array{Int64,2}:\n",
        " 2  1\n",
        " 1  1"
       ]
      }
     ],
     "prompt_number": 141
    },
    {
     "cell_type": "markdown",
     "metadata": {},
     "source": [
      "Matrix multiplication uses the `*` operator:"
     ]
    },
    {
     "cell_type": "code",
     "collapsed": false,
     "input": [
      "M * v"
     ],
     "language": "python",
     "metadata": {},
     "outputs": [
      {
       "metadata": {},
       "output_type": "pyout",
       "prompt_number": 143,
       "text": [
        "2-element Array{Int64,1}:\n",
        " 4\n",
        " 3"
       ]
      }
     ],
     "prompt_number": 143
    },
    {
     "cell_type": "code",
     "collapsed": false,
     "input": [
      "@which M*v"
     ],
     "language": "python",
     "metadata": {},
     "outputs": [
      {
       "html": [
        "*<i>{T,S}</i>(A::<b>AbstractArray{T,2}</b>,x::<b>AbstractArray{S,1}</b>) at <a href=\"https://github.com/JuliaLang/julia/tree/7e7462150f72721caf0e6bd6e7e7e500d1efb187/base/linalg/matmul.jl#L71\" target=\"_blank\">linalg/matmul.jl:71</a>"
       ],
       "metadata": {},
       "output_type": "pyout",
       "prompt_number": 144,
       "text": [
        "*{T,S}(A::AbstractArray{T,2},x::AbstractArray{S,1}) at linalg/matmul.jl:71"
       ]
      }
     ],
     "prompt_number": 144
    },
    {
     "cell_type": "markdown",
     "metadata": {},
     "source": [
      "**Exercise**: Use the *power method* to calculate the largest eigenvalue $\\lambda_1$ of the matrix $M = \\begin{pmatrix} 2 & 1 \\\\ 1 & 1 \\end{pmatrix}$. In this method, we start from an arbitrary non-zero vector $\\mathbf{w}$, and repeatedly apply $M$ to it, thus calculating powers of the matrix $M$ applied to $\\mathbf{w}$. The resulting vector converges to the eigenvector $\\mathbf{v}_1$ corresponding to $\\lambda_1$."
     ]
    },
    {
     "cell_type": "code",
     "collapsed": false,
     "input": [
      "w = [1., 1]\n",
      "M = [2. 1; 1 1]\n",
      "\n",
      "M, w"
     ],
     "language": "python",
     "metadata": {},
     "outputs": [
      {
       "metadata": {},
       "output_type": "pyout",
       "prompt_number": 14,
       "text": [
        "(\n",
        "2x2 Array{Float64,2}:\n",
        " 2.0  1.0\n",
        " 1.0  1.0,\n",
        "\n",
        "[1.0,1.0])"
       ]
      }
     ],
     "prompt_number": 14
    },
    {
     "cell_type": "code",
     "collapsed": false,
     "input": [
      "w0 = w\n",
      "\n",
      "for i in 1:10\n",
      "    w = M*w; w = w/norm(w)\n",
      "end\n",
      "w"
     ],
     "language": "python",
     "metadata": {},
     "outputs": [
      {
       "metadata": {},
       "output_type": "pyout",
       "prompt_number": 15,
       "text": [
        "2-element Array{Float64,1}:\n",
        " 0.850651\n",
        " 0.525731"
       ]
      }
     ],
     "prompt_number": 15
    },
    {
     "cell_type": "code",
     "collapsed": false,
     "input": [
      "((M*w)./w)[1]"
     ],
     "language": "python",
     "metadata": {},
     "outputs": [
      {
       "metadata": {},
       "output_type": "pyout",
       "prompt_number": 17,
       "text": [
        "2.618033990175597"
       ]
      }
     ],
     "prompt_number": 17
    },
    {
     "cell_type": "code",
     "collapsed": false,
     "input": [
      "eigvals(M)[end]"
     ],
     "language": "python",
     "metadata": {},
     "outputs": [
      {
       "metadata": {},
       "output_type": "pyout",
       "prompt_number": 18,
       "text": [
        "2.618033988749895"
       ]
      }
     ],
     "prompt_number": 18
    },
    {
     "cell_type": "heading",
     "level": 1,
     "metadata": {},
     "source": [
      "Linear algebra"
     ]
    },
    {
     "cell_type": "markdown",
     "metadata": {},
     "source": [
      "Julia has built-in linear algebra, not only using LAPACK, but now also generic routines that work for arbitrary element types, implemented completely in Julia.\n",
      "\n",
      "For example, given a matrix $A$, the LU-decomposition of $A$ is equivalent to Gaussian elimination; it expresses $A$ as the product $A = LU$, with $L$ a lower-triangular and $U$ an upper-triangular matrix.\n",
      "\n",
      "This is *implemented in pure Julia* for arbitrary element types. When the elements are standard floating-point numbers, it uses the corresponding fast LAPACK implementation."
     ]
    },
    {
     "cell_type": "code",
     "collapsed": false,
     "input": [
      "M = rand(100, 100)\n",
      "eig(M)"
     ],
     "language": "python",
     "metadata": {},
     "outputs": [
      {
       "metadata": {},
       "output_type": "pyout",
       "prompt_number": 77,
       "text": [
        "(Complex{Float64}[49.9514+0.0im,-2.85624+0.97477im,-2.85624-0.97477im,2.87072+0.105255im,2.87072-0.105255im,0.339267+2.83517im,0.339267-2.83517im,2.5314+0.926143im,2.5314-0.926143im,1.15819+2.44069im  \u2026  -0.593427+0.453518im,-0.593427-0.453518im,0.413097+0.721679im,0.413097-0.721679im,-0.688667+0.0im,0.126755+0.520946im,0.126755-0.520946im,-0.0731663+0.335988im,-0.0731663-0.335988im,-0.0734453+0.0im],\n",
        "100x100 Array{Complex{Float64},2}:\n",
        "   -0.10643+0.0im    -0.107648-0.150108im    \u2026   -0.0361512+0.0im\n",
        " -0.0876205+0.0im   0.00268859+0.0815718im         0.120204+0.0im\n",
        "  -0.103089+0.0im    0.0618065+0.0429329im       -0.0592788+0.0im\n",
        " -0.0941431+0.0im     0.120714-0.0854793im       -0.0704374+0.0im\n",
        " -0.0986136+0.0im   -0.0229074+0.0603554im        0.0539453+0.0im\n",
        " -0.0977707+0.0im   -0.0535708-0.0721267im   \u2026   -0.0513524+0.0im\n",
        " -0.0910006+0.0im  -0.00861827-0.0757045im        0.0795243+0.0im\n",
        " -0.0951117+0.0im     0.017276-0.009675im         0.0843906+0.0im\n",
        "  -0.115471+0.0im    0.0153384+0.0746278im      -0.00218331+0.0im\n",
        "  -0.106095+0.0im     0.053292-0.111639im         0.0336164+0.0im\n",
        " -0.0944011+0.0im     0.181308+0.0427855im   \u2026   -0.0619751+0.0im\n",
        "  -0.105116+0.0im   -0.0251378-0.135313im          0.109833+0.0im\n",
        "  -0.101461+0.0im    0.0194878+0.0304104im        0.0506919+0.0im\n",
        "           \u22ee                                 \u22f1                   \n",
        " -0.0993737+0.0im    -0.146312-0.124446im       -0.00822986+0.0im\n",
        "  -0.103913+0.0im   -0.0248323-0.0569226im         0.159478+0.0im\n",
        " -0.0931228+0.0im    -0.113629+0.101635im    \u2026   -0.0362469+0.0im\n",
        " -0.0950757+0.0im    0.0710405+0.0901731im        0.0929489+0.0im\n",
        "   -0.10204+0.0im    0.0464467-0.0910684im        -0.209284+0.0im\n",
        "  -0.108833+0.0im   -0.0400405+0.103731im           0.24289+0.0im\n",
        " -0.0896053+0.0im    -0.022424+0.0238496im          0.15139+0.0im\n",
        "  -0.101293+0.0im   -0.0832683-0.0775049im   \u2026    0.0399718+0.0im\n",
        "  -0.101192+0.0im   -0.0596625-0.0627897im       -0.0848228+0.0im\n",
        " -0.0957308+0.0im    0.0304897-0.00266852im       -0.123234+0.0im\n",
        "  -0.103364+0.0im    0.0124638+0.0558272im        0.0602159+0.0im\n",
        " -0.0970421+0.0im     0.118307+0.128115im          0.144771+0.0im)"
       ]
      }
     ],
     "prompt_number": 77
    },
    {
     "cell_type": "code",
     "collapsed": false,
     "input": [
      "M = rand(100, 100)\n",
      "M2 = map(big, M)"
     ],
     "language": "python",
     "metadata": {},
     "outputs": [
      {
       "metadata": {},
       "output_type": "pyout",
       "prompt_number": 78,
       "text": [
        "100x100 Array{BigFloat,2}:\n",
        " 9.711414293219260418510430099559016525745391845703125e-01  \u2026  3.96179362406416490927085760631598532199859619140625e-01 \n",
        " 1.04364448353535532731939383666031062602996826171875e-02      6.72355257086340696304205266642384231090545654296875e-01 \n",
        " 9.64929729077791176194978106650523841381072998046875e-01      7.0914273159646601385475150891579687595367431640625e-02  \n",
        " 4.614291074261982483761812545708380639553070068359375e-01     5.298515646727945949123750324361026287078857421875e-01   \n",
        " 1.93426644723226015543104949756525456905364990234375e-01      4.384557019737993499575168243609368801116943359375e-01   \n",
        " 2.111053000333835694135586891206912696361541748046875e-01  \u2026  6.70831794203887721295131996157579123973846435546875e-01 \n",
        " 1.948707319191191889018455185578204691410064697265625e-01     6.015199134353490517668205939116887748241424560546875e-01\n",
        " 3.60112751791387353250684100203216075897216796875e-01         7.914840538476699549619297613389790058135986328125e-01   \n",
        " 2.189348225558747085273125776438973844051361083984375e-01     2.17491571503530156661554428865201771259307861328125e-01 \n",
        " 4.608086450433628300515920273028314113616943359375e-01        6.772523549706175316487133386544883251190185546875e-01   \n",
        " 1.201730297711740558241899634595029056072235107421875e-01  \u2026  7.708555976751512162081780843436717987060546875e-01      \n",
        " 3.47485943804082264563248827471397817134857177734375e-01      2.660093978122721747325840624398551881313323974609375e-01\n",
        " 3.12582897392994052410131189390085637569427490234375e-01      4.543840516778925309182568526011891663074493408203125e-01\n",
        " \u22ee                                                          \u22f1                                                           \n",
        " 6.527026171868761661443159027840010821819305419921875e-01     3.306793106777725643752319228951819241046905517578125e-01\n",
        " 7.132370300452695044413076175260357558727264404296875e-01     1.500246552235839914146708906628191471099853515625e-01   \n",
        " 2.67720348173571043304264094331301748752593994140625e-01   \u2026  7.905503746298505607370543657452799379825592041015625e-01\n",
        " 5.63141470561315582443739913287572562694549560546875e-01      4.53470356598220103450103124487213790416717529296875e-01 \n",
        " 3.165886686264496319154204684309661388397216796875e-02        5.019266818906584770587642196915112435817718505859375e-01\n",
        " 5.892153687985768328871927224099636077880859375e-02           5.531294693609272172807322931475937366485595703125e-01   \n",
        " 8.588730113416589428965153274475596845149993896484375e-01     2.469939507233231967830988651257939636707305908203125e-01\n",
        " 4.950012482458718832134536569355987012386322021484375e-01  \u2026  1.88755079693502469950772137963213026523590087890625e-01 \n",
        " 5.381904007194535655145273267407901585102081298828125e-01     1.955770100714193659996453789062798023223876953125e-02   \n",
        " 4.150822138536731653601918878848664462566375732421875e-01     4.631222945589958950307618579245172441005706787109375e-01\n",
        " 8.13493377320640309591226468910463154315948486328125e-01      9.870543162634015654788299798383377492427825927734375e-01\n",
        " 4.0145327869983926660779616213403642177581787109375e-02       4.79751978647666721400355527293868362903594970703125e-02 "
       ]
      }
     ],
     "prompt_number": 78
    },
    {
     "cell_type": "code",
     "collapsed": false,
     "input": [
      "lu(M2)"
     ],
     "language": "python",
     "metadata": {},
     "outputs": [
      {
       "metadata": {},
       "output_type": "pyout",
       "prompt_number": 79,
       "text": [
        "(\n",
        "100x100 Array{BigFloat,2}:\n",
        " 1e+00                                                                                 \u2026  0e+00\n",
        " 8.368513325732728668616242562752130049448652488348503368409144758975062425995882e-02     0e+00\n",
        " 2.225199969025991936659597268096667788823630365999627552558877222052213313874922e-01     0e+00\n",
        " 8.259947198682911934586851547095436698035035479133198552747728526950239795016486e-01     0e+00\n",
        " 2.25377913515525344018870709207238228384777461688957719962412716233143949531545e-01      0e+00\n",
        " 8.364347171827610307945947388820016460151312302577269760017916451676630257495088e-01  \u2026  0e+00\n",
        " 5.407869604905093512838330942335817077009781619608050496761318205678898282484537e-01     0e+00\n",
        " 8.031134804498681086838367195772756304246361517737973464231793154727563463649014e-01     0e+00\n",
        " 8.121059994119285148332122995510288733704116003475782841311813369377749947744787e-01     0e+00\n",
        " 9.140834122234015147148102482592613584494648633217614178270625455663128540804657e-01     0e+00\n",
        " 7.29263516160148376252699030403867331435212912623323394004435728185423896667353e-01   \u2026  0e+00\n",
        " 9.807309674129976042425072932002455998793833582474450859961508026484701364844302e-01     0e+00\n",
        " 7.540664739434721450015335277585907676581351516024976427055428170468496573323696e-01     0e+00\n",
        " \u22ee                                                                                     \u22f1       \n",
        " 4.281567713142318173721621021831005167775871565311335066112452581678686851695176e-01     0e+00\n",
        " 9.540489424882074046649809430909525859811684944807618397787599699786871785865437e-01     0e+00\n",
        " 6.633909702403567829765111802851364351804632515633702768054947773144705664307356e-01  \u2026  0e+00\n",
        " 3.660097899353370144886342684603227917143542155689210989983880353860206492305027e-01     0e+00\n",
        " 2.397053165905698265157515574186449352746604243399512062929940234285675556152542e-02     0e+00\n",
        " 1.221409271502847514601370604800919527630746849005415816069530392899710668564689e-01     0e+00\n",
        " 1.493483844562639363420494991142028302344209412203362115599920964586772939782998e-01     0e+00\n",
        " 4.902150600039057125411130902007760182799007082308780058239913739790117429473219e-01  \u2026  0e+00\n",
        " 3.590259260633781873890541183626704410930893054066104548553753358191622579261759e-01     0e+00\n",
        " 7.573691488870957649826205986559775952853578121901393029754162516288937790915975e-01     0e+00\n",
        " 5.470035552272081433591630459092373126761804095431395435342110343871240976357168e-01     0e+00\n",
        " 3.904560027580288755130496888436656494924276204584270013568383534684671389925328e-01     1e+00,\n",
        "\n",
        "100x100 Array{BigFloat,2}:\n",
        " 9.8388830488662204487582130241207778453826904296875e-01  \u2026   9.8543563183036742003650942933745682239532470703125e-01                             \n",
        " 0e+00                                                       -4.178535045744882489394270763491359212851901906206585406087363239459995230338167e-02\n",
        " 0e+00                                                       -2.065285052849371280047471886112394061337974328774338354227767697638827761108247e-03\n",
        " 0e+00                                                       -5.618422323253486695561598223296014010139049191134591078902975384657793771433223e-02\n",
        " 0e+00                                                       -1.460330530290291903874533064949579339559258918790451952840806822922946531789059e-01\n",
        " 0e+00                                                    \u2026   4.57460584704300792300543023091951807750161325058521421464001633269927559841964e-03 \n",
        " 0e+00                                                        2.385745569491815428512238037769055188809187919280382448561544587284796133957289e-01\n",
        " 0e+00                                                       -1.309569159885241188729102375393258091149297647147183858376773279541794153330103e-01\n",
        " 0e+00                                                        1.20249059066870453244056017731044656804039416294822635024887789684022988872915e-01 \n",
        " 0e+00                                                       -5.169003643015623802189592619492498070804810176991458913557304287370089442044153e-01\n",
        " 0e+00                                                    \u2026   2.275995086164505672523991943268807210369110315436540700667459929877445957191981e-01\n",
        " 0e+00                                                       -8.78325129124259524394137359889959274976562826207098624039775685787772424750235e-01 \n",
        " 0e+00                                                       -5.464851581891111859645293919869128211022926353380854529763322024119237216061867e-01\n",
        " \u22ee                                                        \u22f1                                                                                       \n",
        " 0e+00                                                        1.31553963637700659009108073403354937339445782704607712961461377357472520018231e+00 \n",
        " 0e+00                                                       -1.405498387799726016782395253413298220498138997144919578822248921196217800910302e+00\n",
        " 0e+00                                                    \u2026   1.049420318766515766056381170935616933707748869615245972004194293905882507827802e+00\n",
        " 0e+00                                                        4.015892262664003956157359458256437844876118170218580993427914085975361541814942e-01\n",
        " 0e+00                                                        4.071991711658374899568409465125313283294121707034309859487876961676501204834647e+00\n",
        " 0e+00                                                        3.364547944717633673101300103532926589074955839405225012078983442129997692695803e+00\n",
        " 0e+00                                                       -1.355702695050663356004146327309821878522853460156820460902866904254769567469684e+00\n",
        " 0e+00                                                    \u2026  -9.706815355380132491779402843184143844750517366236491257512147873819253939944626e-01\n",
        " 0e+00                                                       -2.874082154199993808544755947425997345394814334872350461521716885289860280152699e-01\n",
        " 0e+00                                                        3.895180000323282487657406967326000432527716540432383424060568709944858386583776e-01\n",
        " 0e+00                                                       -2.046401187013913963049589247297114971627021446199801126894063754396456242861102e+00\n",
        " 0e+00                                                        2.318072926840216675398460100581689584136917515383709562666813257243891123577282e+00,\n",
        "\n",
        "[46,20,9,32,82,23,47,80,58,54  \u2026  89,8,44,11,84,56,30,74,97,49])"
       ]
      }
     ],
     "prompt_number": 79
    },
    {
     "cell_type": "code",
     "collapsed": false,
     "input": [
      "lu(M)"
     ],
     "language": "python",
     "metadata": {},
     "outputs": [
      {
       "metadata": {},
       "output_type": "pyout",
       "prompt_number": 5,
       "text": [
        "(\n",
        "100x100 Array{Float64,2}:\n",
        " 1.0         0.0           0.0        \u2026   0.0        0.0       0.0\n",
        " 0.208354    1.0           0.0            0.0        0.0       0.0\n",
        " 0.188508    0.197253      1.0            0.0        0.0       0.0\n",
        " 0.0486839   0.498701     -0.125564       0.0        0.0       0.0\n",
        " 0.930838    0.695687     -0.655293       0.0        0.0       0.0\n",
        " 0.758813   -0.091067      0.561132   \u2026   0.0        0.0       0.0\n",
        " 0.0526618   0.445214     -0.171587       0.0        0.0       0.0\n",
        " 0.41222     0.356765     -0.364269       0.0        0.0       0.0\n",
        " 0.476827    0.107381      0.338406       0.0        0.0       0.0\n",
        " 0.726247    0.330065      0.340706       0.0        0.0       0.0\n",
        " 0.489716    0.816836     -0.131986   \u2026   0.0        0.0       0.0\n",
        " 0.919447    0.50482      -0.930075       0.0        0.0       0.0\n",
        " 0.56698    -0.112169     -0.128156       0.0        0.0       0.0\n",
        " \u22ee                                    \u22f1                           \n",
        " 0.832509    0.000309064   0.0840172      0.0        0.0       0.0\n",
        " 0.599576    0.331331     -0.411492       0.0        0.0       0.0\n",
        " 0.470556    0.264746     -0.348458   \u2026   0.0        0.0       0.0\n",
        " 0.632321   -0.0624872     0.68665        0.0        0.0       0.0\n",
        " 0.646314    0.0203543     0.0349262      0.0        0.0       0.0\n",
        " 0.663925    0.257865     -0.150108       0.0        0.0       0.0\n",
        " 0.0831053   0.997736     -0.698928       0.0        0.0       0.0\n",
        " 0.0991611   0.951318      0.169188   \u2026   0.0        0.0       0.0\n",
        " 0.396576    0.296518      0.133782       0.0        0.0       0.0\n",
        " 0.291755    0.26562      -0.185842       1.0        0.0       0.0\n",
        " 0.128328    0.345751      0.265363      -0.305614   1.0       0.0\n",
        " 0.610416    0.548097     -0.466394      -0.129163  -0.432331  1.0,\n",
        "\n",
        "100x100 Array{Float64,2}:\n",
        " 0.999301  0.269395  0.513937  \u2026   0.965834    0.335865    0.14093  \n",
        " 0.0       0.890295  0.523864     -0.0298493   0.188389    0.0715561\n",
        " 0.0       0.0       0.786627      0.659953    0.222307    0.113249 \n",
        " 0.0       0.0       0.0           0.886482    0.903205    0.0450478\n",
        " 0.0       0.0       0.0          -0.56174     0.0585484   0.0623343\n",
        " 0.0       0.0       0.0       \u2026   0.661002    1.0115      0.363132 \n",
        " 0.0       0.0       0.0           0.46286     0.215562    0.202929 \n",
        " 0.0       0.0       0.0           0.0655094  -0.591076    0.0752105\n",
        " 0.0       0.0       0.0          -0.736783    0.138927    0.440637 \n",
        " 0.0       0.0       0.0           0.206547   -0.0256575   0.423693 \n",
        " 0.0       0.0       0.0       \u2026  -0.502041   -0.149553    0.519782 \n",
        " 0.0       0.0       0.0          -1.01702     0.27332     1.76783  \n",
        " 0.0       0.0       0.0           0.303928   -0.215946   -0.99879  \n",
        " \u22ee                             \u22f1                                    \n",
        " 0.0       0.0       0.0           2.39772    -3.46131     2.45209  \n",
        " 0.0       0.0       0.0           0.108893   -1.42097     2.42422  \n",
        " 0.0       0.0       0.0       \u2026  -3.03719     0.900553    0.173995 \n",
        " 0.0       0.0       0.0          -4.80897     3.18917    -0.833882 \n",
        " 0.0       0.0       0.0           2.19005    -1.0208      1.3986   \n",
        " 0.0       0.0       0.0          -1.26345    -1.21298     0.336692 \n",
        " 0.0       0.0       0.0          -0.417998    0.544668    1.4167   \n",
        " 0.0       0.0       0.0       \u2026  -0.670505    1.21561     0.395928 \n",
        " 0.0       0.0       0.0          -1.59089    -1.34402    -0.325986 \n",
        " 0.0       0.0       0.0          -3.35482     0.327353   -2.01956  \n",
        " 0.0       0.0       0.0           0.0         1.52136     2.7427   \n",
        " 0.0       0.0       0.0           0.0         0.0        -0.974619 ,\n",
        "\n",
        "[87,78,62,22,6,42,28,7,8,49  \u2026  14,66,89,68,90,100,39,83,12,43])"
       ]
      }
     ],
     "prompt_number": 5
    },
    {
     "cell_type": "code",
     "collapsed": false,
     "input": [
      "methods(lu)"
     ],
     "language": "python",
     "metadata": {},
     "outputs": [
      {
       "html": [
        "2 methods for generic function <b>lu</b>:<ul><li> lu(x::<b>Number</b>) at <a href=\"https://github.com/JuliaLang/julia/tree/7e7462150f72721caf0e6bd6e7e7e500d1efb187/base/linalg/lu.jl#L69\" target=\"_blank\">linalg/lu.jl:69</a><li> lu(A::<b>AbstractArray{T,2}</b>) at <a href=\"https://github.com/JuliaLang/julia/tree/7e7462150f72721caf0e6bd6e7e7e500d1efb187/base/linalg/lu.jl#L71\" target=\"_blank\">linalg/lu.jl:71</a></ul>"
       ],
       "metadata": {},
       "output_type": "pyout",
       "prompt_number": 5,
       "text": [
        "# 2 methods for generic function \"lu\":\n",
        "lu(x::Number) at linalg/lu.jl:69\n",
        "lu(A::AbstractArray{T,2}) at linalg/lu.jl:71"
       ]
      }
     ],
     "prompt_number": 5
    },
    {
     "cell_type": "code",
     "collapsed": false,
     "input": [
      "help(lufact)"
     ],
     "language": "python",
     "metadata": {},
     "outputs": [
      {
       "output_type": "stream",
       "stream": "stdout",
       "text": [
        "Base.lufact(A[, pivot=true]) -> F\n",
        "\n",
        "   Compute the LU factorization of \"A\". The return type of \"F\"\n",
        "   depends on the type of \"A\". In most cases, if \"A\" is a subtype\n",
        "   \"S\" of AbstractMatrix with an element type \"T`\" supporting\n",
        "   \"+\", \"-\", \"*\" and \"/\" the return type is \"LU{T,S{T}}\". If\n",
        "   pivoting is chosen (default) the element type should also support\n",
        "   \"abs\" and \"<\". When \"A\" is sparse and have element of type\n",
        "   \"Float32\", \"Float64\", \"Complex{Float32}\", or\n",
        "   \"Complex{Float64}\" the return type is \"UmfpackLU\". Some\n",
        "   examples are shown in the table below.\n",
        "\n",
        "      +-------------------------+---------------------------+------------------------------------------+\n",
        "      | Type of input \\\"A\\\"     | Type of output \\\"F\\\"      | Relationship between \\\"F\\\" and \\\"A\\\"     |\n",
        "      +-------------------------+---------------------------+------------------------------------------+\n",
        "      | \\\"Matrix()\\\"            | \\\"LU\\\"                    | \\\"F[:L]*F[:U] == A[F[:p], :]\\\"           |\n",
        "      +-------------------------+---------------------------+------------------------------------------+\n",
        "      | \\\"Tridiagonal()\\\"       | \\\"LU{T,Tridiagonal{T}}\\\"  | N/A                                      |\n",
        "      +-------------------------+---------------------------+------------------------------------------+\n",
        "      | \\\"SparseMatrixCSC()\\\"   | \\\"UmfpackLU\\\"             | \\\"F[:L]*F[:U] == Rs .* A[F[:p], F[:q]]\\\" |\n",
        "      +-------------------------+---------------------------+------------------------------------------+\n",
        "\n",
        "   The individual components of the factorization \"F\" can be\n",
        "   accessed by indexing:\n",
        "\n",
        "      +-------------+-----------------------------------------+--------+--------------------------+---------------+\n",
        "      | Component   | Description                             | \\\"LU\\\" | \\\"LU{T,Tridiagonal{T}}\\\" | \\\"UmfpackLU\\\" |\n",
        "      +-------------+-----------------------------------------+--------+--------------------------+---------------+\n",
        "      +-------------+-----------------------------------------+--------+--------------------------+---------------+\n",
        "      +-------------+-----------------------------------------+--------+--------------------------+---------------+\n",
        "      +-------------+-----------------------------------------+--------+--------------------------+---------------+\n",
        "      +-------------+-----------------------------------------+--------+--------------------------+---------------+\n",
        "      +-------------+-----------------------------------------+--------+--------------------------+---------------+\n",
        "      +-------------+-----------------------------------------+--------+--------------------------+---------------+\n",
        "      +-------------+-----------------------------------------+--------+--------------------------+---------------+\n",
        "\n",
        "      +--------------------+--------+--------------------------+---------------+\n",
        "      | Supported function | \\\"LU\\\" | \\\"LU{T,Tridiagonal{T}}\\\" | \\\"UmfpackLU\\\" |\n",
        "      +--------------------+--------+--------------------------+---------------+\n",
        "      +--------------------+--------+--------------------------+---------------+\n",
        "      | \\\"\\\\\\\"             | \u2713      | \u2713                        | \u2713             |\n",
        "      +--------------------+--------+--------------------------+---------------+\n",
        "      +--------------------+--------+--------------------------+---------------+\n",
        "      | \\\"det\\\"            | \u2713      | \u2713                        | \u2713             |\n",
        "      +--------------------+--------+--------------------------+---------------+\n",
        "      +--------------------+--------+--------------------------+---------------+\n"
       ]
      }
     ],
     "prompt_number": 80
    },
    {
     "cell_type": "heading",
     "level": 1,
     "metadata": {},
     "source": [
      "Interacting with the system"
     ]
    },
    {
     "cell_type": "heading",
     "level": 2,
     "metadata": {},
     "source": [
      "Command-line arguments"
     ]
    },
    {
     "cell_type": "markdown",
     "metadata": {},
     "source": [
      "A Julia script, similar to a Python script, is a sequence of Julia commands placed in a file, with the termination `.jl`.\n",
      "\n",
      "From the command line, a script `script.jl` can be run as \n",
      "\n",
      "    julia script.jl arg1 arg2 \n",
      "\n",
      "where `arg1` and `arg2` are command-line arguments.\n",
      "\n",
      "These command-line arguments to Julia scripts are placed in the variable `ARGS` as an array of strings."
     ]
    },
    {
     "cell_type": "heading",
     "level": 2,
     "metadata": {},
     "source": [
      "Files"
     ]
    },
    {
     "cell_type": "markdown",
     "metadata": {},
     "source": [
      "Simple file input and output is easy:"
     ]
    },
    {
     "cell_type": "code",
     "collapsed": false,
     "input": [
      "outfile = open(\"test.txt\", \"w\")"
     ],
     "language": "python",
     "metadata": {},
     "outputs": [
      {
       "metadata": {},
       "output_type": "pyout",
       "prompt_number": 66,
       "text": [
        "IOStream(<file test.txt>)"
       ]
      }
     ],
     "prompt_number": 66
    },
    {
     "cell_type": "code",
     "collapsed": false,
     "input": [
      "for i in 1:10\n",
      "    println(outfile, \"The value of i is $i\")\n",
      "end\n",
      "\n",
      "close(outfile)"
     ],
     "language": "python",
     "metadata": {},
     "outputs": [],
     "prompt_number": 69
    },
    {
     "cell_type": "code",
     "collapsed": false,
     "input": [
      ";cat test.txt"
     ],
     "language": "python",
     "metadata": {},
     "outputs": [
      {
       "output_type": "stream",
       "stream": "stdout",
       "text": [
        "The value of i is 1\n",
        "The value of i is 2\n",
        "The value of i is 3\n",
        "The value of i is 4\n",
        "The value of i is 5\n",
        "The value of i is 6\n",
        "The value of i is 7\n",
        "The value of i is 8\n",
        "The value of i is 9\n",
        "The value of i is 10\n"
       ]
      }
     ],
     "prompt_number": 70
    },
    {
     "cell_type": "code",
     "collapsed": false,
     "input": [
      "infile = open(\"test.txt\", \"r\")"
     ],
     "language": "python",
     "metadata": {},
     "outputs": [
      {
       "metadata": {},
       "output_type": "pyout",
       "prompt_number": 72,
       "text": [
        "IOStream(<file test.txt>)"
       ]
      }
     ],
     "prompt_number": 72
    },
    {
     "cell_type": "code",
     "collapsed": false,
     "input": [
      "lines = readlines(infile)"
     ],
     "language": "python",
     "metadata": {},
     "outputs": [
      {
       "metadata": {},
       "output_type": "pyout",
       "prompt_number": 74,
       "text": [
        "10-element Array{Union(UTF8String,ASCIIString),1}:\n",
        " \"The value of i is 1\\n\" \n",
        " \"The value of i is 2\\n\" \n",
        " \"The value of i is 3\\n\" \n",
        " \"The value of i is 4\\n\" \n",
        " \"The value of i is 5\\n\" \n",
        " \"The value of i is 6\\n\" \n",
        " \"The value of i is 7\\n\" \n",
        " \"The value of i is 8\\n\" \n",
        " \"The value of i is 9\\n\" \n",
        " \"The value of i is 10\\n\""
       ]
      }
     ],
     "prompt_number": 74
    },
    {
     "cell_type": "code",
     "collapsed": false,
     "input": [
      "map(split, lines)"
     ],
     "language": "python",
     "metadata": {},
     "outputs": [
      {
       "metadata": {},
       "output_type": "pyout",
       "prompt_number": 75,
       "text": [
        "10-element Array{Array{SubString{ASCIIString},1},1}:\n",
        " SubString{ASCIIString}[\"The\",\"value\",\"of\",\"i\",\"is\",\"1\"] \n",
        " SubString{ASCIIString}[\"The\",\"value\",\"of\",\"i\",\"is\",\"2\"] \n",
        " SubString{ASCIIString}[\"The\",\"value\",\"of\",\"i\",\"is\",\"3\"] \n",
        " SubString{ASCIIString}[\"The\",\"value\",\"of\",\"i\",\"is\",\"4\"] \n",
        " SubString{ASCIIString}[\"The\",\"value\",\"of\",\"i\",\"is\",\"5\"] \n",
        " SubString{ASCIIString}[\"The\",\"value\",\"of\",\"i\",\"is\",\"6\"] \n",
        " SubString{ASCIIString}[\"The\",\"value\",\"of\",\"i\",\"is\",\"7\"] \n",
        " SubString{ASCIIString}[\"The\",\"value\",\"of\",\"i\",\"is\",\"8\"] \n",
        " SubString{ASCIIString}[\"The\",\"value\",\"of\",\"i\",\"is\",\"9\"] \n",
        " SubString{ASCIIString}[\"The\",\"value\",\"of\",\"i\",\"is\",\"10\"]"
       ]
      }
     ],
     "prompt_number": 75
    },
    {
     "cell_type": "code",
     "collapsed": false,
     "input": [
      "[float(line[6]) for line in map(split, lines)]"
     ],
     "language": "python",
     "metadata": {},
     "outputs": [
      {
       "metadata": {},
       "output_type": "pyout",
       "prompt_number": 76,
       "text": [
        "10-element Array{Any,1}:\n",
        "  1.0\n",
        "  2.0\n",
        "  3.0\n",
        "  4.0\n",
        "  5.0\n",
        "  6.0\n",
        "  7.0\n",
        "  8.0\n",
        "  9.0\n",
        " 10.0"
       ]
      }
     ],
     "prompt_number": 76
    },
    {
     "cell_type": "code",
     "collapsed": false,
     "input": [
      "x = rand(5,5)"
     ],
     "language": "python",
     "metadata": {},
     "outputs": [
      {
       "metadata": {},
       "output_type": "pyout",
       "prompt_number": 49,
       "text": [
        "5x5 Array{Float64,2}:\n",
        " 0.733305  0.407818  0.856017  0.17519   0.300911   \n",
        " 0.780196  0.410316  0.747914  0.517746  0.482768   \n",
        " 0.821524  0.282658  0.499362  0.33969   0.46995    \n",
        " 0.127905  0.784039  0.552099  0.370477  0.000157871\n",
        " 0.614037  0.831996  0.557765  0.400553  0.816338   "
       ]
      }
     ],
     "prompt_number": 49
    },
    {
     "cell_type": "code",
     "collapsed": false,
     "input": [
      "writedlm(\"random.txt\", x)\n",
      ";cat random.txt\n"
     ],
     "language": "python",
     "metadata": {},
     "outputs": [
      {
       "output_type": "stream",
       "stream": "stdout",
       "text": [
        ".7333048397971658\t.40781770914373294\t.8560165670499627\t.1751897160302176\t.3009107585707549\n",
        ".7801957216838906\t.41031585009227367\t.7479144542902101\t.5177461965467203\t.4827677730696496\n",
        ".8215243209225078\t.28265839467586185\t.49936164572625463\t.33968997036639403\t.46994964345333146\n",
        ".1279053435465234\t.7840390419869261\t.5520986105415162\t.3704773976502098\t.00015787055013616325\n",
        ".6140369836251944\t.8319958406211578\t.5577649080752074\t.4005532312183908\t.8163378474918641\n"
       ]
      }
     ],
     "prompt_number": 54
    },
    {
     "cell_type": "code",
     "collapsed": false,
     "input": [
      "y = readdlm(\"random.txt\")  # note that tab completion works for files"
     ],
     "language": "python",
     "metadata": {},
     "outputs": [
      {
       "metadata": {},
       "output_type": "pyout",
       "prompt_number": 56,
       "text": [
        "5x5 Array{Float64,2}:\n",
        " 0.733305  0.407818  0.856017  0.17519   0.300911   \n",
        " 0.780196  0.410316  0.747914  0.517746  0.482768   \n",
        " 0.821524  0.282658  0.499362  0.33969   0.46995    \n",
        " 0.127905  0.784039  0.552099  0.370477  0.000157871\n",
        " 0.614037  0.831996  0.557765  0.400553  0.816338   "
       ]
      }
     ],
     "prompt_number": 56
    },
    {
     "cell_type": "heading",
     "level": 3,
     "metadata": {},
     "source": [
      "External processes"
     ]
    },
    {
     "cell_type": "code",
     "collapsed": false,
     "input": [
      ";ls"
     ],
     "language": "python",
     "metadata": {},
     "outputs": [
      {
       "output_type": "stream",
       "stream": "stdout",
       "text": [
        "Arrays with any indexing.ipynb\n",
        "Introduction to Julia.ipynb\n",
        "Introduction to Julia.pdf\n",
        "Introduction to Julia.tex\n",
        "Random matrices.ipynb\n",
        "julia_tutorial.md\n"
       ]
      }
     ],
     "prompt_number": 93
    },
    {
     "cell_type": "code",
     "collapsed": false,
     "input": [
      "run(`echo Hello`)"
     ],
     "language": "python",
     "metadata": {},
     "outputs": [
      {
       "output_type": "stream",
       "stream": "stdout",
       "text": [
        "Hello\n"
       ]
      }
     ],
     "prompt_number": 81
    },
    {
     "cell_type": "code",
     "collapsed": false,
     "input": [
      "readall(`echo text`)"
     ],
     "language": "python",
     "metadata": {},
     "outputs": [
      {
       "metadata": {},
       "output_type": "pyout",
       "prompt_number": 82,
       "text": [
        "\"text\\n\""
       ]
      }
     ],
     "prompt_number": 82
    },
    {
     "cell_type": "heading",
     "level": 1,
     "metadata": {},
     "source": [
      "Functions"
     ]
    },
    {
     "cell_type": "markdown",
     "metadata": {},
     "source": [
      "Functions may be defined using the short syntax `f(x) = 3x + 1` or using a longer form:"
     ]
    },
    {
     "cell_type": "code",
     "collapsed": false,
     "input": [
      "double(x) = 2x"
     ],
     "language": "python",
     "metadata": {},
     "outputs": [
      {
       "metadata": {},
       "output_type": "pyout",
       "prompt_number": 19,
       "text": [
        "double (generic function with 1 method)"
       ]
      }
     ],
     "prompt_number": 19
    },
    {
     "cell_type": "code",
     "collapsed": false,
     "input": [
      "function double(x)\n",
      "    2x   # no explicit \"return\" needed\n",
      "end"
     ],
     "language": "python",
     "metadata": {},
     "outputs": [
      {
       "metadata": {},
       "output_type": "pyout",
       "prompt_number": 20,
       "text": [
        "double (generic function with 1 method)"
       ]
      }
     ],
     "prompt_number": 20
    },
    {
     "cell_type": "markdown",
     "metadata": {},
     "source": [
      "The last value computed in the function is automatically returned; no explicit `return` statement is required."
     ]
    },
    {
     "cell_type": "markdown",
     "metadata": {},
     "source": [
      "Every operator in Julia is a function. Functions are implemented by specifying their action on different *types*. Until now, we have written only functions that are generic, in the sense that they do not specify which type they accept, and as in Python they will work as long as the operations performed in them make sense for the input value:"
     ]
    },
    {
     "cell_type": "code",
     "collapsed": false,
     "input": [
      "double(3), double(3.5), double(1+3im)"
     ],
     "language": "python",
     "metadata": {},
     "outputs": [
      {
       "metadata": {},
       "output_type": "pyout",
       "prompt_number": 21,
       "text": [
        "(6,7.0,2 + 6im)"
       ]
      }
     ],
     "prompt_number": 21
    },
    {
     "cell_type": "code",
     "collapsed": false,
     "input": [
      "double(\"Hola\")"
     ],
     "language": "python",
     "metadata": {},
     "outputs": [
      {
       "ename": "LoadError",
       "evalue": "`*` has no method matching *(::Int64, ::ASCIIString)\nwhile loading In[23], in expression starting on line 1",
       "output_type": "pyerr",
       "traceback": [
        "`*` has no method matching *(::Int64, ::ASCIIString)\nwhile loading In[23], in expression starting on line 1",
        "",
        " in double at In[20]:2"
       ]
      }
     ],
     "prompt_number": 23
    },
    {
     "cell_type": "markdown",
     "metadata": {},
     "source": [
      "Note that string concatenation uses the `*` operator in Julia, instead of the `+` operator as in Python.\n",
      "Repeating a string is thus done by raising to an integer power:"
     ]
    },
    {
     "cell_type": "code",
     "collapsed": false,
     "input": [
      "\"Hello\"^2"
     ],
     "language": "python",
     "metadata": {},
     "outputs": [
      {
       "metadata": {},
       "output_type": "pyout",
       "prompt_number": 16,
       "text": [
        "\"HelloHello\""
       ]
      }
     ],
     "prompt_number": 16
    },
    {
     "cell_type": "markdown",
     "metadata": {},
     "source": [
      "If we were unaware of the `*` operator for string concatenation, we could just *define our own* `+` for the concatenation of two strings:"
     ]
    },
    {
     "cell_type": "code",
     "collapsed": false,
     "input": [
      "+(s1::String, s2::String) = string(s1, s2)"
     ],
     "language": "python",
     "metadata": {},
     "outputs": [
      {
       "metadata": {},
       "output_type": "pyout",
       "prompt_number": 24,
       "text": [
        "+ (generic function with 147 methods)"
       ]
      }
     ],
     "prompt_number": 24
    },
    {
     "cell_type": "code",
     "collapsed": false,
     "input": [
      "\"First\" + \" second\""
     ],
     "language": "python",
     "metadata": {},
     "outputs": [
      {
       "metadata": {},
       "output_type": "pyout",
       "prompt_number": 25,
       "text": [
        "\"First second\""
       ]
      }
     ],
     "prompt_number": 25
    },
    {
     "cell_type": "markdown",
     "metadata": {},
     "source": [
      "However, we cannot add a number to a string, since we have not (yet) defined it:"
     ]
    },
    {
     "cell_type": "code",
     "collapsed": false,
     "input": [
      "\"The value of x is \" + 3"
     ],
     "language": "python",
     "metadata": {},
     "outputs": [
      {
       "ename": "LoadError",
       "evalue": "`+` has no method matching +(::ASCIIString, ::Int64)\nwhile loading In[26], in expression starting on line 1",
       "output_type": "pyerr",
       "traceback": [
        "`+` has no method matching +(::ASCIIString, ::Int64)\nwhile loading In[26], in expression starting on line 1",
        ""
       ]
      }
     ],
     "prompt_number": 26
    },
    {
     "cell_type": "markdown",
     "metadata": {},
     "source": [
      "This we can also define, using the previous new definition:"
     ]
    },
    {
     "cell_type": "code",
     "collapsed": false,
     "input": [
      "+(s::String, x::Number) = s + string(x)"
     ],
     "language": "python",
     "metadata": {},
     "outputs": [
      {
       "metadata": {},
       "output_type": "pyout",
       "prompt_number": 30,
       "text": [
        "+ (generic function with 148 methods)"
       ]
      }
     ],
     "prompt_number": 30
    },
    {
     "cell_type": "code",
     "collapsed": false,
     "input": [
      "\"The value of x is \" + 3"
     ],
     "language": "python",
     "metadata": {},
     "outputs": [
      {
       "metadata": {},
       "output_type": "pyout",
       "prompt_number": 31,
       "text": [
        "\"The value of x is 3\""
       ]
      }
     ],
     "prompt_number": 31
    },
    {
     "cell_type": "code",
     "collapsed": false,
     "input": [
      "x = 3.5\n",
      "\"The value of x is \" + x"
     ],
     "language": "python",
     "metadata": {},
     "outputs": [
      {
       "metadata": {},
       "output_type": "pyout",
       "prompt_number": 32,
       "text": [
        "\"The value of x is 3.5\""
       ]
      }
     ],
     "prompt_number": 32
    },
    {
     "cell_type": "markdown",
     "metadata": {},
     "source": [
      "In fact, we can define the summation of a string with *any* other object:"
     ]
    },
    {
     "cell_type": "code",
     "collapsed": false,
     "input": [
      "+(s::String, x) = s + string(x)"
     ],
     "language": "python",
     "metadata": {},
     "outputs": [
      {
       "metadata": {},
       "output_type": "pyout",
       "prompt_number": 33,
       "text": [
        "+ (generic function with 149 methods)"
       ]
      }
     ],
     "prompt_number": 33
    },
    {
     "cell_type": "code",
     "collapsed": false,
     "input": [
      "\"Complex \" + [3,4,5]"
     ],
     "language": "python",
     "metadata": {},
     "outputs": [
      {
       "metadata": {},
       "output_type": "pyout",
       "prompt_number": 34,
       "text": [
        "\"Complex [3,4,5]\""
       ]
      }
     ],
     "prompt_number": 34
    },
    {
     "cell_type": "code",
     "collapsed": false,
     "input": [
      "\"a\" + 3"
     ],
     "language": "python",
     "metadata": {},
     "outputs": [
      {
       "metadata": {},
       "output_type": "pyout",
       "prompt_number": 35,
       "text": [
        "\"a3\""
       ]
      }
     ],
     "prompt_number": 35
    },
    {
     "cell_type": "markdown",
     "metadata": {},
     "source": [
      "In this way, the concept of \"function\" is replaced by a \"patchwork\" of different definitions for objects of different types, easily modifiable by the user.\n",
      "This is also exactly the way to define \"operator overloading\" for user-defined types."
     ]
    },
    {
     "cell_type": "markdown",
     "metadata": {},
     "source": [
      "In the above, we also begin to see the power of *multiple dispatch*: we defined two methods (versions) of the function `+`, both with the same *number* but different *types* of arguments."
     ]
    },
    {
     "cell_type": "heading",
     "level": 2,
     "metadata": {},
     "source": [
      "Numeric type hierarchy"
     ]
    },
    {
     "cell_type": "code",
     "collapsed": false,
     "input": [
      "Number"
     ],
     "language": "python",
     "metadata": {},
     "outputs": [
      {
       "metadata": {},
       "output_type": "pyout",
       "prompt_number": 36,
       "text": [
        "Number"
       ]
      }
     ],
     "prompt_number": 36
    },
    {
     "cell_type": "code",
     "collapsed": false,
     "input": [
      "typeof(Number)"
     ],
     "language": "python",
     "metadata": {},
     "outputs": [
      {
       "metadata": {},
       "output_type": "pyout",
       "prompt_number": 37,
       "text": [
        "DataType"
       ]
      }
     ],
     "prompt_number": 37
    },
    {
     "cell_type": "code",
     "collapsed": false,
     "input": [
      "super(Int64)"
     ],
     "language": "python",
     "metadata": {},
     "outputs": [
      {
       "metadata": {},
       "output_type": "pyout",
       "prompt_number": 38,
       "text": [
        "Signed"
       ]
      }
     ],
     "prompt_number": 38
    },
    {
     "cell_type": "code",
     "collapsed": false,
     "input": [
      "super(Signed)"
     ],
     "language": "python",
     "metadata": {},
     "outputs": [
      {
       "metadata": {},
       "output_type": "pyout",
       "prompt_number": 39,
       "text": [
        "Integer"
       ]
      }
     ],
     "prompt_number": 39
    },
    {
     "cell_type": "code",
     "collapsed": false,
     "input": [
      "super(Integer)"
     ],
     "language": "python",
     "metadata": {},
     "outputs": [
      {
       "metadata": {},
       "output_type": "pyout",
       "prompt_number": 40,
       "text": [
        "Real"
       ]
      }
     ],
     "prompt_number": 40
    },
    {
     "cell_type": "code",
     "collapsed": false,
     "input": [
      "super(Real)"
     ],
     "language": "python",
     "metadata": {},
     "outputs": [
      {
       "metadata": {},
       "output_type": "pyout",
       "prompt_number": 41,
       "text": [
        "Number"
       ]
      }
     ],
     "prompt_number": 41
    },
    {
     "cell_type": "code",
     "collapsed": false,
     "input": [
      "super(Number)"
     ],
     "language": "python",
     "metadata": {},
     "outputs": [
      {
       "metadata": {},
       "output_type": "pyout",
       "prompt_number": 42,
       "text": [
        "Any"
       ]
      }
     ],
     "prompt_number": 42
    }
   ],
   "metadata": {}
  }
 ]
}