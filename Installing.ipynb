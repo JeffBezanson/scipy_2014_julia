{
 "metadata": {
  "language": "Julia",
  "name": ""
 },
 "nbformat": 3,
 "nbformat_minor": 0,
 "worksheets": [
  {
   "cells": [
    {
     "cell_type": "markdown",
     "metadata": {},
     "source": [
      "# Source install"
     ]
    },
    {
     "cell_type": "markdown",
     "metadata": {},
     "source": [
      "`$ git clone git@github.com:JuliaLang/julia.git`\n",
      "\n",
      "`$ cd julia`\n",
      "\n",
      "`$ make -j n`\n",
      "\n",
      "**However, first build takes ~1 hour.**"
     ]
    },
    {
     "cell_type": "markdown",
     "metadata": {},
     "source": [
      "# Binary install"
     ]
    },
    {
     "cell_type": "markdown",
     "metadata": {},
     "source": [
      "### Win/Mac\n",
      "\n",
      "http://julialang.org/downloads/"
     ]
    },
    {
     "cell_type": "markdown",
     "metadata": {},
     "source": [
      "### Ubuntu/Debian\n",
      "\n",
      "`$ sudo add-apt-repository ppa:staticfloat/juliareleases`\n",
      "\n",
      "`$ sudo apt-get update`\n",
      "\n",
      "`$ sudo apt-get install julia`"
     ]
    },
    {
     "cell_type": "markdown",
     "metadata": {},
     "source": [
      "# Installing IJulia\n",
      "\n",
      "https://github.com/JuliaLang/IJulia.jl#installation"
     ]
    }
   ],
   "metadata": {}
  }
 ]
}