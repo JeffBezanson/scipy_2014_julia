{
 "metadata": {
  "language": "Julia",
  "name": "",
  "signature": "sha256:8f7f32bfc62a5bc58572e78612f7a6c99f7a46ef2df8bde18a01498d57a6aa6a"
 },
 "nbformat": 3,
 "nbformat_minor": 0,
 "worksheets": [
  {
   "cells": [
    {
     "cell_type": "heading",
     "level": 1,
     "metadata": {},
     "source": [
      "Plotting in Julia"
     ]
    },
    {
     "cell_type": "markdown",
     "metadata": {},
     "source": [
      "Visualization is a key topic in scientific computing.\n",
      "Currently there are several options available for producing different types of graphics in Julia. \n",
      "\n",
      "Coming from Python, one of the most accessible (and full-featured) is `PyPlot`, which is a Julia wrapper to the `pyplot` submodule of the Python `matplotlib` library."
     ]
    },
    {
     "cell_type": "heading",
     "level": 2,
     "metadata": {},
     "source": [
      "Installing PyPlot"
     ]
    },
    {
     "cell_type": "markdown",
     "metadata": {},
     "source": [
      "To install the `PyPlot` package, if it is not already installed, we do"
     ]
    },
    {
     "cell_type": "code",
     "collapsed": false,
     "input": [
      "Pkg.add(\"PyPlot\")"
     ],
     "language": "python",
     "metadata": {},
     "outputs": []
    },
    {
     "cell_type": "heading",
     "level": 2,
     "metadata": {},
     "source": [
      "To make the package accessible in our code, we use"
     ]
    },
    {
     "cell_type": "code",
     "collapsed": false,
     "input": [
      "using PyPlot"
     ],
     "language": "python",
     "metadata": {},
     "outputs": []
    },
    {
     "cell_type": "markdown",
     "metadata": {},
     "source": [
      "`using` is analogous to `from [package] import *` in Python; it makes all names in the package available.\n",
      "We could instead use `import PyPlot`, in which case all names would be available as `PyPlot.plot`, etc."
     ]
    },
    {
     "cell_type": "code",
     "collapsed": false,
     "input": [
      "x = rand(10)\n",
      "y = rand(10)\n",
      "\n",
      "p = plot(x, y, \"ro-\")"
     ],
     "language": "python",
     "metadata": {},
     "outputs": []
    },
    {
     "cell_type": "markdown",
     "metadata": {},
     "source": [
      "An alternative is to use `import` instead:"
     ]
    },
    {
     "cell_type": "code",
     "collapsed": false,
     "input": [
      "import PyPlot"
     ],
     "language": "python",
     "metadata": {},
     "outputs": []
    },
    {
     "cell_type": "code",
     "collapsed": false,
     "input": [
      "PyPlot.figure(figsize=(4,2))\n",
      "PyPlot.plot(rand(10), rand(10))"
     ],
     "language": "python",
     "metadata": {},
     "outputs": []
    },
    {
     "cell_type": "heading",
     "level": 2,
     "metadata": {},
     "source": [
      "Example: Eigenvalues of random matrices"
     ]
    },
    {
     "cell_type": "code",
     "collapsed": false,
     "input": [
      "L = 1000\n",
      "\n",
      "diffs = Float64[]\n",
      "\n",
      "for i in 1:10\n",
      "    M = Symmetric(randn(L, L))\n",
      "\n",
      "    lamb = eigvals(M)\n",
      "    \n",
      "    append!(diffs, diff(lamb))\n",
      "end\n",
      "\n",
      "h = hist(diffs, 300)\n",
      "plot(h[1][1:end-1], h[2])"
     ],
     "language": "python",
     "metadata": {},
     "outputs": []
    },
    {
     "cell_type": "heading",
     "level": 1,
     "metadata": {},
     "source": [
      "Gadfly"
     ]
    },
    {
     "cell_type": "markdown",
     "metadata": {},
     "source": [
      "Gadfly is a native Julia plotting package, based on the Grammar of Graphics syntax, and thus with a similar flavour to R's `ggplot` package."
     ]
    },
    {
     "cell_type": "code",
     "collapsed": false,
     "input": [
      "using Gadfly"
     ],
     "language": "python",
     "metadata": {},
     "outputs": []
    },
    {
     "cell_type": "code",
     "collapsed": false,
     "input": [
      "xs = 1:10\n",
      "ys = rand(10)\n",
      "\n",
      "Gadfly.plot(x=xs, y=ys)"
     ],
     "language": "python",
     "metadata": {},
     "outputs": []
    },
    {
     "cell_type": "markdown",
     "metadata": {},
     "source": [
      "The plot can be panned and zoomed directly in the browser."
     ]
    },
    {
     "cell_type": "markdown",
     "metadata": {},
     "source": [
      "Different geometries are available:"
     ]
    },
    {
     "cell_type": "code",
     "collapsed": false,
     "input": [
      "plot(x=xs, y=ys, Geom.line)"
     ],
     "language": "python",
     "metadata": {},
     "outputs": []
    },
    {
     "cell_type": "code",
     "collapsed": false,
     "input": [
      "plot(x=rand(10), y=rand(10), Geom.point, Geom.line(preserve_order=true))"
     ],
     "language": "python",
     "metadata": {},
     "outputs": []
    },
    {
     "cell_type": "markdown",
     "metadata": {},
     "source": [
      "Note that the lines are drawn between points ordered in the $x$-direction. To avoid this, we use an argument to `Geom.line`:"
     ]
    },
    {
     "cell_type": "code",
     "collapsed": false,
     "input": [
      "p = plot(layer(x=rand(10), y=rand(10), color=[1], Geom.point, Geom.line(preserve_order=true)),\n",
      "         layer(x=rand(10), y=rand(10), Geom.point, Geom.line(preserve_order=true)),\n",
      "         Guide.XLabel(\"first\"), Guide.YLabel(\"second\"))"
     ],
     "language": "python",
     "metadata": {},
     "outputs": []
    },
    {
     "cell_type": "markdown",
     "metadata": {},
     "source": [
      "We can write to a PDF:"
     ]
    },
    {
     "cell_type": "code",
     "collapsed": false,
     "input": [
      "draw(PDF(\"stuff.pdf\", 10cm, 5cm), p)"
     ],
     "language": "python",
     "metadata": {},
     "outputs": []
    },
    {
     "cell_type": "code",
     "collapsed": false,
     "input": [
      ";evince stuff.pdf"
     ],
     "language": "python",
     "metadata": {},
     "outputs": []
    },
    {
     "cell_type": "heading",
     "level": 2,
     "metadata": {},
     "source": [
      "DataFrames"
     ]
    },
    {
     "cell_type": "markdown",
     "metadata": {},
     "source": [
      "The `DataFrames` package provides `pandas`-like functionality."
     ]
    },
    {
     "cell_type": "markdown",
     "metadata": {},
     "source": [
      "Gadfly has excellent integration with `DataFrames`:"
     ]
    },
    {
     "cell_type": "code",
     "collapsed": false,
     "input": [
      "using RDatasets"
     ],
     "language": "python",
     "metadata": {},
     "outputs": []
    },
    {
     "cell_type": "code",
     "collapsed": false,
     "input": [
      "irises = dataset(\"datasets\", \"iris\")\n",
      "head(irises)"
     ],
     "language": "python",
     "metadata": {},
     "outputs": []
    },
    {
     "cell_type": "code",
     "collapsed": false,
     "input": [
      "typeof(irises)"
     ],
     "language": "python",
     "metadata": {},
     "outputs": []
    },
    {
     "cell_type": "code",
     "collapsed": false,
     "input": [
      "plot(irises, x=\"SepalLength\", y=\"SepalWidth\", Geom.point)"
     ],
     "language": "python",
     "metadata": {},
     "outputs": []
    },
    {
     "cell_type": "code",
     "collapsed": false,
     "input": [
      "cars = dataset(\"car\", \"SLID\")\n",
      "head(cars)"
     ],
     "language": "python",
     "metadata": {},
     "outputs": []
    },
    {
     "cell_type": "code",
     "collapsed": false,
     "input": [
      "plot(cars, x=\"Wages\", color=\"Language\", Geom.histogram)"
     ],
     "language": "python",
     "metadata": {},
     "outputs": []
    }
   ],
   "metadata": {}
  }
 ]
}