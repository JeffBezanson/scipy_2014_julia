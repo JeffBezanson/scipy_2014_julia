{
 "metadata": {
  "language": "Julia",
  "name": ""
 },
 "nbformat": 3,
 "nbformat_minor": 0,
 "worksheets": [
  {
   "cells": [
    {
     "cell_type": "markdown",
     "metadata": {},
     "source": [
      "# Julia Package Manager"
     ]
    },
    {
     "cell_type": "markdown",
     "metadata": {},
     "source": [
      "* Based on git\n",
      "* Central metadata repository (https://github.com/JuliaLang/METADATA.jl)\n",
      "* Getting *and contributing to* code integrated from the command line\n",
      "* Packages go in ~/.julia/v0.3"
     ]
    },
    {
     "cell_type": "markdown",
     "metadata": {},
     "source": [
      "## Important package operations\n",
      "\n",
      "* `Pkg.add(\"Package\")`, `Pkg.rm(\"Package\")`\n",
      "* `Pkg.update()`\n",
      "* `Pkg.status()`\n",
      "* `Pkg.test([name])`"
     ]
    },
    {
     "cell_type": "markdown",
     "metadata": {},
     "source": [
      "## More advanced package operations\n",
      "\n",
      "<table>\n",
      "<tr>\n",
      "<td> `Pkg.clone(url)`  <td>  install unregistered package\n",
      "</tr>\n",
      "<tr>\n",
      "<td> `Pkg.checkout(\"Package\"[, branch])`  <td>    switch a package to a development branch\n",
      "</tr>\n",
      "<tr>\n",
      "<td> `Pkg.build(name)`  <td>    rerun the build script for a package\n",
      "</tr>\n",
      "<tr>\n",
      "<td> `Pkg.dependents(name)` <td> array of packages that depend on a given package\n",
      "</tr>\n",
      "<tr>\n",
      "<td> `Pkg.installed()` <td> dictionary of installed packages and their versions\n",
      "</tr>\n",
      "</table>\n"
     ]
    },
    {
     "cell_type": "markdown",
     "metadata": {},
     "source": [
      "# Becoming a package developer or contributor\n",
      "\n",
      "* Create a GitHub account\n",
      "\n",
      "* Configure `git`\n",
      "\n",
      "`$ git config --global user.name \"FULL NAME\"`\n",
      "\n",
      "`$ git config --global user.email \"EMAIL\"`\n",
      "\n",
      "`$ git config --global github.user \"USERNAME\"`"
     ]
    },
    {
     "cell_type": "markdown",
     "metadata": {},
     "source": [
      "<table>\n",
      "<tr>\n",
      "<td> `Pkg.generate(\"FooBar\",\"license\")`  <td>  creates a package on disk\n",
      "<tr>\n",
      "<td>`Pkg.register(\"FooBar\")`  <td>  adds to METADATA locally\n",
      "<tr>\n",
      "<td>`Pkg.publish()`  <td>  pushes METADATA changes\n",
      "<tr>\n",
      "<td>`Pkg.tag(\"FooBar\")`  <td>  tag a version locally\n",
      "</tr>\n",
      "</table>"
     ]
    },
    {
     "cell_type": "code",
     "collapsed": false,
     "input": [],
     "language": "python",
     "metadata": {},
     "outputs": []
    }
   ],
   "metadata": {}
  }
 ]
}