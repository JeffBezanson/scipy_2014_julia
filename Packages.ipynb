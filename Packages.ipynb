{
 "metadata": {
  "language": "Julia",
  "name": ""
 },
 "nbformat": 3,
 "nbformat_minor": 0,
 "worksheets": [
  {
   "cells": [
    {
     "cell_type": "markdown",
     "metadata": {},
     "source": [
      "# Julia Package Manager"
     ]
    },
    {
     "cell_type": "markdown",
     "metadata": {},
     "source": [
      "* Based on git\n",
      "* Central metadata repository (https://github.com/JuliaLang/METADATA.jl)\n",
      "* Getting *and contributing to* code integrated from the command line\n",
      "* Packages go in ~/.julia/v0.3\n",
      "* Check out http://pkg.julialang.org"
     ]
    },
    {
     "cell_type": "markdown",
     "metadata": {},
     "source": [
      "## Important package operations\n",
      "\n",
      "* `Pkg.add(\"Package\")`, `Pkg.rm(\"Package\")`\n",
      "* `Pkg.update()`\n",
      "* `Pkg.status()`\n",
      "* `Pkg.test([name])`"
     ]
    },
    {
     "cell_type": "markdown",
     "metadata": {},
     "source": [
      "# Becoming a package developer or contributor\n",
      "\n",
      "* Create a GitHub account\n",
      "\n",
      "* Configure `git`\n",
      "\n",
      "`$ git config --global user.name \"FULL NAME\"`\n",
      "\n",
      "`$ git config --global user.email \"EMAIL\"`\n",
      "\n",
      "`$ git config --global github.user \"USERNAME\"`"
     ]
    },
    {
     "cell_type": "markdown",
     "metadata": {},
     "source": [
      "<table>\n",
      "<tr>\n",
      "<td> `Pkg.generate(\"FooBar\",\"license\")`  <td>  creates a package on disk\n",
      "<tr>\n",
      "<td>`Pkg.register(\"FooBar\")`  <td>  adds to METADATA locally\n",
      "<tr>\n",
      "<td>`Pkg.publish()`  <td>  pushes METADATA changes\n",
      "<tr>\n",
      "<td>`Pkg.tag(\"FooBar\")`  <td>  tag a version locally\n",
      "</tr>\n",
      "</table>"
     ]
    },
    {
     "cell_type": "code",
     "collapsed": false,
     "input": [
      "Pkg.generate(\"TestPackage\",\"MIT\")"
     ],
     "language": "python",
     "metadata": {},
     "outputs": []
    },
    {
     "cell_type": "code",
     "collapsed": false,
     "input": [
      ";ls /home/jeff/.julia/v0.3/TestPackage"
     ],
     "language": "python",
     "metadata": {},
     "outputs": []
    },
    {
     "cell_type": "markdown",
     "metadata": {},
     "source": [
      "## More advanced package operations\n",
      "\n",
      "<table>\n",
      "<tr>\n",
      "<td> `Pkg.clone(url)`  <td>  install unregistered package\n",
      "</tr>\n",
      "<tr>\n",
      "<td> `Pkg.checkout(\"Package\"[, branch])`  <td>    switch a package to a development branch\n",
      "</tr>\n",
      "<tr>\n",
      "<td> `Pkg.build(name)`  <td>    rerun the build script for a package\n",
      "</tr>\n",
      "<tr>\n",
      "<td> `Pkg.dependents(name)` <td> array of packages that depend on a given package\n",
      "</tr>\n",
      "<tr>\n",
      "<td> `Pkg.installed()` <td> dictionary of installed packages and their versions\n",
      "</tr>\n",
      "</table>\n"
     ]
    },
    {
     "cell_type": "markdown",
     "metadata": {},
     "source": [
      "# Some popular packages"
     ]
    },
    {
     "cell_type": "code",
     "collapsed": false,
     "input": [
      "using Distributions"
     ],
     "language": "python",
     "metadata": {},
     "outputs": []
    },
    {
     "cell_type": "code",
     "collapsed": false,
     "input": [
      "d = Distributions.Poisson()"
     ],
     "language": "python",
     "metadata": {},
     "outputs": []
    },
    {
     "cell_type": "code",
     "collapsed": false,
     "input": [
      "rand(d, 10)"
     ],
     "language": "python",
     "metadata": {},
     "outputs": []
    },
    {
     "cell_type": "code",
     "collapsed": false,
     "input": [
      "methods(Normal)"
     ],
     "language": "python",
     "metadata": {},
     "outputs": []
    },
    {
     "cell_type": "code",
     "collapsed": false,
     "input": [
      "d = Normal(10, .001)"
     ],
     "language": "python",
     "metadata": {},
     "outputs": []
    },
    {
     "cell_type": "code",
     "collapsed": false,
     "input": [
      "rand(d, 10)"
     ],
     "language": "python",
     "metadata": {},
     "outputs": []
    },
    {
     "cell_type": "code",
     "collapsed": false,
     "input": [
      "using Color"
     ],
     "language": "python",
     "metadata": {},
     "outputs": []
    },
    {
     "cell_type": "code",
     "collapsed": false,
     "input": [
      "[ HSV(h, s, 1) for h = 0:20:360, s = 0:.1:1 ]"
     ],
     "language": "python",
     "metadata": {},
     "outputs": []
    },
    {
     "cell_type": "code",
     "collapsed": false,
     "input": [
      "using FixedPointNumbers"
     ],
     "language": "python",
     "metadata": {},
     "outputs": []
    },
    {
     "cell_type": "code",
     "collapsed": false,
     "input": [
      "x = convert(Fixed32{20}, 1.0pi)"
     ],
     "language": "python",
     "metadata": {},
     "outputs": []
    },
    {
     "cell_type": "code",
     "collapsed": false,
     "input": [
      "dump(x)"
     ],
     "language": "python",
     "metadata": {},
     "outputs": []
    },
    {
     "cell_type": "markdown",
     "metadata": {},
     "source": [
      "# Modules"
     ]
    },
    {
     "cell_type": "markdown",
     "metadata": {},
     "source": [
      "A *module* is a way to encapsulate code in a namespace. The syntax is as follows\n",
      "\n",
      "```\n",
      "module NAME\n",
      "\n",
      "import Base.show, Base.getindex   # imports to extend Base functions\n",
      "export A, B   # exports\n",
      "\n",
      "...\n",
      "\n",
      "end\n",
      "```\n",
      "\n",
      "We can then do\n",
      "`using NAME` \n",
      "to use the functionality."
     ]
    }
   ],
   "metadata": {}
  }
 ]
}