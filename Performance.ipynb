{
 "metadata": {
  "language": "Julia",
  "name": "",
  "signature": "sha256:d626340af21f8d147b9383b7356827d91ec39cb12d353836849107f24b740e24"
 },
 "nbformat": 3,
 "nbformat_minor": 0,
 "worksheets": [
  {
   "cells": [
    {
     "cell_type": "markdown",
     "metadata": {},
     "source": [
      "As a JIT (\"Just in Time\")-compiled language, Julia is designed for good performance. Currently, it is usually expected that it should usually be able to reach speeds within at most a factor of 2 of that of corresponding C code.\n",
      "\n",
      "However, to attain decent performance, there are certain principles that must be used in code; see the [Performance tips](http://julia.readthedocs.org/en/latest/manual/performance-tips/) section of the Julia manual for more details."
     ]
    },
    {
     "cell_type": "heading",
     "level": 2,
     "metadata": {},
     "source": [
      "Timing"
     ]
    },
    {
     "cell_type": "markdown",
     "metadata": {},
     "source": [
      "When timing, always run each function once with the correct argument types before timing it, since the first time it is run the compilation time will play a large role."
     ]
    },
    {
     "cell_type": "code",
     "collapsed": false,
     "input": [
      "@time sin(10)"
     ],
     "language": "python",
     "metadata": {},
     "outputs": []
    },
    {
     "cell_type": "code",
     "collapsed": false,
     "input": [
      "@time sin(10)"
     ],
     "language": "python",
     "metadata": {},
     "outputs": []
    },
    {
     "cell_type": "heading",
     "level": 2,
     "metadata": {},
     "source": [
      "Avoid global variables"
     ]
    },
    {
     "cell_type": "markdown",
     "metadata": {},
     "source": [
      "Global variables are slow in Julia: **do not use global variables!**\n",
      "\n",
      "Your main program should be wrapped in a function.\n",
      "Any time you are tempted to use globals, just send them as arguments to functions, and return them if necessary.\n",
      "\n",
      "If you have many variables to pass around, wrap them in a type, e.g. called `State`.\n",
      "\n",
      "You'll thank us later!"
     ]
    },
    {
     "cell_type": "heading",
     "level": 2,
     "metadata": {},
     "source": [
      "Type stability"
     ]
    },
    {
     "cell_type": "markdown",
     "metadata": {},
     "source": [
      "The second important idea for gaining performance is that of *type stability*.\n",
      "\n",
      "Any calculation will be immediately slowed down by having variables which can change type during a calculation, simply due to the extra work that must be done at run-time to check the type of the variables. (This is one of the main reasons for the slowness of Python and the necessity for type declarations in Cython to gain speed.)"
     ]
    },
    {
     "cell_type": "markdown",
     "metadata": {},
     "source": [
      "A simple example (due to Leah Hanson) is the following pair of almost-identical functions:"
     ]
    },
    {
     "cell_type": "code",
     "collapsed": false,
     "input": [
      "function sum1(N::Int)\n",
      "    total = 0\n",
      "    \n",
      "    for i in 1:N\n",
      "        total += i/2\n",
      "    end\n",
      "    \n",
      "    total\n",
      "end\n",
      "\n",
      "function sum2(N::Int)\n",
      "    total = 0.0\n",
      "    \n",
      "    for i in 1:N\n",
      "        total += i/2\n",
      "    end\n",
      "    \n",
      "    total\n",
      "end"
     ],
     "language": "python",
     "metadata": {},
     "outputs": []
    },
    {
     "cell_type": "markdown",
     "metadata": {},
     "source": [
      "We must first run the functions once each to compile them, before looking at any timings:"
     ]
    },
    {
     "cell_type": "code",
     "collapsed": false,
     "input": [
      "sum1(10), sum2(10)"
     ],
     "language": "python",
     "metadata": {},
     "outputs": []
    },
    {
     "cell_type": "markdown",
     "metadata": {},
     "source": [
      "[Happily, they produce the same result!]"
     ]
    },
    {
     "cell_type": "code",
     "collapsed": false,
     "input": [
      "N = 10000000\n",
      "\n",
      "@time sum1(N)\n",
      "@time sum2(N)"
     ],
     "language": "python",
     "metadata": {},
     "outputs": []
    },
    {
     "cell_type": "markdown",
     "metadata": {},
     "source": [
      "The second version is consistently over **10 times faster** than the first version, due simply to type stability. It also allocates almost no memory. The first version allocates an enormous amount of memory (in fact, it is allocating and deallocating all the time), and spends a large fraction of its time in garbage collection."
     ]
    },
    {
     "cell_type": "markdown",
     "metadata": {},
     "source": [
      "To help with type stability, there are functions `zero(x)` and `one(x)` that return the correctly-typed zero and one with the same type as the variable `x`:"
     ]
    },
    {
     "cell_type": "markdown",
     "metadata": {},
     "source": [
      "Packages: `Lint.jl`, `TypeCheck.jl`"
     ]
    },
    {
     "cell_type": "code",
     "collapsed": false,
     "input": [
      "x = 1\n",
      "zero(x)"
     ],
     "language": "python",
     "metadata": {},
     "outputs": []
    },
    {
     "cell_type": "code",
     "collapsed": false,
     "input": [
      "y = 0.5\n",
      "zero(y)"
     ],
     "language": "python",
     "metadata": {},
     "outputs": []
    },
    {
     "cell_type": "code",
     "collapsed": false,
     "input": [
      "x = BigFloat(\"0.1\")\n",
      "one(x)"
     ],
     "language": "python",
     "metadata": {},
     "outputs": []
    },
    {
     "cell_type": "heading",
     "level": 2,
     "metadata": {},
     "source": [
      "Exploring the guts"
     ]
    },
    {
     "cell_type": "markdown",
     "metadata": {},
     "source": [
      "Julia gives us access to basically every step in the compilation process:"
     ]
    },
    {
     "cell_type": "code",
     "collapsed": false,
     "input": [
      "code_lowered(sum1, (Int,))"
     ],
     "language": "python",
     "metadata": {},
     "outputs": []
    },
    {
     "cell_type": "code",
     "collapsed": false,
     "input": [
      "code_lowered(sum2, (Int,))"
     ],
     "language": "python",
     "metadata": {},
     "outputs": []
    },
    {
     "cell_type": "code",
     "collapsed": false,
     "input": [
      "code_typed(sum1, (Int,))"
     ],
     "language": "python",
     "metadata": {},
     "outputs": []
    },
    {
     "cell_type": "code",
     "collapsed": false,
     "input": [
      "code_typed(sum2, (Int,))"
     ],
     "language": "python",
     "metadata": {},
     "outputs": []
    },
    {
     "cell_type": "code",
     "collapsed": false,
     "input": [
      "code_llvm(sum1, (Int, ))"
     ],
     "language": "python",
     "metadata": {},
     "outputs": []
    },
    {
     "cell_type": "code",
     "collapsed": false,
     "input": [
      "code_native(sum1, (Int,))"
     ],
     "language": "python",
     "metadata": {},
     "outputs": []
    },
    {
     "cell_type": "code",
     "collapsed": false,
     "input": [
      "code_llvm(sum2,(Int,))"
     ],
     "language": "python",
     "metadata": {},
     "outputs": []
    },
    {
     "cell_type": "code",
     "collapsed": false,
     "input": [
      "code_native(sum2, (Int,))"
     ],
     "language": "python",
     "metadata": {},
     "outputs": []
    },
    {
     "cell_type": "heading",
     "level": 1,
     "metadata": {},
     "source": [
      "Profiling"
     ]
    },
    {
     "cell_type": "markdown",
     "metadata": {},
     "source": [
      "Simple profiling of a function may be achieved using the `@time` macro\n",
      "\n",
      "A detailed profile may be obtained using `@profile`.\n",
      "\n",
      "A graphical view is available via the `ProfileView.jl` package."
     ]
    },
    {
     "cell_type": "code",
     "collapsed": false,
     "input": [
      "function f(n, iter)\n",
      "    for i = 1:iter\n",
      "        M = rand(n,n)     # line 3\n",
      "        M*M               # line 4\n",
      "    end\n",
      "end"
     ],
     "language": "python",
     "metadata": {},
     "outputs": []
    },
    {
     "cell_type": "code",
     "collapsed": false,
     "input": [
      "@profile f(100, 2000)"
     ],
     "language": "python",
     "metadata": {},
     "outputs": []
    },
    {
     "cell_type": "code",
     "collapsed": false,
     "input": [
      "Profile.print()"
     ],
     "language": "python",
     "metadata": {},
     "outputs": []
    },
    {
     "cell_type": "code",
     "collapsed": false,
     "input": [
      "Profile.clear()"
     ],
     "language": "python",
     "metadata": {},
     "outputs": []
    },
    {
     "cell_type": "code",
     "collapsed": false,
     "input": [
      "@profile f(500, 200)"
     ],
     "language": "python",
     "metadata": {},
     "outputs": []
    },
    {
     "cell_type": "code",
     "collapsed": false,
     "input": [
      "Profile.print()"
     ],
     "language": "python",
     "metadata": {},
     "outputs": []
    }
   ],
   "metadata": {}
  }
 ]
}